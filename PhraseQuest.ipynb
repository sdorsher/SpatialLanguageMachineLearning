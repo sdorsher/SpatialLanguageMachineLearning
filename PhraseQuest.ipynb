{
 "cells": [
  {
   "cell_type": "markdown",
   "metadata": {},
   "source": [
    "# Phrase Quest"
   ]
  },
  {
   "cell_type": "markdown",
   "metadata": {},
   "source": [
    "This analysis is intended as a step toward an application called Phrase Quest. Phrase Quest is a game to associate phrases with places to create a geographic road tour map out of these associations. The hope is to create a snapshot of a road tour out of phrases, colloquialisms, key words in scientific fields, inside jokes, or song lyrics. \n",
    "\n",
    "\n",
    "In the technical details, the application will map discrete data in four dimensions to real data in two dimensions. While this is a broadly applicable technical task, I am applying it the specific problem of creating a simplistic secret code based on airport name data and latitudes and longitudes from OpenFlights.org. I have explored using Twitter data but do not currently have a Twitter developer's licence.  . "
   ]
  },
  {
   "cell_type": "code",
   "execution_count": 1,
   "metadata": {
    "collapsed": true
   },
   "outputs": [],
   "source": [
    "#!/usr/bin/python\n",
    "import os, sys, random\n",
    "\n",
    "from sklearn.preprocessing import StandardScaler\n",
    "from sklearn.preprocessing import PolynomialFeatures\n",
    "from sklearn.linear_model import SGDClassifier\n",
    "from sklearn.multiclass import OneVsRestClassifier\n",
    "import matplotlib.cm as cm\n",
    "import matplotlib.pyplot as plt\n",
    "from sklearn.cluster import KMeans\n",
    "from scipy.stats import norm\n",
    "from scipy.optimize import curve_fit\n",
    "from scipy.stats import cauchy\n",
    "import numpy as np\n",
    "from io import StringIO\n",
    "import re\n",
    "from sklearn.model_selection import train_test_split\n",
    "from sklearn.naive_bayes import MultinomialNB\n",
    "from sklearn.decomposition import KernelPCA\n",
    "from sklearn.linear_model import LinearRegression\n",
    "\n"
   ]
  },
  {
   "cell_type": "markdown",
   "metadata": {},
   "source": [
    "I begin by defining some functions that will be used later. These have to do with the scaling of the linguistic data and the processing of the text."
   ]
  },
  {
   "cell_type": "code",
   "execution_count": 2,
   "metadata": {
    "collapsed": true
   },
   "outputs": [],
   "source": [
    "\n",
    "\n",
    "def powerlaw(x,a,b,c):\n",
    "    return a*x**b+c\n",
    "\n",
    "def f5(x,a,b,c,d,g,h):\n",
    "    return a*x**5+b*x**4+c*x**3+d*x**2+g*x+h\n",
    "\n",
    "def f3(x,a,b,c,d):\n",
    "    return a*x**3+b*x**2+c*x+d\n",
    "\n",
    "def VowelToConsRatio(name):\n",
    "    \n",
    "    words = sum(c.isalpha() for c in name)\n",
    "    spaces = sum(c.isspace() for c in name)\n",
    "    others = len(name) - words - spaces\n",
    "    vowels = sum(map(name.lower().count, \"aeiou\"))\n",
    "    consonents = words - vowels\n",
    "\n",
    "\n",
    "    return float(vowels)/float(consonents), float(spaces)/float(consonents), float(others)/float(consonents)\n",
    "\n",
    "\n",
    "\n",
    "def AirportNameLetterFrequency(name):\n",
    "    \n",
    "    words = sum(c.isalpha() for c in name)\n",
    "    spaces = sum(c.isspace() for c in name)\n",
    "    others = len(name) - words - spaces\n",
    "    vowels = sum(map(name.lower().count, \"aeiou\"))\n",
    "    consonents = words - vowels\n",
    "    #put a one at the end to account for one airport in number totaled. will be normalized later\n",
    "\n",
    "    return consonents, vowels, spaces, others\n",
    "\n",
    "\n",
    "def MergeCount(totalCount, thisCount):\n",
    "    totalCount2=totalCount+thisCount\n",
    "    return totalCount2\n",
    "\n",
    "\n",
    "def transformphrase(testphrases,poly,clf):\n",
    "    xphrases=[]\n",
    "    for phrase in testphrases:\n",
    "        print(phrase)\n",
    "        vtc, stc, otc = VowelToConsRatio(phrase)\n",
    "        xphrases.append([vtc,stc,otc])\n",
    "    scaler=StandardScaler()\n",
    "    xphrases2=scaler.fit_transform(xphrases)\n",
    "    Poly_phrases=poly.fit_transform(xphrases2)\n",
    "    Y_latlon=clf.predict(Poly_phrases)\n",
    "    return Y_latlon\n",
    "\n",
    "\n",
    "\n",
    "def LatLongClassMaker(coor):\n",
    "    lat,long=coor\n",
    "    if lat<30:\n",
    "        if long>-90:\n",
    "            return 1 #florida\n",
    "        elif long < -120:\n",
    "            return 2 #hawaii\n",
    "        else:\n",
    "            return 3 #texas\n",
    "    elif lat >50:\n",
    "        return 4 #alaska\n",
    "    elif long> -80 and lat < 40:\n",
    "        return 5 #south east\n",
    "    elif long> -80 and lat >40:\n",
    "        return 6 #new england\n",
    "    elif long< -80:\n",
    "        return int((50-lat)/20.*5)*int((125+long)/45.*9)+7\n",
    "    else:\n",
    "        return 0\n",
    "    #worst mapping ever-- ignores new england and city diversity\n",
    "    return 0\n",
    "\n",
    "\n",
    "\n",
    "\n",
    "\n"
   ]
  },
  {
   "cell_type": "markdown",
   "metadata": {},
   "source": [
    "This data contains airports, train stops, and bus terminals throughout the world supplied by users. "
   ]
  },
  {
   "cell_type": "code",
   "execution_count": 3,
   "metadata": {
    "collapsed": true
   },
   "outputs": [],
   "source": [
    "file = open(\"airports-extended.dat.txt\",\"r\")"
   ]
  },
  {
   "cell_type": "markdown",
   "metadata": {},
   "source": [
    "# Histograms of scaling of language data"
   ]
  },
  {
   "cell_type": "code",
   "execution_count": 4,
   "metadata": {
    "collapsed": true
   },
   "outputs": [],
   "source": [
    "totalUSAcount=np.zeros(5)\n",
    "totalChinacount=np.zeros(5)\n",
    "totalEnglandcount=np.zeros(5)\n",
    "totalFrancecount=np.zeros(5)\n",
    "totalGermanycount=np.zeros(5)\n",
    "totalMexicocount=np.zeros(5)\n",
    "totalCanadacount=np.zeros(5)\n",
    "\n",
    "\n",
    "\n",
    "#I picked some countries I have familiarity with so I know whether or not the data makes sense when I see it, sort of.\n",
    "\n",
    "#what I want is the histogram of counts within each country to compare distributions between countries by eye. I can then look at a regression within the US by longitude and lattitude (actual distance from Chicago?) if it looks interesting\n",
    "\n",
    "Chinavowel=[]\n",
    "Chinacons=[]\n",
    "USvowel=[]\n",
    "UScons=[]\n",
    "Englandvowel=[]\n",
    "Englandcons=[]\n",
    "Francevowel=[]\n",
    "Francecons=[]\n",
    "Germanyvowel=[]\n",
    "Germanycons=[]\n",
    "Mexicovowel=[]\n",
    "Mexicocons=[]\n",
    "Canadavowel=[]\n",
    "Canadacons=[]\n",
    "\n",
    "for line in file:\n",
    "    line=re.split(',',line);\n",
    "    if line[3] == \"\\\"China\\\"\":\n",
    "        thisChinacount = AirportNameLetterFrequency(line[1])\n",
    "        Chinavowel.append(thisChinacount[1])\n",
    "        Chinacons.append(thisChinacount[0])\n",
    "    if line[3] == \"\\\"United States\\\"\":\n",
    "        thisUSAcount = AirportNameLetterFrequency(line[1])\n",
    "        USvowel.append(thisUSAcount[1])\n",
    "        UScons.append(thisUSAcount[0])\n",
    "    \n",
    "    if line[3] == \"\\\"United Kingdom\\\"\":\n",
    "        thisEnglandcount = AirportNameLetterFrequency(line[1])\n",
    "        Englandvowel.append(thisEnglandcount[1])\n",
    "        Englandcons.append(thisEnglandcount[0])\n",
    "    \n",
    "    if line[3] == \"\\\"France\\\"\":\n",
    "        thisFrancecount = AirportNameLetterFrequency(line[1])\n",
    "        Francevowel.append(thisFrancecount[1])\n",
    "        Francecons.append(thisFrancecount[0])\n",
    "    \n",
    "    if line[3] == \"\\\"Germany\\\"\":\n",
    "        thisGermanycount = AirportNameLetterFrequency(line[1])\n",
    "        Germanyvowel.append(thisGermanycount[1])\n",
    "        Germanycons.append(thisGermanycount[0])\n",
    "    \n",
    "    if line[3] == \"\\\"Mexico\\\"\" :\n",
    "        thisMexicocount = AirportNameLetterFrequency(line[1])\n",
    "        Mexicovowel.append(thisMexicocount[1])\n",
    "        Mexicocons.append(thisMexicocount[0])\n",
    "    if line[3] == \"\\\"Canada\\\"\" :\n",
    "        thisCanadacount = AirportNameLetterFrequency(line[1])\n",
    "        Canadavowel.append(thisCanadacount[1])\n",
    "        Canadacons.append(thisCanadacount[0])\n",
    "        \n",
    "                "
   ]
  },
  {
   "cell_type": "code",
   "execution_count": 5,
   "metadata": {},
   "outputs": [
    {
     "data": {
      "image/png": "[encoded data removed]",
      "text/plain": [
       "<Figure size 432x288 with 1 Axes>"
      ]
     },
     "metadata": {},
     "output_type": "display_data"
    }
   ],
   "source": [
    "fig, ax = plt.subplots()\n",
    "n_groups=len(Chinavowel)\n",
    "index=np.arange(n_groups)\n",
    "bar_width=0.35\n",
    "opacity = 0.8\n",
    "rects2 = plt.bar(index, np.sort(np.asarray(Chinacons)), bar_width, alpha=opacity, color='g', label='Consonants')\n",
    "rects1 = plt.bar(index, np.sort(np.asarray(Chinavowel)), bar_width, alpha=opacity, color='b', label='Vowels')\n",
    "\n",
    "\n",
    "plt.xlabel('Airports in China')\n",
    "plt.ylabel('Letters in Airport names in China')\n",
    "plt.legend()\n",
    "\n",
    "plt.tight_layout()\n",
    "plt.show()"
   ]
  },
  {
   "cell_type": "code",
   "execution_count": 6,
   "metadata": {},
   "outputs": [
    {
     "data": {
      "image/png": "[encoded data removed]",
      "text/plain": [
       "<Figure size 432x288 with 1 Axes>"
      ]
     },
     "metadata": {},
     "output_type": "display_data"
    }
   ],
   "source": [
    "fig, ax = plt.subplots()\n",
    "n_groups=len(USvowel)\n",
    "index=np.arange(n_groups)\n",
    "bar_width=0.35\n",
    "opacity = 0.8\n",
    "rects2 = plt.bar(index, np.sort(np.asarray(UScons)), bar_width, alpha=opacity, color='g', label='Consonants')\n",
    "rects1 = plt.bar(index, np.sort(np.asarray(USvowel)), bar_width, alpha=opacity, color='b', label='Vowels')\n",
    "\n",
    "\n",
    "plt.xlabel('Airports in the USA')\n",
    "plt.ylabel('Letters in Airport names in the USA')\n",
    "plt.legend()\n",
    "\n",
    "plt.tight_layout()\n",
    "plt.show()"
   ]
  },
  {
   "cell_type": "code",
   "execution_count": 7,
   "metadata": {},
   "outputs": [
    {
     "data": {
      "image/png": "[encoded data removed]",
      "text/plain": [
       "<Figure size 432x288 with 1 Axes>"
      ]
     },
     "metadata": {},
     "output_type": "display_data"
    }
   ],
   "source": [
    "fig, ax = plt.subplots()\n",
    "n_groups=len(Mexicovowel)\n",
    "index=np.arange(n_groups)\n",
    "bar_width=0.35\n",
    "opacity = 0.8\n",
    "rects2 = plt.bar(index, np.sort(np.asarray(Mexicocons)), bar_width, alpha=opacity, color='g', label='Consonants')\n",
    "rects1 = plt.bar(index, np.sort(np.asarray(Mexicovowel)), bar_width, alpha=opacity, color='b', label='Vowels')\n",
    "\n",
    "\n",
    "plt.xlabel('Airports in Mexico')\n",
    "plt.ylabel('Letters in Airport names in Mexico')\n",
    "plt.legend()\n",
    "\n",
    "plt.tight_layout()\n",
    "plt.show()"
   ]
  },
  {
   "cell_type": "code",
   "execution_count": 8,
   "metadata": {},
   "outputs": [
    {
     "data": {
      "image/png": "[encoded data removed]",
      "text/plain": [
       "<Figure size 432x288 with 1 Axes>"
      ]
     },
     "metadata": {},
     "output_type": "display_data"
    }
   ],
   "source": [
    "fig, ax = plt.subplots()\n",
    "n_groups=len(Germanyvowel)\n",
    "index=np.arange(n_groups)\n",
    "bar_width=0.35\n",
    "opacity = 0.8\n",
    "rects2 = plt.bar(index, np.sort(np.asarray(Germanycons)), bar_width, alpha=opacity, color='g', label='Consonants')\n",
    "rects1 = plt.bar(index, np.sort(np.asarray(Germanyvowel)), bar_width, alpha=opacity, color='b', label='Vowels')\n",
    "\n",
    "\n",
    "plt.xlabel('Airports in Germany')\n",
    "plt.ylabel('Letters in Airport names in Germany')\n",
    "plt.legend()\n",
    "\n",
    "plt.tight_layout()\n",
    "plt.show()"
   ]
  },
  {
   "cell_type": "markdown",
   "metadata": {},
   "source": [
    "# Making discrete data continuous"
   ]
  },
  {
   "cell_type": "markdown",
   "metadata": {},
   "source": [
    "I use a standard technique in machine learning to make discrete data continuous. I take a ratio of two discrete quantities, in particular the consonant symbol count forms the denomonator. Rehistogramming, I seek to find a fit to the shape of the scaling so that I may transform the data for a regression."
   ]
  },
  {
   "cell_type": "code",
   "execution_count": 9,
   "metadata": {
    "collapsed": true
   },
   "outputs": [],
   "source": [
    "file = open(\"airports-extended.dat.txt\",\"r\")\n",
    "totalUSAcount=np.zeros(5)\n",
    "totalChinacount=np.zeros(5)\n",
    "totalEnglandcount=np.zeros(5)\n",
    "totalFrancecount=np.zeros(5)\n",
    "totalGermanycount=np.zeros(5)\n",
    "totalMexicocount=np.zeros(5)\n",
    "totalCanadacount=np.zeros(5)\n",
    "\n",
    "\n",
    "\n",
    "#I picked some countries I have familiarity with so I know whether or not the data makes sense when I see it, sort of.\n",
    "\n",
    "#what I want is the histogram of counts within each country to compare distributions between countries by eye. I can then look at a regression within the US by longitude and lattitude (actual distance from Chicago?) if it looks interesting\n",
    "\n",
    "\n",
    "Chinaratio=[]\n",
    "USAratio=[]\n",
    "Englandratio=[]\n",
    "Germanyratio=[]\n",
    "Franceratio=[]\n",
    "Canadaratio=[]\n",
    "Mexicoratio=[]\n",
    "\n",
    "for line in file:\n",
    "    line=re.split(',',line);\n",
    "#    if line[3] == \"\\\"China\\\"\":\n",
    "#        thisChinaratio = VowelToConsRatio(line[1])\n",
    "#        Chinaratio.append(thisChinaratio)\n",
    "    if line[3] == \"\\\"United States\\\"\":\n",
    "        thisUSAratio = VowelToConsRatio(line[1])\n",
    "        USAratio.append(thisUSAratio)\n",
    "    if line[3] == \"\\\"United Kingdom\\\"\":\n",
    "        thisEnglandratio = VowelToConsRatio(line[1])\n",
    "        Englandratio.append(thisEnglandratio)\n",
    "    \n",
    "    if line[3] == \"\\\"France\\\"\":\n",
    "        thisFranceratio = VowelToConsRatio(line[1])\n",
    "        Franceratio.append(thisFranceratio)\n",
    "    \n",
    "    \n",
    "    if line[3] == \"\\\"Germany\\\"\":#\n",
    "        thisGermanyratio = VowelToConsRatio(line[1])\n",
    "        Germanyratio.append(thisGermanyratio)\n",
    "    \n",
    "    if line[3] == \"\\\"Mexico\\\"\" :\n",
    "        thisMexicoratio = VowelToConsRatio(line[1])\n",
    "        Mexicoratio.append(thisMexicoratio)\n",
    "    if line[3] == \"\\\"Canada\\\"\" :\n",
    "        thisCanadaratio = VowelToConsRatio(line[1])\n",
    "        Canadaratio.append(thisCanadaratio)\n",
    "        \n",
    "                \n",
    "Canadaarr=np.asarray(Canadaratio)\n",
    "Canadaarr.sort()\n",
    "USAarr=np.asarray(USAratio)\n",
    "USAarr.sort()\n",
    "UKarr=np.asarray(Englandratio)\n",
    "UKarr.sort()\n",
    "Francearr=np.asarray(Franceratio)\n",
    "Francearr.sort()\n",
    "Germanyarr=np.asarray(Germanyratio)\n",
    "Germanyarr.sort()\n",
    "Mexicoarr=np.asarray(Mexicoratio)\n",
    "Mexicoarr.sort()\n"
   ]
  },
  {
   "cell_type": "code",
   "execution_count": 10,
   "metadata": {},
   "outputs": [
    {
     "data": {
      "text/plain": [
       "(2294, 3)"
      ]
     },
     "execution_count": 10,
     "metadata": {},
     "output_type": "execute_result"
    }
   ],
   "source": [
    "np.shape(USAarr)"
   ]
  },
  {
   "cell_type": "code",
   "execution_count": 11,
   "metadata": {},
   "outputs": [
    {
     "data": {
      "text/html": [
       "\n",
       "    <div class=\"bk-root\">\n",
       "        <a href=\"https://bokeh.pydata.org\" target=\"_blank\" class=\"bk-logo bk-logo-small bk-logo-notebook\"></a>\n",
       "        <span id=\"a55ad95e-0eae-4ca4-883b-2fbfdbf80952\">Loading BokehJS ...</span>\n",
       "    </div>"
      ]
     },
     "metadata": {},
     "output_type": "display_data"
    },
    {
     "data": {
      "application/javascript": [
       "\n",
       "(function(root) {\n",
       "  function now() {\n",
       "    return new Date();\n",
       "  }\n",
       "\n",
       "  var force = true;\n",
       "\n",
       "  if (typeof (root._bokeh_onload_callbacks) === \"undefined\" || force === true) {\n",
       "    root._bokeh_onload_callbacks = [];\n",
       "    root._bokeh_is_loading = undefined;\n",
       "  }\n",
       "\n",
       "  var JS_MIME_TYPE = 'application/javascript';\n",
       "  var HTML_MIME_TYPE = 'text/html';\n",
       "  var EXEC_MIME_TYPE = 'application/vnd.bokehjs_exec.v0+json';\n",
       "  var CLASS_NAME = 'output_bokeh rendered_html';\n",
       "\n",
       "  /**\n",
       "   * Render data to the DOM node\n",
       "   */\n",
       "  function render(props, node) {\n",
       "    var script = document.createElement(\"script\");\n",
       "    node.appendChild(script);\n",
       "  }\n",
       "\n",
       "  /**\n",
       "   * Handle when an output is cleared or removed\n",
       "   */\n",
       "  function handleClearOutput(event, handle) {\n",
       "    var cell = handle.cell;\n",
       "\n",
       "    var id = cell.output_area._bokeh_element_id;\n",
       "    var server_id = cell.output_area._bokeh_server_id;\n",
       "    // Clean up Bokeh references\n",
       "    if (id !== undefined) {\n",
       "      Bokeh.index[id].model.document.clear();\n",
       "      delete Bokeh.index[id];\n",
       "    }\n",
       "\n",
       "    if (server_id !== undefined) {\n",
       "      // Clean up Bokeh references\n",
       "      var cmd = \"from bokeh.io.state import curstate; print(curstate().uuid_to_server['\" + server_id + \"'].get_sessions()[0].document.roots[0]._id)\";\n",
       "      cell.notebook.kernel.execute(cmd, {\n",
       "        iopub: {\n",
       "          output: function(msg) {\n",
       "            var element_id = msg.content.text.trim();\n",
       "            Bokeh.index[element_id].model.document.clear();\n",
       "            delete Bokeh.index[element_id];\n",
       "          }\n",
       "        }\n",
       "      });\n",
       "      // Destroy server and session\n",
       "      var cmd = \"import bokeh.io.notebook as ion; ion.destroy_server('\" + server_id + \"')\";\n",
       "      cell.notebook.kernel.execute(cmd);\n",
       "    }\n",
       "  }\n",
       "\n",
       "  /**\n",
       "   * Handle when a new output is added\n",
       "   */\n",
       "  function handleAddOutput(event, handle) {\n",
       "    var output_area = handle.output_area;\n",
       "    var output = handle.output;\n",
       "\n",
       "    // limit handleAddOutput to display_data with EXEC_MIME_TYPE content only\n",
       "    if ((output.output_type != \"display_data\") || (!output.data.hasOwnProperty(EXEC_MIME_TYPE))) {\n",
       "      return\n",
       "    }\n",
       "\n",
       "    var toinsert = output_area.element.find(\".\" + CLASS_NAME.split(' ')[0]);\n",
       "\n",
       "    if (output.metadata[EXEC_MIME_TYPE][\"id\"] !== undefined) {\n",
       "      toinsert[toinsert.length - 1].firstChild.textContent = output.data[JS_MIME_TYPE];\n",
       "      // store reference to embed id on output_area\n",
       "      output_area._bokeh_element_id = output.metadata[EXEC_MIME_TYPE][\"id\"];\n",
       "    }\n",
       "    if (output.metadata[EXEC_MIME_TYPE][\"server_id\"] !== undefined) {\n",
       "      var bk_div = document.createElement(\"div\");\n",
       "      bk_div.innerHTML = output.data[HTML_MIME_TYPE];\n",
       "      var script_attrs = bk_div.children[0].attributes;\n",
       "      for (var i = 0; i < script_attrs.length; i++) {\n",
       "        toinsert[toinsert.length - 1].firstChild.setAttribute(script_attrs[i].name, script_attrs[i].value);\n",
       "      }\n",
       "      // store reference to server id on output_area\n",
       "      output_area._bokeh_server_id = output.metadata[EXEC_MIME_TYPE][\"server_id\"];\n",
       "    }\n",
       "  }\n",
       "\n",
       "  function register_renderer(events, OutputArea) {\n",
       "\n",
       "    function append_mime(data, metadata, element) {\n",
       "      // create a DOM node to render to\n",
       "      var toinsert = this.create_output_subarea(\n",
       "        metadata,\n",
       "        CLASS_NAME,\n",
       "        EXEC_MIME_TYPE\n",
       "      );\n",
       "      this.keyboard_manager.register_events(toinsert);\n",
       "      // Render to node\n",
       "      var props = {data: data, metadata: metadata[EXEC_MIME_TYPE]};\n",
       "      render(props, toinsert[toinsert.length - 1]);\n",
       "      element.append(toinsert);\n",
       "      return toinsert\n",
       "    }\n",
       "\n",
       "    /* Handle when an output is cleared or removed */\n",
       "    events.on('clear_output.CodeCell', handleClearOutput);\n",
       "    events.on('delete.Cell', handleClearOutput);\n",
       "\n",
       "    /* Handle when a new output is added */\n",
       "    events.on('output_added.OutputArea', handleAddOutput);\n",
       "\n",
       "    /**\n",
       "     * Register the mime type and append_mime function with output_area\n",
       "     */\n",
       "    OutputArea.prototype.register_mime_type(EXEC_MIME_TYPE, append_mime, {\n",
       "      /* Is output safe? */\n",
       "      safe: true,\n",
       "      /* Index of renderer in `output_area.display_order` */\n",
       "      index: 0\n",
       "    });\n",
       "  }\n",
       "\n",
       "  // register the mime type if in Jupyter Notebook environment and previously unregistered\n",
       "  if (root.Jupyter !== undefined) {\n",
       "    var events = require('base/js/events');\n",
       "    var OutputArea = require('notebook/js/outputarea').OutputArea;\n",
       "\n",
       "    if (OutputArea.prototype.mime_types().indexOf(EXEC_MIME_TYPE) == -1) {\n",
       "      register_renderer(events, OutputArea);\n",
       "    }\n",
       "  }\n",
       "\n",
       "  \n",
       "  if (typeof (root._bokeh_timeout) === \"undefined\" || force === true) {\n",
       "    root._bokeh_timeout = Date.now() + 5000;\n",
       "    root._bokeh_failed_load = false;\n",
       "  }\n",
       "\n",
       "  var NB_LOAD_WARNING = {'data': {'text/html':\n",
       "     \"<div style='background-color: #fdd'>\\n\"+\n",
       "     \"<p>\\n\"+\n",
       "     \"BokehJS does not appear to have successfully loaded. If loading BokehJS from CDN, this \\n\"+\n",
       "     \"may be due to a slow or bad network connection. Possible fixes:\\n\"+\n",
       "     \"</p>\\n\"+\n",
       "     \"<ul>\\n\"+\n",
       "     \"<li>re-rerun `output_notebook()` to attempt to load from CDN again, or</li>\\n\"+\n",
       "     \"<li>use INLINE resources instead, as so:</li>\\n\"+\n",
       "     \"</ul>\\n\"+\n",
       "     \"<code>\\n\"+\n",
       "     \"from bokeh.resources import INLINE\\n\"+\n",
       "     \"output_notebook(resources=INLINE)\\n\"+\n",
       "     \"</code>\\n\"+\n",
       "     \"</div>\"}};\n",
       "\n",
       "  function display_loaded() {\n",
       "    var el = document.getElementById(\"a55ad95e-0eae-4ca4-883b-2fbfdbf80952\");\n",
       "    if (el != null) {\n",
       "      el.textContent = \"BokehJS is loading...\";\n",
       "    }\n",
       "    if (root.Bokeh !== undefined) {\n",
       "      if (el != null) {\n",
       "        el.textContent = \"BokehJS \" + root.Bokeh.version + \" successfully loaded.\";\n",
       "      }\n",
       "    } else if (Date.now() < root._bokeh_timeout) {\n",
       "      setTimeout(display_loaded, 100)\n",
       "    }\n",
       "  }\n",
       "\n",
       "\n",
       "  function run_callbacks() {\n",
       "    try {\n",
       "      root._bokeh_onload_callbacks.forEach(function(callback) { callback() });\n",
       "    }\n",
       "    finally {\n",
       "      delete root._bokeh_onload_callbacks\n",
       "    }\n",
       "    console.info(\"Bokeh: all callbacks have finished\");\n",
       "  }\n",
       "\n",
       "  function load_libs(js_urls, callback) {\n",
       "    root._bokeh_onload_callbacks.push(callback);\n",
       "    if (root._bokeh_is_loading > 0) {\n",
       "      console.log(\"Bokeh: BokehJS is being loaded, scheduling callback at\", now());\n",
       "      return null;\n",
       "    }\n",
       "    if (js_urls == null || js_urls.length === 0) {\n",
       "      run_callbacks();\n",
       "      return null;\n",
       "    }\n",
       "    console.log(\"Bokeh: BokehJS not loaded, scheduling load and callback at\", now());\n",
       "    root._bokeh_is_loading = js_urls.length;\n",
       "    for (var i = 0; i < js_urls.length; i++) {\n",
       "      var url = js_urls[i];\n",
       "      var s = document.createElement('script');\n",
       "      s.src = url;\n",
       "      s.async = false;\n",
       "      s.onreadystatechange = s.onload = function() {\n",
       "        root._bokeh_is_loading--;\n",
       "        if (root._bokeh_is_loading === 0) {\n",
       "          console.log(\"Bokeh: all BokehJS libraries loaded\");\n",
       "          run_callbacks()\n",
       "        }\n",
       "      };\n",
       "      s.onerror = function() {\n",
       "        console.warn(\"failed to load library \" + url);\n",
       "      };\n",
       "      console.log(\"Bokeh: injecting script tag for BokehJS library: \", url);\n",
       "      document.getElementsByTagName(\"head\")[0].appendChild(s);\n",
       "    }\n",
       "  };var element = document.getElementById(\"a55ad95e-0eae-4ca4-883b-2fbfdbf80952\");\n",
       "  if (element == null) {\n",
       "    console.log(\"Bokeh: ERROR: autoload.js configured with elementid 'a55ad95e-0eae-4ca4-883b-2fbfdbf80952' but no matching script tag was found. \")\n",
       "    return false;\n",
       "  }\n",
       "\n",
       "  var js_urls = [\"https://cdn.pydata.org/bokeh/release/bokeh-0.12.16.min.js\", \"https://cdn.pydata.org/bokeh/release/bokeh-widgets-0.12.16.min.js\", \"https://cdn.pydata.org/bokeh/release/bokeh-tables-0.12.16.min.js\", \"https://cdn.pydata.org/bokeh/release/bokeh-gl-0.12.16.min.js\"];\n",
       "\n",
       "  var inline_js = [\n",
       "    function(Bokeh) {\n",
       "      Bokeh.set_log_level(\"info\");\n",
       "    },\n",
       "    \n",
       "    function(Bokeh) {\n",
       "      \n",
       "    },\n",
       "    function(Bokeh) {\n",
       "      console.log(\"Bokeh: injecting CSS: https://cdn.pydata.org/bokeh/release/bokeh-0.12.16.min.css\");\n",
       "      Bokeh.embed.inject_css(\"https://cdn.pydata.org/bokeh/release/bokeh-0.12.16.min.css\");\n",
       "      console.log(\"Bokeh: injecting CSS: https://cdn.pydata.org/bokeh/release/bokeh-widgets-0.12.16.min.css\");\n",
       "      Bokeh.embed.inject_css(\"https://cdn.pydata.org/bokeh/release/bokeh-widgets-0.12.16.min.css\");\n",
       "      console.log(\"Bokeh: injecting CSS: https://cdn.pydata.org/bokeh/release/bokeh-tables-0.12.16.min.css\");\n",
       "      Bokeh.embed.inject_css(\"https://cdn.pydata.org/bokeh/release/bokeh-tables-0.12.16.min.css\");\n",
       "    }\n",
       "  ];\n",
       "\n",
       "  function run_inline_js() {\n",
       "    \n",
       "    if ((root.Bokeh !== undefined) || (force === true)) {\n",
       "      for (var i = 0; i < inline_js.length; i++) {\n",
       "        inline_js[i].call(root, root.Bokeh);\n",
       "      }if (force === true) {\n",
       "        display_loaded();\n",
       "      }} else if (Date.now() < root._bokeh_timeout) {\n",
       "      setTimeout(run_inline_js, 100);\n",
       "    } else if (!root._bokeh_failed_load) {\n",
       "      console.log(\"Bokeh: BokehJS failed to load within specified timeout.\");\n",
       "      root._bokeh_failed_load = true;\n",
       "    } else if (force !== true) {\n",
       "      var cell = $(document.getElementById(\"a55ad95e-0eae-4ca4-883b-2fbfdbf80952\")).parents('.cell').data().cell;\n",
       "      cell.output_area.append_execute_result(NB_LOAD_WARNING)\n",
       "    }\n",
       "\n",
       "  }\n",
       "\n",
       "  if (root._bokeh_is_loading === 0) {\n",
       "    console.log(\"Bokeh: BokehJS loaded, going straight to plotting\");\n",
       "    run_inline_js();\n",
       "  } else {\n",
       "    load_libs(js_urls, function() {\n",
       "      console.log(\"Bokeh: BokehJS plotting callback run at\", now());\n",
       "      run_inline_js();\n",
       "    });\n",
       "  }\n",
       "}(window));"
      ],
      "application/vnd.bokehjs_load.v0+json": "\n(function(root) {\n  function now() {\n    return new Date();\n  }\n\n  var force = true;\n\n  if (typeof (root._bokeh_onload_callbacks) === \"undefined\" || force === true) {\n    root._bokeh_onload_callbacks = [];\n    root._bokeh_is_loading = undefined;\n  }\n\n  \n\n  \n  if (typeof (root._bokeh_timeout) === \"undefined\" || force === true) {\n    root._bokeh_timeout = Date.now() + 5000;\n    root._bokeh_failed_load = false;\n  }\n\n  var NB_LOAD_WARNING = {'data': {'text/html':\n     \"<div style='background-color: #fdd'>\\n\"+\n     \"<p>\\n\"+\n     \"BokehJS does not appear to have successfully loaded. If loading BokehJS from CDN, this \\n\"+\n     \"may be due to a slow or bad network connection. Possible fixes:\\n\"+\n     \"</p>\\n\"+\n     \"<ul>\\n\"+\n     \"<li>re-rerun `output_notebook()` to attempt to load from CDN again, or</li>\\n\"+\n     \"<li>use INLINE resources instead, as so:</li>\\n\"+\n     \"</ul>\\n\"+\n     \"<code>\\n\"+\n     \"from bokeh.resources import INLINE\\n\"+\n     \"output_notebook(resources=INLINE)\\n\"+\n     \"</code>\\n\"+\n     \"</div>\"}};\n\n  function display_loaded() {\n    var el = document.getElementById(\"a55ad95e-0eae-4ca4-883b-2fbfdbf80952\");\n    if (el != null) {\n      el.textContent = \"BokehJS is loading...\";\n    }\n    if (root.Bokeh !== undefined) {\n      if (el != null) {\n        el.textContent = \"BokehJS \" + root.Bokeh.version + \" successfully loaded.\";\n      }\n    } else if (Date.now() < root._bokeh_timeout) {\n      setTimeout(display_loaded, 100)\n    }\n  }\n\n\n  function run_callbacks() {\n    try {\n      root._bokeh_onload_callbacks.forEach(function(callback) { callback() });\n    }\n    finally {\n      delete root._bokeh_onload_callbacks\n    }\n    console.info(\"Bokeh: all callbacks have finished\");\n  }\n\n  function load_libs(js_urls, callback) {\n    root._bokeh_onload_callbacks.push(callback);\n    if (root._bokeh_is_loading > 0) {\n      console.log(\"Bokeh: BokehJS is being loaded, scheduling callback at\", now());\n      return null;\n    }\n    if (js_urls == null || js_urls.length === 0) {\n      run_callbacks();\n      return null;\n    }\n    console.log(\"Bokeh: BokehJS not loaded, scheduling load and callback at\", now());\n    root._bokeh_is_loading = js_urls.length;\n    for (var i = 0; i < js_urls.length; i++) {\n      var url = js_urls[i];\n      var s = document.createElement('script');\n      s.src = url;\n      s.async = false;\n      s.onreadystatechange = s.onload = function() {\n        root._bokeh_is_loading--;\n        if (root._bokeh_is_loading === 0) {\n          console.log(\"Bokeh: all BokehJS libraries loaded\");\n          run_callbacks()\n        }\n      };\n      s.onerror = function() {\n        console.warn(\"failed to load library \" + url);\n      };\n      console.log(\"Bokeh: injecting script tag for BokehJS library: \", url);\n      document.getElementsByTagName(\"head\")[0].appendChild(s);\n    }\n  };var element = document.getElementById(\"a55ad95e-0eae-4ca4-883b-2fbfdbf80952\");\n  if (element == null) {\n    console.log(\"Bokeh: ERROR: autoload.js configured with elementid 'a55ad95e-0eae-4ca4-883b-2fbfdbf80952' but no matching script tag was found. \")\n    return false;\n  }\n\n  var js_urls = [\"https://cdn.pydata.org/bokeh/release/bokeh-0.12.16.min.js\", \"https://cdn.pydata.org/bokeh/release/bokeh-widgets-0.12.16.min.js\", \"https://cdn.pydata.org/bokeh/release/bokeh-tables-0.12.16.min.js\", \"https://cdn.pydata.org/bokeh/release/bokeh-gl-0.12.16.min.js\"];\n\n  var inline_js = [\n    function(Bokeh) {\n      Bokeh.set_log_level(\"info\");\n    },\n    \n    function(Bokeh) {\n      \n    },\n    function(Bokeh) {\n      console.log(\"Bokeh: injecting CSS: https://cdn.pydata.org/bokeh/release/bokeh-0.12.16.min.css\");\n      Bokeh.embed.inject_css(\"https://cdn.pydata.org/bokeh/release/bokeh-0.12.16.min.css\");\n      console.log(\"Bokeh: injecting CSS: https://cdn.pydata.org/bokeh/release/bokeh-widgets-0.12.16.min.css\");\n      Bokeh.embed.inject_css(\"https://cdn.pydata.org/bokeh/release/bokeh-widgets-0.12.16.min.css\");\n      console.log(\"Bokeh: injecting CSS: https://cdn.pydata.org/bokeh/release/bokeh-tables-0.12.16.min.css\");\n      Bokeh.embed.inject_css(\"https://cdn.pydata.org/bokeh/release/bokeh-tables-0.12.16.min.css\");\n    }\n  ];\n\n  function run_inline_js() {\n    \n    if ((root.Bokeh !== undefined) || (force === true)) {\n      for (var i = 0; i < inline_js.length; i++) {\n        inline_js[i].call(root, root.Bokeh);\n      }if (force === true) {\n        display_loaded();\n      }} else if (Date.now() < root._bokeh_timeout) {\n      setTimeout(run_inline_js, 100);\n    } else if (!root._bokeh_failed_load) {\n      console.log(\"Bokeh: BokehJS failed to load within specified timeout.\");\n      root._bokeh_failed_load = true;\n    } else if (force !== true) {\n      var cell = $(document.getElementById(\"a55ad95e-0eae-4ca4-883b-2fbfdbf80952\")).parents('.cell').data().cell;\n      cell.output_area.append_execute_result(NB_LOAD_WARNING)\n    }\n\n  }\n\n  if (root._bokeh_is_loading === 0) {\n    console.log(\"Bokeh: BokehJS loaded, going straight to plotting\");\n    run_inline_js();\n  } else {\n    load_libs(js_urls, function() {\n      console.log(\"Bokeh: BokehJS plotting callback run at\", now());\n      run_inline_js();\n    });\n  }\n}(window));"
     },
     "metadata": {},
     "output_type": "display_data"
    },
    {
     "data": {
      "text/html": [
       "\n",
       "<div class=\"bk-root\">\n",
       "    <div class=\"bk-plotdiv\" id=\"1a1179da-b983-4f37-b4ee-2a4dc0fb53e6\"></div>\n",
       "</div>"
      ]
     },
     "metadata": {},
     "output_type": "display_data"
    },
    {
     "data": {
      "application/javascript": [
       "(function(root) {\n",
       "  function embed_document(root) {\n",
       "    \n",
       "  var docs_json = {\"84e5320f-b7d6-4f2d-a262-556c0a372e3b\":{\"roots\":{\"references\":[{\"attributes\":{\"callback\":null},\"id\":\"1b0f6810-1b8e-44ba-b59a-b092bcd17c64\",\"type\":\"DataRange1d\"},{\"attributes\":{},\"id\":\"124b3443-9716-4f3e-92ab-d2b937f733ae\",\"type\":\"Selection\"},{\"attributes\":{\"axis_label\":\"Letter ratio in Airport names in the USA\",\"formatter\":{\"id\":\"7d1db525-f030-4477-91d3-49ef212fd559\",\"type\":\"BasicTickFormatter\"},\"plot\":{\"id\":\"a6788f5f-c8f7-4adc-bd1e-12383719f768\",\"subtype\":\"Figure\",\"type\":\"Plot\"},\"ticker\":{\"id\":\"31e77677-4a04-4d5e-9555-19b9a731df16\",\"type\":\"BasicTicker\"}},\"id\":\"22ffebd2-0611-48de-9085-d63f17e625ef\",\"type\":\"LinearAxis\"},{\"attributes\":{\"fill_alpha\":{\"value\":0.1},\"fill_color\":{\"value\":\"#1f77b4\"},\"line_alpha\":{\"value\":0.1},\"line_color\":{\"value\":\"#1f77b4\"},\"top\":{\"field\":\"top\"},\"width\":{\"value\":0.5},\"x\":{\"field\":\"x\"}},\"id\":\"73507e4d-4194-45b5-b126-1e6d61081c97\",\"type\":\"VBar\"},{\"attributes\":{},\"id\":\"31e77677-4a04-4d5e-9555-19b9a731df16\",\"type\":\"BasicTicker\"},{\"attributes\":{},\"id\":\"eb711c2f-428c-486a-b45b-6e878e92df80\",\"type\":\"UnionRenderers\"},{\"attributes\":{\"fill_color\":{\"value\":\"blue\"},\"line_color\":{\"value\":\"blue\"},\"top\":{\"field\":\"top\"},\"width\":{\"value\":0.5},\"x\":{\"field\":\"x\"}},\"id\":\"e110f83f-dab9-4391-b099-ba3102f72c9c\",\"type\":\"VBar\"},{\"attributes\":{\"dimension\":1,\"plot\":{\"id\":\"a6788f5f-c8f7-4adc-bd1e-12383719f768\",\"subtype\":\"Figure\",\"type\":\"Plot\"},\"ticker\":{\"id\":\"31e77677-4a04-4d5e-9555-19b9a731df16\",\"type\":\"BasicTicker\"}},\"id\":\"1a9fcd78-2524-47c9-8c67-90ae8be0bfb6\",\"type\":\"Grid\"},{\"attributes\":{\"callback\":null,\"data\":{\"top\":{\"__ndarray__\":\"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\",\"dtype\":\"float64\",\"shape\":[2294]},\"x\":[0,1,2,3,4,5,6,7,8,9,10,11,12,13,14,15,16,17,18,19,20,21,22,23,24,25,26,27,28,29,30,31,32,33,34,35,36,37,38,39,40,41,42,43,44,45,46,47,48,49,50,51,52,53,54,55,56,57,58,59,60,61,62,63,64,65,66,67,68,69,70,71,72,73,74,75,76,77,78,79,80,81,82,83,84,85,86,87,88,89,90,91,92,93,94,95,96,97,98,99,100,101,102,103,104,105,106,107,108,109,110,111,112,113,114,115,116,117,118,119,120,121,122,123,124,125,126,127,128,129,130,131,132,133,134,135,136,137,138,139,140,141,142,143,144,145,146,147,148,149,150,151,152,153,154,155,156,157,158,159,160,161,162,163,164,165,166,167,168,169,170,171,172,173,174,175,176,177,178,179,180,181,182,183,184,185,186,187,188,189,190,191,192,193,194,195,196,197,198,199,200,201,202,203,204,205,206,207,208,209,210,211,212,213,214,215,216,217,218,219,220,221,222,223,224,225,226,227,228,229,230,231,232,233,234,235,236,237,238,239,240,241,242,243,244,245,246,247,248,249,250,251,252,253,254,255,256,257,258,259,260,261,262,263,264,265,266,267,268,269,270,271,272,273,274,275,276,277,278,279,280,281,282,283,284,285,286,287,288,289,290,291,292,293,294,295,296,297,298,299,300,301,302,303,304,305,306,307,308,309,310,311,312,313,314,315,316,317,318,319,320,321,322,323,324,325,326,327,328,329,330,331,332,333,334,335,336,337,338,339,340,341,342,343,344,345,346,347,348,349,350,351,352,353,354,355,356,357,358,359,360,361,362,363,364,365,366,367,368,369,370,371,372,373,374,375,376,377,378,379,380,381,382,383,384,385,386,387,388,389,390,391,392,393,394,395,396,397,398,399,400,401,402,403,404,405,406,407,408,409,410,411,412,413,414,415,416,417,418,419,420,421,422,423,424,425,426,427,428,429,430,431,432,433,434,435,436,437,438,439,440,441,442,443,444,445,446,447,448,449,450,451,452,453,454,455,456,457,458,459,460,461,462,463,464,465,466,467,468,469,470,471,472,473,474,475,476,477,478,479,480,481,482,483,484,485,486,487,488,489,490,491,492,493,494,495,496,497,498,499,500,501,502,503,504,505,506,507,508,509,510,511,512,513,514,515,516,517,518,519,520,521,522,523,524,525,526,527,528,529,530,531,532,533,534,535,536,537,538,539,540,541,542,543,544,545,546,547,548,549,550,551,552,553,554,555,556,557,558,559,560,561,562,563,564,565,566,567,568,569,570,571,572,573,574,575,576,577,578,579,580,581,582,583,584,585,586,587,588,589,590,591,592,593,594,595,596,597,598,599,600,601,602,603,604,605,606,607,608,609,610,611,612,613,614,615,616,617,618,619,620,621,622,623,624,625,626,627,628,629,630,631,632,633,634,635,636,637,638,639,640,641,642,643,644,645,646,647,648,649,650,651,652,653,654,655,656,657,658,659,660,661,662,663,664,665,666,667,668,669,670,671,672,673,674,675,676,677,678,679,680,681,682,683,684,685,686,687,688,689,690,691,692,693,694,695,696,697,698,699,700,701,702,703,704,705,706,707,708,709,710,711,712,713,714,715,716,717,718,719,720,721,722,723,724,725,726,727,728,729,730,731,732,733,734,735,736,737,738,739,740,741,742,743,744,745,746,747,748,749,750,751,752,753,754,755,756,757,758,759,760,761,762,763,764,765,766,767,768,769,770,771,772,773,774,775,776,777,778,779,780,781,782,783,784,785,786,787,788,789,790,791,792,793,794,795,796,797,798,799,800,801,802,803,804,805,806,807,808,809,810,811,812,813,814,815,816,817,818,819,820,821,822,823,824,825,826,827,828,829,830,831,832,833,834,835,836,837,838,839,840,841,842,843,844,845,846,847,848,849,850,851,852,853,854,855,856,857,858,859,860,861,862,863,864,865,866,867,868,869,870,871,872,873,874,875,876,877,878,879,880,881,882,883,884,885,886,887,888,889,890,891,892,893,894,895,896,897,898,899,900,901,902,903,904,905,906,907,908,909,910,911,912,913,914,915,916,917,918,919,920,921,922,923,924,925,926,927,928,929,930,931,932,933,934,935,936,937,938,939,940,941,942,943,944,945,946,947,948,949,950,951,952,953,954,955,956,957,958,959,960,961,962,963,964,965,966,967,968,969,970,971,972,973,974,975,976,977,978,979,980,981,982,983,984,985,986,987,988,989,990,991,992,993,994,995,996,997,998,999,1000,1001,1002,1003,1004,1005,1006,1007,1008,1009,1010,1011,1012,1013,1014,1015,1016,1017,1018,1019,1020,1021,1022,1023,1024,1025,1026,1027,1028,1029,1030,1031,1032,1033,1034,1035,1036,1037,1038,1039,1040,1041,1042,1043,1044,1045,1046,1047,1048,1049,1050,1051,1052,1053,1054,1055,1056,1057,1058,1059,1060,1061,1062,1063,1064,1065,1066,1067,1068,1069,1070,1071,1072,1073,1074,1075,1076,1077,1078,1079,1080,1081,1082,1083,1084,1085,1086,1087,1088,1089,1090,1091,1092,1093,1094,1095,1096,1097,1098,1099,1100,1101,1102,1103,1104,1105,1106,1107,1108,1109,1110,1111,1112,1113,1114,1115,1116,1117,1118,1119,1120,1121,1122,1123,1124,1125,1126,1127,1128,1129,1130,1131,1132,1133,1134,1135,1136,1137,1138,1139,1140,1141,1142,1143,1144,1145,1146,1147,1148,1149,1150,1151,1152,1153,1154,1155,1156,1157,1158,1159,1160,1161,1162,1163,1164,1165,1166,1167,1168,1169,1170,1171,1172,1173,1174,1175,1176,1177,1178,1179,1180,1181,1182,1183,1184,1185,1186,1187,1188,1189,1190,1191,1192,1193,1194,1195,1196,1197,1198,1199,1200,1201,1202,1203,1204,1205,1206,1207,1208,1209,1210,1211,1212,1213,1214,1215,1216,1217,1218,1219,1220,1221,1222,1223,1224,1225,1226,1227,1228,1229,1230,1231,1232,1233,1234,1235,1236,1237,1238,1239,1240,1241,1242,1243,1244,1245,1246,1247,1248,1249,1250,1251,1252,1253,1254,1255,1256,1257,1258,1259,1260,1261,1262,1263,1264,1265,1266,1267,1268,1269,1270,1271,1272,1273,1274,1275,1276,1277,1278,1279,1280,1281,1282,1283,1284,1285,1286,1287,1288,1289,1290,1291,1292,1293,1294,1295,1296,1297,1298,1299,1300,1301,1302,1303,1304,1305,1306,1307,1308,1309,1310,1311,1312,1313,1314,1315,1316,1317,1318,1319,1320,1321,1322,1323,1324,1325,1326,1327,1328,1329,1330,1331,1332,1333,1334,1335,1336,1337,1338,1339,1340,1341,1342,1343,1344,1345,1346,1347,1348,1349,1350,1351,1352,1353,1354,1355,1356,1357,1358,1359,1360,1361,1362,1363,1364,1365,1366,1367,1368,1369,1370,1371,1372,1373,1374,1375,1376,1377,1378,1379,1380,1381,1382,1383,1384,1385,1386,1387,1388,1389,1390,1391,1392,1393,1394,1395,1396,1397,1398,1399,1400,1401,1402,1403,1404,1405,1406,1407,1408,1409,1410,1411,1412,1413,1414,1415,1416,1417,1418,1419,1420,1421,1422,1423,1424,1425,1426,1427,1428,1429,1430,1431,1432,1433,1434,1435,1436,1437,1438,1439,1440,1441,1442,1443,1444,1445,1446,1447,1448,1449,1450,1451,1452,1453,1454,1455,1456,1457,1458,1459,1460,1461,1462,1463,1464,1465,1466,1467,1468,1469,1470,1471,1472,1473,1474,1475,1476,1477,1478,1479,1480,1481,1482,1483,1484,1485,1486,1487,1488,1489,1490,1491,1492,1493,1494,1495,1496,1497,1498,1499,1500,1501,1502,1503,1504,1505,1506,1507,1508,1509,1510,1511,1512,1513,1514,1515,1516,1517,1518,1519,1520,1521,1522,1523,1524,1525,1526,1527,1528,1529,1530,1531,1532,1533,1534,1535,1536,1537,1538,1539,1540,1541,1542,1543,1544,1545,1546,1547,1548,1549,1550,1551,1552,1553,1554,1555,1556,1557,1558,1559,1560,1561,1562,1563,1564,1565,1566,1567,1568,1569,1570,1571,1572,1573,1574,1575,1576,1577,1578,1579,1580,1581,1582,1583,1584,1585,1586,1587,1588,1589,1590,1591,1592,1593,1594,1595,1596,1597,1598,1599,1600,1601,1602,1603,1604,1605,1606,1607,1608,1609,1610,1611,1612,1613,1614,1615,1616,1617,1618,1619,1620,1621,1622,1623,1624,1625,1626,1627,1628,1629,1630,1631,1632,1633,1634,1635,1636,1637,1638,1639,1640,1641,1642,1643,1644,1645,1646,1647,1648,1649,1650,1651,1652,1653,1654,1655,1656,1657,1658,1659,1660,1661,1662,1663,1664,1665,1666,1667,1668,1669,1670,1671,1672,1673,1674,1675,1676,1677,1678,1679,1680,1681,1682,1683,1684,1685,1686,1687,1688,1689,1690,1691,1692,1693,1694,1695,1696,1697,1698,1699,1700,1701,1702,1703,1704,1705,1706,1707,1708,1709,1710,1711,1712,1713,1714,1715,1716,1717,1718,1719,1720,1721,1722,1723,1724,1725,1726,1727,1728,1729,1730,1731,1732,1733,1734,1735,1736,1737,1738,1739,1740,1741,1742,1743,1744,1745,1746,1747,1748,1749,1750,1751,1752,1753,1754,1755,1756,1757,1758,1759,1760,1761,1762,1763,1764,1765,1766,1767,1768,1769,1770,1771,1772,1773,1774,1775,1776,1777,1778,1779,1780,1781,1782,1783,1784,1785,1786,1787,1788,1789,1790,1791,1792,1793,1794,1795,1796,1797,1798,1799,1800,1801,1802,1803,1804,1805,1806,1807,1808,1809,1810,1811,1812,1813,1814,1815,1816,1817,1818,1819,1820,1821,1822,1823,1824,1825,1826,1827,1828,1829,1830,1831,1832,1833,1834,1835,1836,1837,1838,1839,1840,1841,1842,1843,1844,1845,1846,1847,1848,1849,1850,1851,1852,1853,1854,1855,1856,1857,1858,1859,1860,1861,1862,1863,1864,1865,1866,1867,1868,1869,1870,1871,1872,1873,1874,1875,1876,1877,1878,1879,1880,1881,1882,1883,1884,1885,1886,1887,1888,1889,1890,1891,1892,1893,1894,1895,1896,1897,1898,1899,1900,1901,1902,1903,1904,1905,1906,1907,1908,1909,1910,1911,1912,1913,1914,1915,1916,1917,1918,1919,1920,1921,1922,1923,1924,1925,1926,1927,1928,1929,1930,1931,1932,1933,1934,1935,1936,1937,1938,1939,1940,1941,1942,1943,1944,1945,1946,1947,1948,1949,1950,1951,1952,1953,1954,1955,1956,1957,1958,1959,1960,1961,1962,1963,1964,1965,1966,1967,1968,1969,1970,1971,1972,1973,1974,1975,1976,1977,1978,1979,1980,1981,1982,1983,1984,1985,1986,1987,1988,1989,1990,1991,1992,1993,1994,1995,1996,1997,1998,1999,2000,2001,2002,2003,2004,2005,2006,2007,2008,2009,2010,2011,2012,2013,2014,2015,2016,2017,2018,2019,2020,2021,2022,2023,2024,2025,2026,2027,2028,2029,2030,2031,2032,2033,2034,2035,2036,2037,2038,2039,2040,2041,2042,2043,2044,2045,2046,2047,2048,2049,2050,2051,2052,2053,2054,2055,2056,2057,2058,2059,2060,2061,2062,2063,2064,2065,2066,2067,2068,2069,2070,2071,2072,2073,2074,2075,2076,2077,2078,2079,2080,2081,2082,2083,2084,2085,2086,2087,2088,2089,2090,2091,2092,2093,2094,2095,2096,2097,2098,2099,2100,2101,2102,2103,2104,2105,2106,2107,2108,2109,2110,2111,2112,2113,2114,2115,2116,2117,2118,2119,2120,2121,2122,2123,2124,2125,2126,2127,2128,2129,2130,2131,2132,2133,2134,2135,2136,2137,2138,2139,2140,2141,2142,2143,2144,2145,2146,2147,2148,2149,2150,2151,2152,2153,2154,2155,2156,2157,2158,2159,2160,2161,2162,2163,2164,2165,2166,2167,2168,2169,2170,2171,2172,2173,2174,2175,2176,2177,2178,2179,2180,2181,2182,2183,2184,2185,2186,2187,2188,2189,2190,2191,2192,2193,2194,2195,2196,2197,2198,2199,2200,2201,2202,2203,2204,2205,2206,2207,2208,2209,2210,2211,2212,2213,2214,2215,2216,2217,2218,2219,2220,2221,2222,2223,2224,2225,2226,2227,2228,2229,2230,2231,2232,2233,2234,2235,2236,2237,2238,2239,2240,2241,2242,2243,2244,2245,2246,2247,2248,2249,2250,2251,2252,2253,2254,2255,2256,2257,2258,2259,2260,2261,2262,2263,2264,2265,2266,2267,2268,2269,2270,2271,2272,2273,2274,2275,2276,2277,2278,2279,2280,2281,2282,2283,2284,2285,2286,2287,2288,2289,2290,2291,2292,2293]},\"selected\":{\"id\":\"124b3443-9716-4f3e-92ab-d2b937f733ae\",\"type\":\"Selection\"},\"selection_policy\":{\"id\":\"eb711c2f-428c-486a-b45b-6e878e92df80\",\"type\":\"UnionRenderers\"}},\"id\":\"6e713af4-44e7-45bf-8bd5-6c74b622938d\",\"type\":\"ColumnDataSource\"},{\"attributes\":{\"bottom_units\":\"screen\",\"fill_alpha\":{\"value\":0.5},\"fill_color\":{\"value\":\"lightgrey\"},\"left_units\":\"screen\",\"level\":\"overlay\",\"line_alpha\":{\"value\":1.0},\"line_color\":{\"value\":\"black\"},\"line_dash\":[4,4],\"line_width\":{\"value\":2},\"plot\":null,\"render_mode\":\"css\",\"right_units\":\"screen\",\"top_units\":\"screen\"},\"id\":\"208e0d6c-894d-4dbf-b2f5-474afe22063e\",\"type\":\"BoxAnnotation\"},{\"attributes\":{\"source\":{\"id\":\"6e713af4-44e7-45bf-8bd5-6c74b622938d\",\"type\":\"ColumnDataSource\"}},\"id\":\"493e4f1f-e175-4b18-8a14-256cbdc52718\",\"type\":\"CDSView\"},{\"attributes\":{\"active_drag\":\"auto\",\"active_inspect\":\"auto\",\"active_scroll\":\"auto\",\"active_tap\":\"auto\",\"tools\":[{\"id\":\"896179f0-5e1c-4031-bf09-7635642c04e5\",\"type\":\"PanTool\"},{\"id\":\"fe8012f1-88d5-4488-a3eb-0f66ba1fc059\",\"type\":\"WheelZoomTool\"},{\"id\":\"b8b20a10-59cd-4e0a-bb83-93598faf869e\",\"type\":\"BoxZoomTool\"},{\"id\":\"baf9a567-9fe5-43b0-bc19-2e70fc9d1053\",\"type\":\"SaveTool\"},{\"id\":\"1ab8b5a0-b6b7-43c8-8795-35fa3828dfcb\",\"type\":\"ResetTool\"},{\"id\":\"c91111a6-94c3-41b4-a85f-3207c0791109\",\"type\":\"HelpTool\"}]},\"id\":\"121769ea-4747-4d4f-87f3-29babf098f48\",\"type\":\"Toolbar\"},{\"attributes\":{\"plot\":null,\"text\":\"Vowels/Consonants ratio, sorted\"},\"id\":\"9806346b-a066-46f0-ba95-07eb1d41c852\",\"type\":\"Title\"},{\"attributes\":{},\"id\":\"896179f0-5e1c-4031-bf09-7635642c04e5\",\"type\":\"PanTool\"},{\"attributes\":{\"below\":[{\"id\":\"a7314338-b550-401b-aea1-ea3aca53c140\",\"type\":\"LinearAxis\"}],\"left\":[{\"id\":\"22ffebd2-0611-48de-9085-d63f17e625ef\",\"type\":\"LinearAxis\"}],\"plot_height\":400,\"plot_width\":400,\"renderers\":[{\"id\":\"a7314338-b550-401b-aea1-ea3aca53c140\",\"type\":\"LinearAxis\"},{\"id\":\"4ac351e4-90e7-4d05-986a-3cfd0397a7a9\",\"type\":\"Grid\"},{\"id\":\"22ffebd2-0611-48de-9085-d63f17e625ef\",\"type\":\"LinearAxis\"},{\"id\":\"1a9fcd78-2524-47c9-8c67-90ae8be0bfb6\",\"type\":\"Grid\"},{\"id\":\"208e0d6c-894d-4dbf-b2f5-474afe22063e\",\"type\":\"BoxAnnotation\"},{\"id\":\"2ff07b50-3931-419b-bf6c-f89224d81774\",\"type\":\"GlyphRenderer\"}],\"title\":{\"id\":\"9806346b-a066-46f0-ba95-07eb1d41c852\",\"type\":\"Title\"},\"toolbar\":{\"id\":\"121769ea-4747-4d4f-87f3-29babf098f48\",\"type\":\"Toolbar\"},\"x_range\":{\"id\":\"1b0f6810-1b8e-44ba-b59a-b092bcd17c64\",\"type\":\"DataRange1d\"},\"x_scale\":{\"id\":\"96e835e5-ff93-4f0f-b8c7-1de132f93cf7\",\"type\":\"LinearScale\"},\"y_range\":{\"id\":\"60d49712-6d81-4ef6-ac90-082a5a3cc486\",\"type\":\"DataRange1d\"},\"y_scale\":{\"id\":\"582647c5-7638-488c-9402-f818b7d0c755\",\"type\":\"LinearScale\"}},\"id\":\"a6788f5f-c8f7-4adc-bd1e-12383719f768\",\"subtype\":\"Figure\",\"type\":\"Plot\"},{\"attributes\":{},\"id\":\"fe8012f1-88d5-4488-a3eb-0f66ba1fc059\",\"type\":\"WheelZoomTool\"},{\"attributes\":{\"axis_label\":\"Airports in the USA\",\"formatter\":{\"id\":\"e3a17a43-b8c0-4018-bf21-840d70602860\",\"type\":\"BasicTickFormatter\"},\"plot\":{\"id\":\"a6788f5f-c8f7-4adc-bd1e-12383719f768\",\"subtype\":\"Figure\",\"type\":\"Plot\"},\"ticker\":{\"id\":\"aa042904-3ece-4448-8957-9025ee2ee3c4\",\"type\":\"BasicTicker\"}},\"id\":\"a7314338-b550-401b-aea1-ea3aca53c140\",\"type\":\"LinearAxis\"},{\"attributes\":{\"data_source\":{\"id\":\"6e713af4-44e7-45bf-8bd5-6c74b622938d\",\"type\":\"ColumnDataSource\"},\"glyph\":{\"id\":\"e110f83f-dab9-4391-b099-ba3102f72c9c\",\"type\":\"VBar\"},\"hover_glyph\":null,\"muted_glyph\":null,\"nonselection_glyph\":{\"id\":\"73507e4d-4194-45b5-b126-1e6d61081c97\",\"type\":\"VBar\"},\"selection_glyph\":null,\"view\":{\"id\":\"493e4f1f-e175-4b18-8a14-256cbdc52718\",\"type\":\"CDSView\"}},\"id\":\"2ff07b50-3931-419b-bf6c-f89224d81774\",\"type\":\"GlyphRenderer\"},{\"attributes\":{\"overlay\":{\"id\":\"208e0d6c-894d-4dbf-b2f5-474afe22063e\",\"type\":\"BoxAnnotation\"}},\"id\":\"b8b20a10-59cd-4e0a-bb83-93598faf869e\",\"type\":\"BoxZoomTool\"},{\"attributes\":{},\"id\":\"aa042904-3ece-4448-8957-9025ee2ee3c4\",\"type\":\"BasicTicker\"},{\"attributes\":{},\"id\":\"baf9a567-9fe5-43b0-bc19-2e70fc9d1053\",\"type\":\"SaveTool\"},{\"attributes\":{},\"id\":\"1ab8b5a0-b6b7-43c8-8795-35fa3828dfcb\",\"type\":\"ResetTool\"},{\"attributes\":{},\"id\":\"c91111a6-94c3-41b4-a85f-3207c0791109\",\"type\":\"HelpTool\"},{\"attributes\":{},\"id\":\"7d1db525-f030-4477-91d3-49ef212fd559\",\"type\":\"BasicTickFormatter\"},{\"attributes\":{},\"id\":\"582647c5-7638-488c-9402-f818b7d0c755\",\"type\":\"LinearScale\"},{\"attributes\":{\"callback\":null},\"id\":\"60d49712-6d81-4ef6-ac90-082a5a3cc486\",\"type\":\"DataRange1d\"},{\"attributes\":{},\"id\":\"96e835e5-ff93-4f0f-b8c7-1de132f93cf7\",\"type\":\"LinearScale\"},{\"attributes\":{},\"id\":\"e3a17a43-b8c0-4018-bf21-840d70602860\",\"type\":\"BasicTickFormatter\"},{\"attributes\":{\"plot\":{\"id\":\"a6788f5f-c8f7-4adc-bd1e-12383719f768\",\"subtype\":\"Figure\",\"type\":\"Plot\"},\"ticker\":{\"id\":\"aa042904-3ece-4448-8957-9025ee2ee3c4\",\"type\":\"BasicTicker\"}},\"id\":\"4ac351e4-90e7-4d05-986a-3cfd0397a7a9\",\"type\":\"Grid\"}],\"root_ids\":[\"a6788f5f-c8f7-4adc-bd1e-12383719f768\"]},\"title\":\"Bokeh Application\",\"version\":\"0.12.16\"}};\n",
       "  var render_items = [{\"docid\":\"84e5320f-b7d6-4f2d-a262-556c0a372e3b\",\"elementid\":\"1a1179da-b983-4f37-b4ee-2a4dc0fb53e6\",\"modelid\":\"a6788f5f-c8f7-4adc-bd1e-12383719f768\"}];\n",
       "  root.Bokeh.embed.embed_items_notebook(docs_json, render_items);\n",
       "\n",
       "  }\n",
       "  if (root.Bokeh !== undefined) {\n",
       "    embed_document(root);\n",
       "  } else {\n",
       "    var attempts = 0;\n",
       "    var timer = setInterval(function(root) {\n",
       "      if (root.Bokeh !== undefined) {\n",
       "        embed_document(root);\n",
       "        clearInterval(timer);\n",
       "      }\n",
       "      attempts++;\n",
       "      if (attempts > 100) {\n",
       "        console.log(\"Bokeh: ERROR: Unable to run BokehJS code because BokehJS library is missing\")\n",
       "        clearInterval(timer);\n",
       "      }\n",
       "    }, 10, root)\n",
       "  }\n",
       "})(window);"
      ],
      "application/vnd.bokehjs_exec.v0+json": ""
     },
     "metadata": {
      "application/vnd.bokehjs_exec.v0+json": {
       "id": "a6788f5f-c8f7-4adc-bd1e-12383719f768"
      }
     },
     "output_type": "display_data"
    }
   ],
   "source": [
    "from bokeh.plotting import figure, output_notebook, show\n",
    "\n",
    "n_groups=len(USAratio)\n",
    "index=np.arange(n_groups)\n",
    "p = figure(plot_width=400, plot_height=400, title=\"Vowels/Consonants ratio, sorted\", x_axis_label=\"Airports in the USA\", y_axis_label=\"Letter ratio in Airport names in the USA\")\n",
    "p.vbar(x=index, width=0.5, bottom=0, top=np.sort(USAarr[:,0]), color='blue')\n",
    "output_notebook()\n",
    "show(p)"
   ]
  },
  {
   "cell_type": "markdown",
   "metadata": {},
   "source": [
    "Fit power law to reversed histogram"
   ]
  },
  {
   "cell_type": "code",
   "execution_count": 12,
   "metadata": {
    "collapsed": true
   },
   "outputs": [],
   "source": [
    "xdat=np.arange(len(USAarr))\n",
    "ydat0=np.sort(USAarr[:,0])\n",
    "ydat=ydat0[::-1]\n",
    "par=[1.,1.,1.,1.]\n",
    "p0=par\n",
    "par,pvar=curve_fit(powerlaw,xdat,ydat)\n"
   ]
  },
  {
   "cell_type": "code",
   "execution_count": 20,
   "metadata": {
    "collapsed": true
   },
   "outputs": [],
   "source": [
    "def powerlaw(x,a,b,c):\n",
    "    return a*x**b+c\n"
   ]
  },
  {
   "cell_type": "code",
   "execution_count": 14,
   "metadata": {},
   "outputs": [
    {
     "data": {
      "text/html": [
       "\n",
       "    <div class=\"bk-root\">\n",
       "        <a href=\"https://bokeh.pydata.org\" target=\"_blank\" class=\"bk-logo bk-logo-small bk-logo-notebook\"></a>\n",
       "        <span id=\"7edfe837-8fac-45ae-a647-171c2333059f\">Loading BokehJS ...</span>\n",
       "    </div>"
      ]
     },
     "metadata": {},
     "output_type": "display_data"
    },
    {
     "data": {
      "application/javascript": [
       "\n",
       "(function(root) {\n",
       "  function now() {\n",
       "    return new Date();\n",
       "  }\n",
       "\n",
       "  var force = true;\n",
       "\n",
       "  if (typeof (root._bokeh_onload_callbacks) === \"undefined\" || force === true) {\n",
       "    root._bokeh_onload_callbacks = [];\n",
       "    root._bokeh_is_loading = undefined;\n",
       "  }\n",
       "\n",
       "  var JS_MIME_TYPE = 'application/javascript';\n",
       "  var HTML_MIME_TYPE = 'text/html';\n",
       "  var EXEC_MIME_TYPE = 'application/vnd.bokehjs_exec.v0+json';\n",
       "  var CLASS_NAME = 'output_bokeh rendered_html';\n",
       "\n",
       "  /**\n",
       "   * Render data to the DOM node\n",
       "   */\n",
       "  function render(props, node) {\n",
       "    var script = document.createElement(\"script\");\n",
       "    node.appendChild(script);\n",
       "  }\n",
       "\n",
       "  /**\n",
       "   * Handle when an output is cleared or removed\n",
       "   */\n",
       "  function handleClearOutput(event, handle) {\n",
       "    var cell = handle.cell;\n",
       "\n",
       "    var id = cell.output_area._bokeh_element_id;\n",
       "    var server_id = cell.output_area._bokeh_server_id;\n",
       "    // Clean up Bokeh references\n",
       "    if (id !== undefined) {\n",
       "      Bokeh.index[id].model.document.clear();\n",
       "      delete Bokeh.index[id];\n",
       "    }\n",
       "\n",
       "    if (server_id !== undefined) {\n",
       "      // Clean up Bokeh references\n",
       "      var cmd = \"from bokeh.io.state import curstate; print(curstate().uuid_to_server['\" + server_id + \"'].get_sessions()[0].document.roots[0]._id)\";\n",
       "      cell.notebook.kernel.execute(cmd, {\n",
       "        iopub: {\n",
       "          output: function(msg) {\n",
       "            var element_id = msg.content.text.trim();\n",
       "            Bokeh.index[element_id].model.document.clear();\n",
       "            delete Bokeh.index[element_id];\n",
       "          }\n",
       "        }\n",
       "      });\n",
       "      // Destroy server and session\n",
       "      var cmd = \"import bokeh.io.notebook as ion; ion.destroy_server('\" + server_id + \"')\";\n",
       "      cell.notebook.kernel.execute(cmd);\n",
       "    }\n",
       "  }\n",
       "\n",
       "  /**\n",
       "   * Handle when a new output is added\n",
       "   */\n",
       "  function handleAddOutput(event, handle) {\n",
       "    var output_area = handle.output_area;\n",
       "    var output = handle.output;\n",
       "\n",
       "    // limit handleAddOutput to display_data with EXEC_MIME_TYPE content only\n",
       "    if ((output.output_type != \"display_data\") || (!output.data.hasOwnProperty(EXEC_MIME_TYPE))) {\n",
       "      return\n",
       "    }\n",
       "\n",
       "    var toinsert = output_area.element.find(\".\" + CLASS_NAME.split(' ')[0]);\n",
       "\n",
       "    if (output.metadata[EXEC_MIME_TYPE][\"id\"] !== undefined) {\n",
       "      toinsert[toinsert.length - 1].firstChild.textContent = output.data[JS_MIME_TYPE];\n",
       "      // store reference to embed id on output_area\n",
       "      output_area._bokeh_element_id = output.metadata[EXEC_MIME_TYPE][\"id\"];\n",
       "    }\n",
       "    if (output.metadata[EXEC_MIME_TYPE][\"server_id\"] !== undefined) {\n",
       "      var bk_div = document.createElement(\"div\");\n",
       "      bk_div.innerHTML = output.data[HTML_MIME_TYPE];\n",
       "      var script_attrs = bk_div.children[0].attributes;\n",
       "      for (var i = 0; i < script_attrs.length; i++) {\n",
       "        toinsert[toinsert.length - 1].firstChild.setAttribute(script_attrs[i].name, script_attrs[i].value);\n",
       "      }\n",
       "      // store reference to server id on output_area\n",
       "      output_area._bokeh_server_id = output.metadata[EXEC_MIME_TYPE][\"server_id\"];\n",
       "    }\n",
       "  }\n",
       "\n",
       "  function register_renderer(events, OutputArea) {\n",
       "\n",
       "    function append_mime(data, metadata, element) {\n",
       "      // create a DOM node to render to\n",
       "      var toinsert = this.create_output_subarea(\n",
       "        metadata,\n",
       "        CLASS_NAME,\n",
       "        EXEC_MIME_TYPE\n",
       "      );\n",
       "      this.keyboard_manager.register_events(toinsert);\n",
       "      // Render to node\n",
       "      var props = {data: data, metadata: metadata[EXEC_MIME_TYPE]};\n",
       "      render(props, toinsert[toinsert.length - 1]);\n",
       "      element.append(toinsert);\n",
       "      return toinsert\n",
       "    }\n",
       "\n",
       "    /* Handle when an output is cleared or removed */\n",
       "    events.on('clear_output.CodeCell', handleClearOutput);\n",
       "    events.on('delete.Cell', handleClearOutput);\n",
       "\n",
       "    /* Handle when a new output is added */\n",
       "    events.on('output_added.OutputArea', handleAddOutput);\n",
       "\n",
       "    /**\n",
       "     * Register the mime type and append_mime function with output_area\n",
       "     */\n",
       "    OutputArea.prototype.register_mime_type(EXEC_MIME_TYPE, append_mime, {\n",
       "      /* Is output safe? */\n",
       "      safe: true,\n",
       "      /* Index of renderer in `output_area.display_order` */\n",
       "      index: 0\n",
       "    });\n",
       "  }\n",
       "\n",
       "  // register the mime type if in Jupyter Notebook environment and previously unregistered\n",
       "  if (root.Jupyter !== undefined) {\n",
       "    var events = require('base/js/events');\n",
       "    var OutputArea = require('notebook/js/outputarea').OutputArea;\n",
       "\n",
       "    if (OutputArea.prototype.mime_types().indexOf(EXEC_MIME_TYPE) == -1) {\n",
       "      register_renderer(events, OutputArea);\n",
       "    }\n",
       "  }\n",
       "\n",
       "  \n",
       "  if (typeof (root._bokeh_timeout) === \"undefined\" || force === true) {\n",
       "    root._bokeh_timeout = Date.now() + 5000;\n",
       "    root._bokeh_failed_load = false;\n",
       "  }\n",
       "\n",
       "  var NB_LOAD_WARNING = {'data': {'text/html':\n",
       "     \"<div style='background-color: #fdd'>\\n\"+\n",
       "     \"<p>\\n\"+\n",
       "     \"BokehJS does not appear to have successfully loaded. If loading BokehJS from CDN, this \\n\"+\n",
       "     \"may be due to a slow or bad network connection. Possible fixes:\\n\"+\n",
       "     \"</p>\\n\"+\n",
       "     \"<ul>\\n\"+\n",
       "     \"<li>re-rerun `output_notebook()` to attempt to load from CDN again, or</li>\\n\"+\n",
       "     \"<li>use INLINE resources instead, as so:</li>\\n\"+\n",
       "     \"</ul>\\n\"+\n",
       "     \"<code>\\n\"+\n",
       "     \"from bokeh.resources import INLINE\\n\"+\n",
       "     \"output_notebook(resources=INLINE)\\n\"+\n",
       "     \"</code>\\n\"+\n",
       "     \"</div>\"}};\n",
       "\n",
       "  function display_loaded() {\n",
       "    var el = document.getElementById(\"7edfe837-8fac-45ae-a647-171c2333059f\");\n",
       "    if (el != null) {\n",
       "      el.textContent = \"BokehJS is loading...\";\n",
       "    }\n",
       "    if (root.Bokeh !== undefined) {\n",
       "      if (el != null) {\n",
       "        el.textContent = \"BokehJS \" + root.Bokeh.version + \" successfully loaded.\";\n",
       "      }\n",
       "    } else if (Date.now() < root._bokeh_timeout) {\n",
       "      setTimeout(display_loaded, 100)\n",
       "    }\n",
       "  }\n",
       "\n",
       "\n",
       "  function run_callbacks() {\n",
       "    try {\n",
       "      root._bokeh_onload_callbacks.forEach(function(callback) { callback() });\n",
       "    }\n",
       "    finally {\n",
       "      delete root._bokeh_onload_callbacks\n",
       "    }\n",
       "    console.info(\"Bokeh: all callbacks have finished\");\n",
       "  }\n",
       "\n",
       "  function load_libs(js_urls, callback) {\n",
       "    root._bokeh_onload_callbacks.push(callback);\n",
       "    if (root._bokeh_is_loading > 0) {\n",
       "      console.log(\"Bokeh: BokehJS is being loaded, scheduling callback at\", now());\n",
       "      return null;\n",
       "    }\n",
       "    if (js_urls == null || js_urls.length === 0) {\n",
       "      run_callbacks();\n",
       "      return null;\n",
       "    }\n",
       "    console.log(\"Bokeh: BokehJS not loaded, scheduling load and callback at\", now());\n",
       "    root._bokeh_is_loading = js_urls.length;\n",
       "    for (var i = 0; i < js_urls.length; i++) {\n",
       "      var url = js_urls[i];\n",
       "      var s = document.createElement('script');\n",
       "      s.src = url;\n",
       "      s.async = false;\n",
       "      s.onreadystatechange = s.onload = function() {\n",
       "        root._bokeh_is_loading--;\n",
       "        if (root._bokeh_is_loading === 0) {\n",
       "          console.log(\"Bokeh: all BokehJS libraries loaded\");\n",
       "          run_callbacks()\n",
       "        }\n",
       "      };\n",
       "      s.onerror = function() {\n",
       "        console.warn(\"failed to load library \" + url);\n",
       "      };\n",
       "      console.log(\"Bokeh: injecting script tag for BokehJS library: \", url);\n",
       "      document.getElementsByTagName(\"head\")[0].appendChild(s);\n",
       "    }\n",
       "  };var element = document.getElementById(\"7edfe837-8fac-45ae-a647-171c2333059f\");\n",
       "  if (element == null) {\n",
       "    console.log(\"Bokeh: ERROR: autoload.js configured with elementid '7edfe837-8fac-45ae-a647-171c2333059f' but no matching script tag was found. \")\n",
       "    return false;\n",
       "  }\n",
       "\n",
       "  var js_urls = [\"https://cdn.pydata.org/bokeh/release/bokeh-0.12.16.min.js\", \"https://cdn.pydata.org/bokeh/release/bokeh-widgets-0.12.16.min.js\", \"https://cdn.pydata.org/bokeh/release/bokeh-tables-0.12.16.min.js\", \"https://cdn.pydata.org/bokeh/release/bokeh-gl-0.12.16.min.js\"];\n",
       "\n",
       "  var inline_js = [\n",
       "    function(Bokeh) {\n",
       "      Bokeh.set_log_level(\"info\");\n",
       "    },\n",
       "    \n",
       "    function(Bokeh) {\n",
       "      \n",
       "    },\n",
       "    function(Bokeh) {\n",
       "      console.log(\"Bokeh: injecting CSS: https://cdn.pydata.org/bokeh/release/bokeh-0.12.16.min.css\");\n",
       "      Bokeh.embed.inject_css(\"https://cdn.pydata.org/bokeh/release/bokeh-0.12.16.min.css\");\n",
       "      console.log(\"Bokeh: injecting CSS: https://cdn.pydata.org/bokeh/release/bokeh-widgets-0.12.16.min.css\");\n",
       "      Bokeh.embed.inject_css(\"https://cdn.pydata.org/bokeh/release/bokeh-widgets-0.12.16.min.css\");\n",
       "      console.log(\"Bokeh: injecting CSS: https://cdn.pydata.org/bokeh/release/bokeh-tables-0.12.16.min.css\");\n",
       "      Bokeh.embed.inject_css(\"https://cdn.pydata.org/bokeh/release/bokeh-tables-0.12.16.min.css\");\n",
       "    }\n",
       "  ];\n",
       "\n",
       "  function run_inline_js() {\n",
       "    \n",
       "    if ((root.Bokeh !== undefined) || (force === true)) {\n",
       "      for (var i = 0; i < inline_js.length; i++) {\n",
       "        inline_js[i].call(root, root.Bokeh);\n",
       "      }if (force === true) {\n",
       "        display_loaded();\n",
       "      }} else if (Date.now() < root._bokeh_timeout) {\n",
       "      setTimeout(run_inline_js, 100);\n",
       "    } else if (!root._bokeh_failed_load) {\n",
       "      console.log(\"Bokeh: BokehJS failed to load within specified timeout.\");\n",
       "      root._bokeh_failed_load = true;\n",
       "    } else if (force !== true) {\n",
       "      var cell = $(document.getElementById(\"7edfe837-8fac-45ae-a647-171c2333059f\")).parents('.cell').data().cell;\n",
       "      cell.output_area.append_execute_result(NB_LOAD_WARNING)\n",
       "    }\n",
       "\n",
       "  }\n",
       "\n",
       "  if (root._bokeh_is_loading === 0) {\n",
       "    console.log(\"Bokeh: BokehJS loaded, going straight to plotting\");\n",
       "    run_inline_js();\n",
       "  } else {\n",
       "    load_libs(js_urls, function() {\n",
       "      console.log(\"Bokeh: BokehJS plotting callback run at\", now());\n",
       "      run_inline_js();\n",
       "    });\n",
       "  }\n",
       "}(window));"
      ],
      "application/vnd.bokehjs_load.v0+json": "\n(function(root) {\n  function now() {\n    return new Date();\n  }\n\n  var force = true;\n\n  if (typeof (root._bokeh_onload_callbacks) === \"undefined\" || force === true) {\n    root._bokeh_onload_callbacks = [];\n    root._bokeh_is_loading = undefined;\n  }\n\n  \n\n  \n  if (typeof (root._bokeh_timeout) === \"undefined\" || force === true) {\n    root._bokeh_timeout = Date.now() + 5000;\n    root._bokeh_failed_load = false;\n  }\n\n  var NB_LOAD_WARNING = {'data': {'text/html':\n     \"<div style='background-color: #fdd'>\\n\"+\n     \"<p>\\n\"+\n     \"BokehJS does not appear to have successfully loaded. If loading BokehJS from CDN, this \\n\"+\n     \"may be due to a slow or bad network connection. Possible fixes:\\n\"+\n     \"</p>\\n\"+\n     \"<ul>\\n\"+\n     \"<li>re-rerun `output_notebook()` to attempt to load from CDN again, or</li>\\n\"+\n     \"<li>use INLINE resources instead, as so:</li>\\n\"+\n     \"</ul>\\n\"+\n     \"<code>\\n\"+\n     \"from bokeh.resources import INLINE\\n\"+\n     \"output_notebook(resources=INLINE)\\n\"+\n     \"</code>\\n\"+\n     \"</div>\"}};\n\n  function display_loaded() {\n    var el = document.getElementById(\"7edfe837-8fac-45ae-a647-171c2333059f\");\n    if (el != null) {\n      el.textContent = \"BokehJS is loading...\";\n    }\n    if (root.Bokeh !== undefined) {\n      if (el != null) {\n        el.textContent = \"BokehJS \" + root.Bokeh.version + \" successfully loaded.\";\n      }\n    } else if (Date.now() < root._bokeh_timeout) {\n      setTimeout(display_loaded, 100)\n    }\n  }\n\n\n  function run_callbacks() {\n    try {\n      root._bokeh_onload_callbacks.forEach(function(callback) { callback() });\n    }\n    finally {\n      delete root._bokeh_onload_callbacks\n    }\n    console.info(\"Bokeh: all callbacks have finished\");\n  }\n\n  function load_libs(js_urls, callback) {\n    root._bokeh_onload_callbacks.push(callback);\n    if (root._bokeh_is_loading > 0) {\n      console.log(\"Bokeh: BokehJS is being loaded, scheduling callback at\", now());\n      return null;\n    }\n    if (js_urls == null || js_urls.length === 0) {\n      run_callbacks();\n      return null;\n    }\n    console.log(\"Bokeh: BokehJS not loaded, scheduling load and callback at\", now());\n    root._bokeh_is_loading = js_urls.length;\n    for (var i = 0; i < js_urls.length; i++) {\n      var url = js_urls[i];\n      var s = document.createElement('script');\n      s.src = url;\n      s.async = false;\n      s.onreadystatechange = s.onload = function() {\n        root._bokeh_is_loading--;\n        if (root._bokeh_is_loading === 0) {\n          console.log(\"Bokeh: all BokehJS libraries loaded\");\n          run_callbacks()\n        }\n      };\n      s.onerror = function() {\n        console.warn(\"failed to load library \" + url);\n      };\n      console.log(\"Bokeh: injecting script tag for BokehJS library: \", url);\n      document.getElementsByTagName(\"head\")[0].appendChild(s);\n    }\n  };var element = document.getElementById(\"7edfe837-8fac-45ae-a647-171c2333059f\");\n  if (element == null) {\n    console.log(\"Bokeh: ERROR: autoload.js configured with elementid '7edfe837-8fac-45ae-a647-171c2333059f' but no matching script tag was found. \")\n    return false;\n  }\n\n  var js_urls = [\"https://cdn.pydata.org/bokeh/release/bokeh-0.12.16.min.js\", \"https://cdn.pydata.org/bokeh/release/bokeh-widgets-0.12.16.min.js\", \"https://cdn.pydata.org/bokeh/release/bokeh-tables-0.12.16.min.js\", \"https://cdn.pydata.org/bokeh/release/bokeh-gl-0.12.16.min.js\"];\n\n  var inline_js = [\n    function(Bokeh) {\n      Bokeh.set_log_level(\"info\");\n    },\n    \n    function(Bokeh) {\n      \n    },\n    function(Bokeh) {\n      console.log(\"Bokeh: injecting CSS: https://cdn.pydata.org/bokeh/release/bokeh-0.12.16.min.css\");\n      Bokeh.embed.inject_css(\"https://cdn.pydata.org/bokeh/release/bokeh-0.12.16.min.css\");\n      console.log(\"Bokeh: injecting CSS: https://cdn.pydata.org/bokeh/release/bokeh-widgets-0.12.16.min.css\");\n      Bokeh.embed.inject_css(\"https://cdn.pydata.org/bokeh/release/bokeh-widgets-0.12.16.min.css\");\n      console.log(\"Bokeh: injecting CSS: https://cdn.pydata.org/bokeh/release/bokeh-tables-0.12.16.min.css\");\n      Bokeh.embed.inject_css(\"https://cdn.pydata.org/bokeh/release/bokeh-tables-0.12.16.min.css\");\n    }\n  ];\n\n  function run_inline_js() {\n    \n    if ((root.Bokeh !== undefined) || (force === true)) {\n      for (var i = 0; i < inline_js.length; i++) {\n        inline_js[i].call(root, root.Bokeh);\n      }if (force === true) {\n        display_loaded();\n      }} else if (Date.now() < root._bokeh_timeout) {\n      setTimeout(run_inline_js, 100);\n    } else if (!root._bokeh_failed_load) {\n      console.log(\"Bokeh: BokehJS failed to load within specified timeout.\");\n      root._bokeh_failed_load = true;\n    } else if (force !== true) {\n      var cell = $(document.getElementById(\"7edfe837-8fac-45ae-a647-171c2333059f\")).parents('.cell').data().cell;\n      cell.output_area.append_execute_result(NB_LOAD_WARNING)\n    }\n\n  }\n\n  if (root._bokeh_is_loading === 0) {\n    console.log(\"Bokeh: BokehJS loaded, going straight to plotting\");\n    run_inline_js();\n  } else {\n    load_libs(js_urls, function() {\n      console.log(\"Bokeh: BokehJS plotting callback run at\", now());\n      run_inline_js();\n    });\n  }\n}(window));"
     },
     "metadata": {},
     "output_type": "display_data"
    },
    {
     "data": {
      "text/html": [
       "\n",
       "<div class=\"bk-root\">\n",
       "    <div class=\"bk-plotdiv\" id=\"5f672794-4d22-425d-b79d-d22db1129199\"></div>\n",
       "</div>"
      ]
     },
     "metadata": {},
     "output_type": "display_data"
    },
    {
     "data": {
      "application/javascript": [
       "(function(root) {\n",
       "  function embed_document(root) {\n",
       "    \n",
       "  var docs_json = {\"f5254cac-a40a-4eea-94be-5753d0f6a34f\":{\"roots\":{\"references\":[{\"attributes\":{\"source\":{\"id\":\"d983b4ee-322b-443e-84d0-9b61e8f467bd\",\"type\":\"ColumnDataSource\"}},\"id\":\"23282628-ce6b-4ebc-8e46-f269d2e85202\",\"type\":\"CDSView\"},{\"attributes\":{\"below\":[{\"id\":\"621addd9-fcf7-4e70-a100-fa6f7f5e68ba\",\"type\":\"LinearAxis\"}],\"left\":[{\"id\":\"454440e3-b501-4933-b597-aa38b6665954\",\"type\":\"LinearAxis\"}],\"plot_height\":400,\"plot_width\":400,\"renderers\":[{\"id\":\"621addd9-fcf7-4e70-a100-fa6f7f5e68ba\",\"type\":\"LinearAxis\"},{\"id\":\"42a72ce6-d2a4-4580-bbb4-360cd6ae405a\",\"type\":\"Grid\"},{\"id\":\"454440e3-b501-4933-b597-aa38b6665954\",\"type\":\"LinearAxis\"},{\"id\":\"f74899e5-2cea-4b73-8fe0-246bd024c2ed\",\"type\":\"Grid\"},{\"id\":\"256ebeee-0370-4932-8293-05ab50358da1\",\"type\":\"BoxAnnotation\"},{\"id\":\"40cea211-bc66-4798-8c4d-73dec686cfcf\",\"type\":\"Legend\"},{\"id\":\"a740e6a4-ed76-45fb-9257-8a85070d291f\",\"type\":\"GlyphRenderer\"},{\"id\":\"ab683aa8-4a62-4c77-a22b-cdbdc41c00d5\",\"type\":\"GlyphRenderer\"}],\"title\":{\"id\":\"bebb8aaf-3f40-4c6a-aa23-eb234f9823c1\",\"type\":\"Title\"},\"toolbar\":{\"id\":\"67ec96a9-5aa2-4dcc-b4a8-8f86bc165c3f\",\"type\":\"Toolbar\"},\"x_range\":{\"id\":\"8c52ea2f-0824-40ef-b8d9-4a92ddb5f583\",\"type\":\"DataRange1d\"},\"x_scale\":{\"id\":\"8d2ba6ac-868a-401f-a102-54e408592026\",\"type\":\"LinearScale\"},\"y_range\":{\"id\":\"42d7913c-a25f-4093-b6a0-eac39ed5760b\",\"type\":\"DataRange1d\"},\"y_scale\":{\"id\":\"6748cbf9-b650-4e9a-ad13-2f36d283e3f4\",\"type\":\"LinearScale\"}},\"id\":\"2f70de5d-099a-4d18-8eb2-31c73058cbe9\",\"subtype\":\"Figure\",\"type\":\"Plot\"},{\"attributes\":{},\"id\":\"9e95fc56-1dba-4ec6-ae29-7e93d1727039\",\"type\":\"BasicTickFormatter\"},{\"attributes\":{\"active_drag\":\"auto\",\"active_inspect\":\"auto\",\"active_scroll\":\"auto\",\"active_tap\":\"auto\",\"tools\":[{\"id\":\"2e8f70da-acdf-4e6e-8918-50fbd887edce\",\"type\":\"PanTool\"},{\"id\":\"a1a7429e-20c8-4043-8b0b-aa16131752fd\",\"type\":\"WheelZoomTool\"},{\"id\":\"f32484bb-abaa-4438-8489-a0711e88ae9a\",\"type\":\"BoxZoomTool\"},{\"id\":\"fd80b09a-2719-45d8-9ab7-ba3f9632cee5\",\"type\":\"SaveTool\"},{\"id\":\"8df359d4-da86-4643-8eef-12253dc3a4bb\",\"type\":\"ResetTool\"},{\"id\":\"6aa830d6-3ec9-4958-880b-4da98be43e31\",\"type\":\"HelpTool\"}]},\"id\":\"67ec96a9-5aa2-4dcc-b4a8-8f86bc165c3f\",\"type\":\"Toolbar\"},{\"attributes\":{\"line_alpha\":0.1,\"line_color\":\"#1f77b4\",\"x\":{\"field\":\"x\"},\"y\":{\"field\":\"y\"}},\"id\":\"852256ca-410b-4fe6-8ae2-17715d61bf35\",\"type\":\"Line\"},{\"attributes\":{},\"id\":\"8d2ba6ac-868a-401f-a102-54e408592026\",\"type\":\"LinearScale\"},{\"attributes\":{\"x\":{\"field\":\"x\"},\"y\":{\"field\":\"y\"}},\"id\":\"c3978080-4058-4e5a-a7ff-cd1760c37ead\",\"type\":\"Line\"},{\"attributes\":{\"callback\":null},\"id\":\"8c52ea2f-0824-40ef-b8d9-4a92ddb5f583\",\"type\":\"DataRange1d\"},{\"attributes\":{\"plot\":null,\"text\":\"Power law fit to v/c histogram\"},\"id\":\"bebb8aaf-3f40-4c6a-aa23-eb234f9823c1\",\"type\":\"Title\"},{\"attributes\":{},\"id\":\"628be084-3298-4cac-ba5f-76867e7664a5\",\"type\":\"Selection\"},{\"attributes\":{\"data_source\":{\"id\":\"d983b4ee-322b-443e-84d0-9b61e8f467bd\",\"type\":\"ColumnDataSource\"},\"glyph\":{\"id\":\"8030bdf4-8951-4ca7-8da5-63ca173dd09a\",\"type\":\"VBar\"},\"hover_glyph\":null,\"muted_glyph\":null,\"nonselection_glyph\":{\"id\":\"24691ace-a320-4d1b-bba7-f37339107782\",\"type\":\"VBar\"},\"selection_glyph\":null,\"view\":{\"id\":\"23282628-ce6b-4ebc-8e46-f269d2e85202\",\"type\":\"CDSView\"}},\"id\":\"a740e6a4-ed76-45fb-9257-8a85070d291f\",\"type\":\"GlyphRenderer\"},{\"attributes\":{\"callback\":null,\"data\":{\"top\":{\"__ndarray__\":\"AAAAAAAA4D8AAAAAAADgP5qZmZmZmdk/AAAAAAAA2D8AAAAAAADYPwAAAAAAANg/VVVVVVVV1T9VVVVVVVXVP1VVVVVVVdU/VVVVVVVV1T9VVVVVVVXVP1VVVVVVVdU/AAAAAAAA1D8zMzMzMzPTP5IkSZIkSdI/kiRJkiRJ0j+SJEmSJEnSP5IkSZIkSdI/dNFFF1100T900UUXXXTRPxEREREREdE/ERERERER0T8RERERERHRPwtZyEIWstA/AAAAAAAA0D8AAAAAAADQPwAAAAAAANA/AAAAAAAA0D8AAAAAAADQPwAAAAAAANA/AAAAAAAA0D8AAAAAAADQPwAAAAAAANA/AAAAAAAA0D8AAAAAAADQPwAAAAAAANA/AAAAAAAA0D8AAAAAAADQPwAAAAAAANA/AAAAAAAA0D8AAAAAAADQPwAAAAAAANA/AAAAAAAA0D8AAAAAAADQPwAAAAAAANA/AAAAAAAA0D8AAAAAAADQPwAAAAAAANA/AAAAAAAA0D8AAAAAAADQPwAAAAAAANA/AAAAAAAA0D8AAAAAAADQPwAAAAAAANA/AAAAAAAA0D8AAAAAAADQPwAAAAAAANA/nud5nud5zj8eHh4eHh7OPx4eHh4eHs4/Hh4eHh4ezj+e2Imd2InNP57YiZ3Yic0/ntiJndiJzT+e2Imd2InNPxdddNFFF80/HMdxHMdxzD8cx3Ecx3HMPxzHcRzHccw/HMdxHMdxzD8cx3Ecx3HMPxzHcRzHccw/HMdxHMdxzD8cx3Ecx3HMPxzHcRzHccw/HMdxHMdxzD8cx3Ecx3HMPxzHcRzHccw/HMdxHMdxzD8cx3Ecx3HMPxzHcRzHccw/HMdxHMdxzD8cx3Ecx3HMPxzHcRzHccw/HMdxHMdxzD8cx3Ecx3HMPxzHcRzHccw/HMdxHMdxzD8cx3Ecx3HMPxzHcRzHccw/HMdxHMdxzD8cx3Ecx3HMPxzHcRzHccw/HMdxHMdxzD8cx3Ecx3HMPxzHcRzHccw/HMdxHMdxzD8cx3Ecx3HMPxzHcRzHccw/HMdxHMdxzD8cx3Ecx3HMPxzHcRzHccw/HMdxHMdxzD8cx3Ecx3HMPxzHcRzHccw/HMdxHMdxzD8cx3Ecx3HMPxzHcRzHccw/HMdxHMdxzD8cx3Ecx3HMPxzHcRzHccw/HMdxHMdxzD8cx3Ecx3HMPxzHcRzHccw/HMdxHMdxzD8cx3Ecx3HMPxzHcRzHccw/HMdxHMdxzD8cx3Ecx3HMP73pTW9608s/27Zt27Ztyz/btm3btm3LP9u2bdu2bcs/27Zt27Ztyz8or6G8hvLKPyivobyG8so/KK+hvIbyyj8or6G8hvLKPyivobyG8so/mpmZmZmZyT+amZmZmZnJP5qZmZmZmck/mpmZmZmZyT+amZmZmZnJP5qZmZmZmck/mpmZmZmZyT+amZmZmZnJP5qZmZmZmck/mpmZmZmZyT+amZmZmZnJP5qZmZmZmck/mpmZmZmZyT+amZmZmZnJP5qZmZmZmck/mpmZmZmZyT+amZmZmZnJP5qZmZmZmck/mpmZmZmZyT+amZmZmZnJP5qZmZmZmck/mpmZmZmZyT+amZmZmZnJP5qZmZmZmck/mpmZmZmZyT+amZmZmZnJP5qZmZmZmck/mpmZmZmZyT+amZmZmZnJP5qZmZmZmck/mpmZmZmZyT+amZmZmZnJP5qZmZmZmck/mpmZmZmZyT+amZmZmZnJP5qZmZmZmck/mpmZmZmZyT+amZmZmZnJP5qZmZmZmck/mpmZmZmZyT+amZmZmZnJP5qZmZmZmck/mpmZmZmZyT+amZmZmZnJP5qZmZmZmck/mpmZmZmZyT+amZmZmZnJP5qZmZmZmck/mpmZmZmZyT+amZmZmZnJP5qZmZmZmck/mpmZmZmZyT+amZmZmZnJP5qZmZmZmck/mpmZmZmZyT+amZmZmZnJP5qZmZmZmck/mpmZmZmZyT+amZmZmZnJP5qZmZmZmck/mpmZmZmZyT+amZmZmZnJP5qZmZmZmck/mpmZmZmZyT+amZmZmZnJP5qZmZmZmck/mpmZmZmZyT+amZmZmZnJP5qZmZmZmck/mpmZmZmZyT+amZmZmZnJP5qZmZmZmck/mpmZmZmZyT+amZmZmZnJP5qZmZmZmck/mpmZmZmZyT+amZmZmZnJP5qZmZmZmck/mpmZmZmZyT+amZmZmZnJP5qZmZmZmck/mpmZmZmZyT+amZmZmZnJP5qZmZmZmck/mpmZmZmZyT+amZmZmZnJP5qZmZmZmck/mpmZmZmZyT+amZmZmZnJP5qZmZmZmck/mpmZmZmZyT+amZmZmZnJP5qZmZmZmck/mpmZmZmZyT+amZmZmZnJP5qZmZmZmck/mpmZmZmZyT+amZmZmZnJP5qZmZmZmck/mpmZmZmZyT+amZmZmZnJP5qZmZmZmck/mpmZmZmZyT+amZmZmZnJP5qZmZmZmck/mpmZmZmZyT+amZmZmZnJP5qZmZmZmck/mpmZmZmZyT+amZmZmZnJP5qZmZmZmck/mpmZmZmZyT+amZmZmZnJP5qZmZmZmck/mpmZmZmZyT+amZmZmZnJP5qZmZmZmck/mpmZmZmZyT+amZmZmZnJP5qZmZmZmck/mpmZmZmZyT+amZmZmZnJP5qZmZmZmck/mpmZmZmZyT+amZmZmZnJP5qZmZmZmck/mpmZmZmZyT+amZmZmZnJP5qZmZmZmck/mpmZmZmZyT+amZmZmZnJP5qZmZmZmck/mpmZmZmZyT+amZmZmZnJP5qZmZmZmck/mpmZmZmZyT+amZmZmZnJP5qZmZmZmck/mpmZmZmZyT+amZmZmZnJP5qZmZmZmck/mpmZmZmZyT+amZmZmZnJP5qZmZmZmck/mpmZmZmZyT+amZmZmZnJP5qZmZmZmck/mpmZmZmZyT+amZmZmZnJP5qZmZmZmck/mpmZmZmZyT8YhmEYhmHIPxiGYRiGYcg/GIZhGIZhyD8AAAAAAADIPwAAAAAAAMg/AAAAAAAAyD8AAAAAAADIPwAAAAAAAMg/AAAAAAAAyD8AAAAAAADIP0J7Ce0ltMc/RhdddNFFxz9GF1100UXHP0YXXXTRRcc/RhdddNFFxz9GF1100UXHP0YXXXTRRcc/RhdddNFFxz9GF1100UXHP0YXXXTRRcc/RhdddNFFxz9GF1100UXHP0YXXXTRRcc/RhdddNFFxz9GF1100UXHP0YXXXTRRcc/RhdddNFFxz9GF1100UXHP0YXXXTRRcc/RhdddNFFxz9GF1100UXHP0YXXXTRRcc/RhdddNFFxz9GF1100UXHP0YXXXTRRcc/RhdddNFFxz9GF1100UXHP0YXXXTRRcc/RhdddNFFxz9GF1100UXHP0YXXXTRRcc/RhdddNFFxz9GF1100UXHP0YXXXTRRcc/RhdddNFFxz9GF1100UXHP0YXXXTRRcc/RhdddNFFxz9GF1100UXHP0YXXXTRRcc/RhdddNFFxz9GF1100UXHP0YXXXTRRcc/RhdddNFFxz9GF1100UXHP0YXXXTRRcc/RhdddNFFxz9GF1100UXHP0YXXXTRRcc/RhdddNFFxz9GF1100UXHP0YXXXTRRcc/RhdddNFFxz9GF1100UXHP0YXXXTRRcc/RhdddNFFxz9GF1100UXHP0YXXXTRRcc/RhdddNFFxz9GF1100UXHP0YXXXTRRcc/RhdddNFFxz9GF1100UXHP0YXXXTRRcc/RhdddNFFxz9GF1100UXHP0YXXXTRRcc/RhdddNFFxz9GF1100UXHP0YXXXTRRcc/RhdddNFFxz9GF1100UXHP0YXXXTRRcc/RhdddNFFxz9GF1100UXHP0YXXXTRRcc/RhdddNFFxz9GF1100UXHP0YXXXTRRcc/RhdddNFFxz9GF1100UXHP0YXXXTRRcc/RhdddNFFxz9GF1100UXHP0YXXXTRRcc/RhdddNFFxz9GF1100UXHP0YXXXTRRcc/RhdddNFFxz9GF1100UXHP0YXXXTRRcc/RhdddNFFxz9GF1100UXHP0YXXXTRRcc/RhdddNFFxz9GF1100UXHP0YXXXTRRcc/RhdddNFFxz9GF1100UXHP0YXXXTRRcc/RhdddNFFxz9GF1100UXHP0YXXXTRRcc/RhdddNFFxz9GF1100UXHP0YXXXTRRcc/RhdddNFFxz9GF1100UXHP0YXXXTRRcc/RhdddNFFxz9GF1100UXHP0YXXXTRRcc/RhdddNFFxz9GF1100UXHP0YXXXTRRcc/RhdddNFFxz9GF1100UXHP0YXXXTRRcc/RhdddNFFxz9GF1100UXHP0YXXXTRRcc/RhdddNFFxz9GF1100UXHP0YXXXTRRcc/RhdddNFFxz9GF1100UXHP0YXXXTRRcc/RhdddNFFxz9GF1100UXHP0YXXXTRRcc/RhdddNFFxz9GF1100UXHP0YXXXTRRcc/RhdddNFFxz9GF1100UXHP0YXXXTRRcc/RhdddNFFxz9GF1100UXHP0YXXXTRRcc/RhdddNFFxz9GF1100UXHP0YXXXTRRcc/RhdddNFFxz9GF1100UXHP0YXXXTRRcc/RhdddNFFxz9GF1100UXHP0YXXXTRRcc/RhdddNFFxz9GF1100UXHP0YXXXTRRcc/RhdddNFFxz9GF1100UXHP0YXXXTRRcc/RhdddNFFxz9GF1100UXHP0YXXXTRRcc/RhdddNFFxz9GF1100UXHP0YXXXTRRcc/RhdddNFFxz9GF1100UXHP0YXXXTRRcc/RhdddNFFxz9GF1100UXHP5eWlpaWlsY/l5aWlpaWxj+XlpaWlpbGP5eWlpaWlsY/l5aWlpaWxj+XlpaWlpbGP2QhC1nIQsY/fBphuacRxj9VVVVVVVXFP1VVVVVVVcU/VVVVVVVVxT9VVVVVVVXFP1VVVVVVVcU/VVVVVVVVxT9VVVVVVVXFP1VVVVVVVcU/VVVVVVVVxT9VVVVVVVXFP1VVVVVVVcU/VVVVVVVVxT9VVVVVVVXFP1VVVVVVVcU/VVVVVVVVxT9VVVVVVVXFP1VVVVVVVcU/VVVVVVVVxT9VVVVVVVXFP1VVVVVVVcU/VVVVVVVVxT9VVVVVVVXFP1VVVVVVVcU/VVVVVVVVxT9VVVVVVVXFP1VVVVVVVcU/VVVVVVVVxT9VVVVVVVXFP1VVVVVVVcU/VVVVVVVVxT9VVVVVVVXFP1VVVVVVVcU/VVVVVVVVxT9VVVVVVVXFP1VVVVVVVcU/VVVVVVVVxT9VVVVVVVXFP1VVVVVVVcU/VVVVVVVVxT9VVVVVVVXFP1VVVVVVVcU/VVVVVVVVxT9VVVVVVVXFP1VVVVVVVcU/VVVVVVVVxT9VVVVVVVXFP1VVVVVVVcU/VVVVVVVVxT9VVVVVVVXFP1VVVVVVVcU/VVVVVVVVxT9VVVVVVVXFP1VVVVVVVcU/VVVVVVVVxT9VVVVVVVXFP1VVVVVVVcU/VVVVVVVVxT9VVVVVVVXFP1VVVVVVVcU/VVVVVVVVxT9VVVVVVVXFP1VVVVVVVcU/VVVVVVVVxT9VVVVVVVXFP1VVVVVVVcU/VVVVVVVVxT9VVVVVVVXFP1VVVVVVVcU/VVVVVVVVxT9VVVVVVVXFP1VVVVVVVcU/VVVVVVVVxT9VVVVVVVXFP1VVVVVVVcU/VVVVVVVVxT9VVVVVVVXFP1VVVVVVVcU/VVVVVVVVxT9VVVVVVVXFP1VVVVVVVcU/VVVVVVVVxT9VVVVVVVXFP1VVVVVVVcU/VVVVVVVVxT9VVVVVVVXFP1VVVVVVVcU/VVVVVVVVxT9VVVVVVVXFP1VVVVVVVcU/VVVVVVVVxT9VVVVVVVXFP1VVVVVVVcU/VVVVVVVVxT9VVVVVVVXFP1VVVVVVVcU/VVVVVVVVxT9VVVVVVVXFP1VVVVVVVcU/VVVVVVVVxT9VVVVVVVXFP1VVVVVVVcU/VVVVVVVVxT9VVVVVVVXFP1VVVVVVVcU/VVVVVVVVxT9VVVVVVVXFP1VVVVVVVcU/VVVVVVVVxT9VVVVVVVXFP1VVVVVVVcU/VVVVVVVVxT9VVVVVVVXFP1VVVVVVVcU/VVVVVVVVxT9VVVVVVVXFP1VVVVVVVcU/VVVVVVVVxT9VVVVVVVXFP1VVVVVVVcU/VVVVVVVVxT9VVVVVVVXFP1VVVVVVVcU/VVVVVVVVxT9VVVVVVVXFP1VVVVVVVcU/VVVVVVVVxT9VVVVVVVXFP1VVVVVVVcU/VVVVVVVVxT9VVVVVVVXFP1VVVVVVVcU/VVVVVVVVxT9VVVVVVVXFP1VVVVVVVcU/VVVVVVVVxT9VVVVVVVXFP1VVVVVVVcU/VVVVVVVVxT9VVVVVVVXFP1VVVVVVVcU/VVVVVVVVxT9VVVVVVVXFP1VVVVVVVcU/VVVVVVVVxT9VVVVVVVXFP1VVVVVVVcU/VVVVVVVVxT9VVVVVVVXFP1VVVVVVVcU/VVVVVVVVxT9VVVVVVVXFP1VVVVVVVcU/VVVVVVVVxT9VVVVVVVXFP1VVVVVVVcU/VVVVVVVVxT9VVVVVVVXFP1VVVVVVVcU/VVVVVVVVxT9VVVVVVVXFP1VVVVVVVcU/VVVVVVVVxT9VVVVVVVXFP1VVVVVVVcU/VVVVVVVVxT9VVVVVVVXFP1VVVVVVVcU/VVVVVVVVxT9VVVVVVVXFP1VVVVVVVcU/VVVVVVVVxT9VVVVVVVXFP1VVVVVVVcU/VVVVVVVVxT9VVVVVVVXFP1VVVVVVVcU/VVVVVVVVxT9VVVVVVVXFP1VVVVVVVcU/VVVVVVVVxT9VVVVVVVXFP1VVVVVVVcU/VVVVVVVVxT9VVVVVVVXFP1VVVVVVVcU/VVVVVVVVxT9VVVVVVVXFP1VVVVVVVcU/VVVVVVVVxT9VVVVVVVXFP1VVVVVVVcU/VVVVVVVVxT9VVVVVVVXFP1VVVVVVVcU/VVVVVVVVxT9VVVVVVVXFP1VVVVVVVcU/VVVVVVVVxT9VVVVVVVXFP1VVVVVVVcU/VVVVVVVVxT9VVVVVVVXFP1VVVVVVVcU/VVVVVVVVxT9VVVVVVVXFP1VVVVVVVcU/VVVVVVVVxT9VVVVVVVXFP1VVVVVVVcU/VVVVVVVVxT9VVVVVVVXFP1VVVVVVVcU/VVVVVVVVxT9VVVVVVVXFP1VVVVVVVcU/VVVVVVVVxT9VVVVVVVXFP1VVVVVVVcU/VVVVVVVVxT9VVVVVVVXFP1VVVVVVVcU/VVVVVVVVxT9VVVVVVVXFP1VVVVVVVcU/VVVVVVVVxT9VVVVVVVXFP1VVVVVVVcU/VVVVVVVVxT9VVVVVVVXFP1VVVVVVVcU/VVVVVVVVxT9VVVVVVVXFP1VVVVVVVcU/VVVVVVVVxT9VVVVVVVXFP1VVVVVVVcU/VVVVVVVVxT9VVVVVVVXFP1VVVVVVVcU/VVVVVVVVxT9VVVVVVVXFP1VVVVVVVcU/VVVVVVVVxT9VVVVVVVXFP1VVVVVVVcU/VVVVVVVVxT9VVVVVVVXFP1VVVVVVVcU/VVVVVVVVxT9VVVVVVVXFP1VVVVVVVcU/VVVVVVVVxT9VVVVVVVXFP1VVVVVVVcU/VVVVVVVVxT9VVVVVVVXFP3sUrkfhesQ/XkN5DeU1xD9eQ3kN5TXEP15DeQ3lNcQ/XkN5DeU1xD8UO7ETO7HDPxQ7sRM7scM/FDuxEzuxwz8UO7ETO7HDPxQ7sRM7scM/FDuxEzuxwz8UO7ETO7HDPxQ7sRM7scM/FDuxEzuxwz8UO7ETO7HDPxQ7sRM7scM/FDuxEzuxwz8UO7ETO7HDPxQ7sRM7scM/FDuxEzuxwz8UO7ETO7HDPxQ7sRM7scM/FDuxEzuxwz8UO7ETO7HDPxQ7sRM7scM/FDuxEzuxwz8UO7ETO7HDPxQ7sRM7scM/FDuxEzuxwz8UO7ETO7HDPxQ7sRM7scM/FDuxEzuxwz8UO7ETO7HDPxQ7sRM7scM/FDuxEzuxwz8UO7ETO7HDPxQ7sRM7scM/FDuxEzuxwz8UO7ETO7HDPxQ7sRM7scM/FDuxEzuxwz8UO7ETO7HDPxQ7sRM7scM/FDuxEzuxwz8UO7ETO7HDPxQ7sRM7scM/FDuxEzuxwz8UO7ETO7HDPxQ7sRM7scM/FDuxEzuxwz8UO7ETO7HDPxQ7sRM7scM/FDuxEzuxwz8UO7ETO7HDPxQ7sRM7scM/FDuxEzuxwz8UO7ETO7HDPxQ7sRM7scM/FDuxEzuxwz8UO7ETO7HDPxQ7sRM7scM/FDuxEzuxwz8UO7ETO7HDPxQ7sRM7scM/FDuxEzuxwz8UO7ETO7HDPxQ7sRM7scM/FDuxEzuxwz8UO7ETO7HDPxQ7sRM7scM/FDuxEzuxwz8UO7ETO7HDPxQ7sRM7scM/FDuxEzuxwz8UO7ETO7HDPxQ7sRM7scM/FDuxEzuxwz8UO7ETO7HDPxQ7sRM7scM/FDuxEzuxwz8UO7ETO7HDPxQ7sRM7scM/FDuxEzuxwz8UO7ETO7HDPxQ7sRM7scM/FDuxEzuxwz8UO7ETO7HDPxQ7sRM7scM/FDuxEzuxwz8UO7ETO7HDPxQ7sRM7scM/FDuxEzuxwz8UO7ETO7HDPxQ7sRM7scM/FDuxEzuxwz8UO7ETO7HDPxQ7sRM7scM/FDuxEzuxwz8UO7ETO7HDPxQ7sRM7scM/FDuxEzuxwz8UO7ETO7HDPxQ7sRM7scM/FDuxEzuxwz8UO7ETO7HDPxQ7sRM7scM/FDuxEzuxwz8UO7ETO7HDPxQ7sRM7scM/FDuxEzuxwz8UO7ETO7HDPxQ7sRM7scM/FDuxEzuxwz8UO7ETO7HDPxQ7sRM7scM/FDuxEzuxwz8UO7ETO7HDPxQ7sRM7scM/FDuxEzuxwz8UO7ETO7HDPxQ7sRM7scM/FDuxEzuxwz8UO7ETO7HDPxQ7sRM7scM/FDuxEzuxwz8UO7ETO7HDPxQ7sRM7scM/FDuxEzuxwz8UO7ETO7HDPxQ7sRM7scM/FDuxEzuxwz8UO7ETO7HDPxQ7sRM7scM/FDuxEzuxwz8UO7ETO7HDPxQ7sRM7scM/FDuxEzuxwz8UO7ETO7HDPxQ7sRM7scM/FDuxEzuxwz8UO7ETO7HDPxQ7sRM7scM/FDuxEzuxwz8UO7ETO7HDPxQ7sRM7scM/FDuxEzuxwz8UO7ETO7HDPxQ7sRM7scM/FDuxEzuxwz8UO7ETO7HDPxQ7sRM7scM/FDuxEzuxwz8UO7ETO7HDPxQ7sRM7scM/FDuxEzuxwz8UO7ETO7HDPxQ7sRM7scM/FDuxEzuxwz8UO7ETO7HDPxQ7sRM7scM/FDuxEzuxwz8UO7ETO7HDPxQ7sRM7scM/FDuxEzuxwz8UO7ETO7HDPxQ7sRM7scM/FDuxEzuxwz8UO7ETO7HDPxQ7sRM7scM/FDuxEzuxwz8UO7ETO7HDPxQ7sRM7scM/FDuxEzuxwz8UO7ETO7HDPxQ7sRM7scM/FDuxEzuxwz8UO7ETO7HDPxQ7sRM7scM/FDuxEzuxwz8UO7ETO7HDPxQ7sRM7scM/FDuxEzuxwz8UO7ETO7HDPxQ7sRM7scM/FDuxEzuxwz8UO7ETO7HDPxQ7sRM7scM/FDuxEzuxwz8UO7ETO7HDPxQ7sRM7scM/FDuxEzuxwz8UO7ETO7HDPxQ7sRM7scM/FDuxEzuxwz8UO7ETO7HDPxQ7sRM7scM/FDuxEzuxwz8UO7ETO7HDPxQ7sRM7scM/FDuxEzuxwz8UO7ETO7HDPxQ7sRM7scM/FDuxEzuxwz8UO7ETO7HDPxQ7sRM7scM/FDuxEzuxwz8UO7ETO7HDPxQ7sRM7scM/FDuxEzuxwz8zMzMzMzPDPzMzMzMzM8M/MzMzMzMzwz8zMzMzMzPDPzMzMzMzM8M/MzMzMzMzwz8zMzMzMzPDPzMzMzMzM8M/MzMzMzMzwz8zMzMzMzPDP2gvob2E9sI/aC+hvYT2wj+SJEmSJEnCP5IkSZIkScI/kiRJkiRJwj+SJEmSJEnCP5IkSZIkScI/kiRJkiRJwj+SJEmSJEnCP5IkSZIkScI/kiRJkiRJwj+SJEmSJEnCP5IkSZIkScI/kiRJkiRJwj+SJEmSJEnCP5IkSZIkScI/kiRJkiRJwj+SJEmSJEnCP5IkSZIkScI/kiRJkiRJwj+SJEmSJEnCP5IkSZIkScI/kiRJkiRJwj+SJEmSJEnCP5IkSZIkScI/kiRJkiRJwj+SJEmSJEnCP5IkSZIkScI/kiRJkiRJwj+SJEmSJEnCP5IkSZIkScI/kiRJkiRJwj+SJEmSJEnCP5IkSZIkScI/kiRJkiRJwj+SJEmSJEnCP5IkSZIkScI/kiRJkiRJwj+SJEmSJEnCP5IkSZIkScI/kiRJkiRJwj+SJEmSJEnCP5IkSZIkScI/kiRJkiRJwj+SJEmSJEnCP5IkSZIkScI/kiRJkiRJwj+SJEmSJEnCP5IkSZIkScI/kiRJkiRJwj+SJEmSJEnCP5IkSZIkScI/kiRJkiRJwj+SJEmSJEnCP5IkSZIkScI/kiRJkiRJwj+SJEmSJEnCP5IkSZIkScI/kiRJkiRJwj+SJEmSJEnCP5IkSZIkScI/kiRJkiRJwj+SJEmSJEnCP5IkSZIkScI/kiRJkiRJwj+SJEmSJEnCP5IkSZIkScI/kiRJkiRJwj+SJEmSJEnCP5IkSZIkScI/kiRJkiRJwj+SJEmSJEnCP5IkSZIkScI/kiRJkiRJwj+SJEmSJEnCP5IkSZIkScI/kiRJkiRJwj+SJEmSJEnCP5IkSZIkScI/kiRJkiRJwj+SJEmSJEnCP5IkSZIkScI/kiRJkiRJwj+SJEmSJEnCP5IkSZIkScI/kiRJkiRJwj+SJEmSJEnCP5IkSZIkScI/kiRJkiRJwj+SJEmSJEnCP5IkSZIkScI/kiRJkiRJwj+SJEmSJEnCP5IkSZIkScI/kiRJkiRJwj+SJEmSJEnCP5IkSZIkScI/kiRJkiRJwj+SJEmSJEnCP5IkSZIkScI/kiRJkiRJwj+SJEmSJEnCP5IkSZIkScI/kiRJkiRJwj+SJEmSJEnCP5IkSZIkScI/kiRJkiRJwj+SJEmSJEnCP5IkSZIkScI/kiRJkiRJwj+SJEmSJEnCP5IkSZIkScI/kiRJkiRJwj+SJEmSJEnCP5IkSZIkScI/kiRJkiRJwj+SJEmSJEnCP5IkSZIkScI/kiRJkiRJwj+SJEmSJEnCP5IkSZIkScI/kiRJkiRJwj+SJEmSJEnCP5IkSZIkScI/kiRJkiRJwj+SJEmSJEnCP5IkSZIkScI/kiRJkiRJwj+SJEmSJEnCP5IkSZIkScI/kiRJkiRJwj+SJEmSJEnCP5IkSZIkScI/kiRJkiRJwj+SJEmSJEnCP5IkSZIkScI/kiRJkiRJwj+SJEmSJEnCP5IkSZIkScI/kiRJkiRJwj+SJEmSJEnCP5IkSZIkScI/kiRJkiRJwj+SJEmSJEnCP5IkSZIkScI/kiRJkiRJwj+SJEmSJEnCP5IkSZIkScI/kiRJkiRJwj+SJEmSJEnCP5IkSZIkScI/kiRJkiRJwj+SJEmSJEnCP5IkSZIkScI/kiRJkiRJwj+SJEmSJEnCP5IkSZIkScI/kiRJkiRJwj+SJEmSJEnCP5IkSZIkScI/kiRJkiRJwj+SJEmSJEnCP5IkSZIkScI/kiRJkiRJwj+SJEmSJEnCP5IkSZIkScI/kiRJkiRJwj+SJEmSJEnCP5IkSZIkScI/kiRJkiRJwj+SJEmSJEnCP5IkSZIkScI/kiRJkiRJwj+SJEmSJEnCP5IkSZIkScI/kiRJkiRJwj+SJEmSJEnCP5IkSZIkScI/kiRJkiRJwj+SJEmSJEnCP5IkSZIkScI/kiRJkiRJwj+SJEmSJEnCP5IkSZIkScI/kiRJkiRJwj+SJEmSJEnCP5IkSZIkScI/kiRJkiRJwj+SJEmSJEnCP5IkSZIkScI/kiRJkiRJwj+SJEmSJEnCP5IkSZIkScI/kiRJkiRJwj+SJEmSJEnCP5IkSZIkScI/kiRJkiRJwj+SJEmSJEnCP5IkSZIkScI/kiRJkiRJwj+SJEmSJEnCP5IkSZIkScI/kiRJkiRJwj+SJEmSJEnCP5IkSZIkScI/kiRJkiRJwj+SJEmSJEnCP5IkSZIkScI/kiRJkiRJwj+SJEmSJEnCP5IkSZIkScI/kiRJkiRJwj+SJEmSJEnCP5IkSZIkScI/kiRJkiRJwj+SJEmSJEnCP5IkSZIkScI/kiRJkiRJwj+SJEmSJEnCP5IkSZIkScI/kiRJkiRJwj+SJEmSJEnCP5IkSZIkScI/kiRJkiRJwj+SJEmSJEnCP5IkSZIkScI/kiRJkiRJwj+SJEmSJEnCP5IkSZIkScI/kiRJkiRJwj+SJEmSJEnCP5IkSZIkScI/kiRJkiRJwj+SJEmSJEnCP5IkSZIkScI/kiRJkiRJwj+SJEmSJEnCP5IkSZIkScI/kiRJkiRJwj+SJEmSJEnCP5IkSZIkScI/kiRJkiRJwj+SJEmSJEnCP5IkSZIkScI/kiRJkiRJwj+SJEmSJEnCP5IkSZIkScI/kiRJkiRJwj+SJEmSJEnCP5IkSZIkScI/kiRJkiRJwj+SJEmSJEnCP5IkSZIkScI/kiRJkiRJwj+SJEmSJEnCP5IkSZIkScI/kiRJkiRJwj+SJEmSJEnCP5IkSZIkScI/kiRJkiRJwj+SJEmSJEnCP5IkSZIkScI/kiRJkiRJwj+SJEmSJEnCP5IkSZIkScI/kiRJkiRJwj+SJEmSJEnCP5IkSZIkScI/kiRJkiRJwj+SJEmSJEnCP5IkSZIkScI/kiRJkiRJwj+SJEmSJEnCP5IkSZIkScI/kiRJkiRJwj+SJEmSJEnCP5IkSZIkScI/kiRJkiRJwj+SJEmSJEnCP5IkSZIkScI/kiRJkiRJwj+SJEmSJEnCP5IkSZIkScI/kiRJkiRJwj+SJEmSJEnCP5IkSZIkScI/kiRJkiRJwj+SJEmSJEnCP5IkSZIkScI/kiRJkiRJwj+SJEmSJEnCP5IkSZIkScI/kiRJkiRJwj+SJEmSJEnCP5IkSZIkScI/kiRJkiRJwj+SJEmSJEnCP3TRRRdddME/dNFFF110wT900UUXXXTBP3TRRRdddME/dNFFF110wT900UUXXXTBP3TRRRdddME/ERERERERwT8RERERERHBPxEREREREcE/ERERERERwT8RERERERHBPxEREREREcE/ERERERERwT8RERERERHBPxEREREREcE/ERERERERwT8RERERERHBPxEREREREcE/ERERERERwT8RERERERHBPxEREREREcE/ERERERERwT8RERERERHBPxEREREREcE/ERERERERwT8RERERERHBPxEREREREcE/ERERERERwT8RERERERHBPxEREREREcE/ERERERERwT8RERERERHBPxEREREREcE/ERERERERwT8RERERERHBPxEREREREcE/ERERERERwT8RERERERHBPxEREREREcE/ERERERERwT8RERERERHBPxEREREREcE/ERERERERwT8RERERERHBPxEREREREcE/ERERERERwT8RERERERHBPxEREREREcE/ERERERERwT8RERERERHBPxEREREREcE/ERERERERwT8RERERERHBPxEREREREcE/ERERERERwT8RERERERHBPxEREREREcE/ERERERERwT8RERERERHBPxEREREREcE/ERERERERwT8RERERERHBPxEREREREcE/ERERERERwT8RERERERHBPxEREREREcE/ERERERERwT8RERERERHBPxEREREREcE/ERERERERwT8RERERERHBPxEREREREcE/ERERERERwT8RERERERHBPxEREREREcE/ERERERERwT8RERERERHBPxEREREREcE/ERERERERwT8RERERERHBPxEREREREcE/ERERERERwT8RERERERHBPxEREREREcE/ERERERERwT8RERERERHBPxEREREREcE/ERERERERwT8RERERERHBPxEREREREcE/ERERERERwT8RERERERHBPxEREREREcE/ERERERERwT8RERERERHBPxEREREREcE/ERERERERwT8RERERERHBPxEREREREcE/ERERERERwT8RERERERHBPxEREREREcE/ERERERERwT8RERERERHBPxEREREREcE/ERERERERwT8RERERERHBPxEREREREcE/ERERERERwT8RERERERHBPxEREREREcE/ERERERERwT8RERERERHBPxEREREREcE/ERERERERwT8RERERERHBPxEREREREcE/ERERERERwT8RERERERHBPxEREREREcE/ERERERERwT8RERERERHBPxEREREREcE/ERERERERwT8RERERERHBPxEREREREcE/ERERERERwT8RERERERHBPxEREREREcE/ERERERERwT8RERERERHBPxEREREREcE/ERERERERwT8RERERERHBPxEREREREcE/ERERERERwT8RERERERHBPxEREREREcE/ERERERERwT8RERERERHBPxEREREREcE/ERERERERwT8RERERERHBPxEREREREcE/ERERERERwT8RERERERHBPxEREREREcE/ERERERERwT8RERERERHBPxEREREREcE/ERERERERwT8RERERERHBPxEREREREcE/ERERERERwT8RERERERHBPxEREREREcE/ERERERERwT8RERERERHBPxEREREREcE/ERERERERwT8RERERERHBPxEREREREcE/ERERERERwT8RERERERHBPxEREREREcE/ERERERERwT8RERERERHBPxEREREREcE/ERERERERwT8RERERERHBPxEREREREcE/C1nIQhaywD8LWchCFrLAPwtZyEIWssA/C1nIQhaywD8LWchCFrLAPwtZyEIWssA/C1nIQhaywD8LWchCFrLAPwtZyEIWssA/AAAAAAAAwD8AAAAAAADAPwAAAAAAAMA/AAAAAAAAwD8AAAAAAADAPwAAAAAAAMA/AAAAAAAAwD8AAAAAAADAPwAAAAAAAMA/AAAAAAAAwD8AAAAAAADAPwAAAAAAAMA/AAAAAAAAwD8AAAAAAADAPwAAAAAAAMA/AAAAAAAAwD8AAAAAAADAPwAAAAAAAMA/AAAAAAAAwD8AAAAAAADAPwAAAAAAAMA/AAAAAAAAwD8AAAAAAADAPwAAAAAAAMA/AAAAAAAAwD8AAAAAAADAPwAAAAAAAMA/AAAAAAAAwD8AAAAAAADAPwAAAAAAAMA/AAAAAAAAwD8AAAAAAADAPwAAAAAAAMA/AAAAAAAAwD8AAAAAAADAPwAAAAAAAMA/AAAAAAAAwD8AAAAAAADAPwAAAAAAAMA/AAAAAAAAwD8AAAAAAADAPwAAAAAAAMA/AAAAAAAAwD8AAAAAAADAPwAAAAAAAMA/AAAAAAAAwD8AAAAAAADAPwAAAAAAAMA/AAAAAAAAwD8AAAAAAADAPwAAAAAAAMA/AAAAAAAAwD8AAAAAAADAPwAAAAAAAMA/AAAAAAAAwD8AAAAAAADAPwAAAAAAAMA/AAAAAAAAwD8AAAAAAADAPwAAAAAAAMA/AAAAAAAAwD8AAAAAAADAPwAAAAAAAMA/AAAAAAAAwD8AAAAAAADAPwAAAAAAAMA/AAAAAAAAwD8AAAAAAADAPwAAAAAAAMA/AAAAAAAAwD8AAAAAAADAPwAAAAAAAMA/AAAAAAAAwD8AAAAAAADAPwAAAAAAAMA/AAAAAAAAwD8AAAAAAADAPwAAAAAAAMA/AAAAAAAAwD8AAAAAAADAPwAAAAAAAMA/AAAAAAAAwD8AAAAAAADAPwAAAAAAAMA/AAAAAAAAwD8AAAAAAADAPwAAAAAAAMA/AAAAAAAAwD8AAAAAAADAPwAAAAAAAMA/AAAAAAAAwD8AAAAAAADAPwAAAAAAAMA/AAAAAAAAwD8AAAAAAADAPwAAAAAAAMA/AAAAAAAAwD8AAAAAAADAPwAAAAAAAMA/AAAAAAAAwD8AAAAAAADAPwAAAAAAAMA/AAAAAAAAwD8AAAAAAADAPwAAAAAAAMA/AAAAAAAAwD8AAAAAAADAPwAAAAAAAMA/AAAAAAAAwD8AAAAAAADAPwAAAAAAAMA/AAAAAAAAwD8AAAAAAADAPwAAAAAAAMA/AAAAAAAAwD8AAAAAAADAPwAAAAAAAMA/AAAAAAAAwD8AAAAAAADAPwAAAAAAAMA/AAAAAAAAwD8AAAAAAADAPwAAAAAAAMA/AAAAAAAAwD8AAAAAAADAPwAAAAAAAMA/AAAAAAAAwD8AAAAAAADAPwAAAAAAAMA/AAAAAAAAwD8AAAAAAADAPwAAAAAAAMA/AAAAAAAAwD8AAAAAAADAPwAAAAAAAMA/AAAAAAAAwD8AAAAAAADAPwAAAAAAAMA/AAAAAAAAwD8AAAAAAADAPwAAAAAAAMA/AAAAAAAAwD8AAAAAAADAPwAAAAAAAMA/AAAAAAAAwD8AAAAAAADAPwAAAAAAAMA/AAAAAAAAwD8AAAAAAADAPwAAAAAAAMA/AAAAAAAAwD8AAAAAAADAPwAAAAAAAMA/AAAAAAAAwD8AAAAAAADAPwAAAAAAAMA/AAAAAAAAwD8AAAAAAADAPwAAAAAAAMA/AAAAAAAAwD8AAAAAAADAPwAAAAAAAMA/AAAAAAAAwD8AAAAAAADAPwAAAAAAAMA/AAAAAAAAwD8AAAAAAADAPwAAAAAAAMA/AAAAAAAAwD8AAAAAAADAPwAAAAAAAMA/AAAAAAAAwD8AAAAAAADAPwAAAAAAAMA/AAAAAAAAwD8AAAAAAADAPwAAAAAAAMA/AAAAAAAAwD8AAAAAAADAPwAAAAAAAMA/AAAAAAAAwD8AAAAAAADAPwAAAAAAAMA/AAAAAAAAwD8AAAAAAADAPwAAAAAAAMA/AAAAAAAAwD8AAAAAAADAPwAAAAAAAMA/AAAAAAAAwD8AAAAAAADAPwAAAAAAAMA/AAAAAAAAwD8AAAAAAADAPwAAAAAAAMA/AAAAAAAAwD8AAAAAAADAPwAAAAAAAMA/AAAAAAAAwD8AAAAAAADAPwAAAAAAAMA/AAAAAAAAwD8AAAAAAADAPwAAAAAAAMA/AAAAAAAAwD8AAAAAAADAPwAAAAAAAMA/AAAAAAAAwD8AAAAAAADAPwAAAAAAAMA/AAAAAAAAwD8AAAAAAADAPwAAAAAAAMA/AAAAAAAAwD8AAAAAAADAPwAAAAAAAMA/AAAAAAAAwD8AAAAAAADAPwAAAAAAAMA/AAAAAAAAwD8AAAAAAADAPwAAAAAAAMA/AAAAAAAAwD8AAAAAAADAPwAAAAAAAMA/AAAAAAAAwD+4HoXrUbi+P7gehetRuL4/uB6F61G4vj+4HoXrUbi+Px4eHh4eHr4/Hh4eHh4evj8eHh4eHh6+Px4eHh4eHr4/Hh4eHh4evj8eHh4eHh6+Px4eHh4eHr4/Hh4eHh4evj8eHh4eHh6+Px4eHh4eHr4/Hh4eHh4evj8eHh4eHh6+Px4eHh4eHr4/Hh4eHh4evj8eHh4eHh6+Px4eHh4eHr4/Hh4eHh4evj8eHh4eHh6+Px4eHh4eHr4/Hh4eHh4evj8eHh4eHh6+Px4eHh4eHr4/Hh4eHh4evj8eHh4eHh6+Px4eHh4eHr4/Hh4eHh4evj8eHh4eHh6+Px4eHh4eHr4/Hh4eHh4evj8eHh4eHh6+Px4eHh4eHr4/Hh4eHh4evj8eHh4eHh6+Px4eHh4eHr4/Hh4eHh4evj8eHh4eHh6+Px4eHh4eHr4/Hh4eHh4evj8eHh4eHh6+Px4eHh4eHr4/Hh4eHh4evj8eHh4eHh6+Px4eHh4eHr4/Hh4eHh4evj8eHh4eHh6+Px4eHh4eHr4/Hh4eHh4evj8eHh4eHh6+Px4eHh4eHr4/Hh4eHh4evj8eHh4eHh6+Px4eHh4eHr4/Hh4eHh4evj8eHh4eHh6+Px4eHh4eHr4/Hh4eHh4evj8eHh4eHh6+Px4eHh4eHr4/Hh4eHh4evj8eHh4eHh6+Px4eHh4eHr4/Hh4eHh4evj8eHh4eHh6+Px4eHh4eHr4/Hh4eHh4evj8eHh4eHh6+Px4eHh4eHr4/Hh4eHh4evj8eHh4eHh6+Px4eHh4eHr4/Hh4eHh4evj8eHh4eHh6+Px4eHh4eHr4/Hh4eHh4evj8eHh4eHh6+Px4eHh4eHr4/Hh4eHh4evj8eHh4eHh6+Px4eHh4eHr4/Hh4eHh4evj8eHh4eHh6+Px4eHh4eHr4/Hh4eHh4evj8eHh4eHh6+Px4eHh4eHr4/Hh4eHh4evj8eHh4eHh6+Px4eHh4eHr4/Hh4eHh4evj+e2Imd2Im9P57YiZ3Yib0/ntiJndiJvT+e2Imd2Im9P57YiZ3Yib0/ntiJndiJvT8cx3Ecx3G8PxzHcRzHcbw/HMdxHMdxvD8cx3Ecx3G8PxzHcRzHcbw/HMdxHMdxvD8cx3Ecx3G8PxzHcRzHcbw/HMdxHMdxvD8cx3Ecx3G8PxzHcRzHcbw/HMdxHMdxvD8cx3Ecx3G8PxzHcRzHcbw/HMdxHMdxvD8cx3Ecx3G8PxzHcRzHcbw/HMdxHMdxvD8cx3Ecx3G8PxzHcRzHcbw/HMdxHMdxvD8cx3Ecx3G8PxzHcRzHcbw/HMdxHMdxvD8cx3Ecx3G8PxzHcRzHcbw/HMdxHMdxvD8cx3Ecx3G8PxzHcRzHcbw/HMdxHMdxvD8cx3Ecx3G8PxzHcRzHcbw/HMdxHMdxvD8cx3Ecx3G8PxzHcRzHcbw/HMdxHMdxvD8cx3Ecx3G8PxzHcRzHcbw/HMdxHMdxvD8cx3Ecx3G8PxzHcRzHcbw/HMdxHMdxvD8cx3Ecx3G8PxzHcRzHcbw/HMdxHMdxvD8cx3Ecx3G8PxzHcRzHcbw/HMdxHMdxvD8cx3Ecx3G8PxzHcRzHcbw/HMdxHMdxvD8cx3Ecx3G8PxzHcRzHcbw/HMdxHMdxvD8cx3Ecx3G8PxzHcRzHcbw/HMdxHMdxvD8cx3Ecx3G8PxzHcRzHcbw/HMdxHMdxvD8cx3Ecx3G8PxzHcRzHcbw/HMdxHMdxvD8cx3Ecx3G8PxzHcRzHcbw/HMdxHMdxvD8cx3Ecx3G8PxzHcRzHcbw/HMdxHMdxvD8cx3Ecx3G8PxzHcRzHcbw/HMdxHMdxvD8cx3Ecx3G8PxzHcRzHcbw/HMdxHMdxvD8cx3Ecx3G8PxzHcRzHcbw/HMdxHMdxvD8cx3Ecx3G8PxzHcRzHcbw/HMdxHMdxvD8cx3Ecx3G8PxzHcRzHcbw/HMdxHMdxvD8cx3Ecx3G8PxzHcRzHcbw/HMdxHMdxvD8cx3Ecx3G8PxzHcRzHcbw/HMdxHMdxvD8cx3Ecx3G8PxzHcRzHcbw/HMdxHMdxvD8cx3Ecx3G8PxzHcRzHcbw/HMdxHMdxvD8cx3Ecx3G8PxzHcRzHcbw/HMdxHMdxvD8cx3Ecx3G8PxzHcRzHcbw/HMdxHMdxvD8cx3Ecx3G8PxzHcRzHcbw/HMdxHMdxvD8cx3Ecx3G8PxzHcRzHcbw/HMdxHMdxvD8cx3Ecx3G8PxzHcRzHcbw/HMdxHMdxvD8cx3Ecx3G8PxzHcRzHcbw/HMdxHMdxvD8cx3Ecx3G8PxzHcRzHcbw/HMdxHMdxvD8cx3Ecx3G8PxzHcRzHcbw/HMdxHMdxvD8cx3Ecx3G8PxzHcRzHcbw/HMdxHMdxvD8cx3Ecx3G8PxzHcRzHcbw/HMdxHMdxvD8cx3Ecx3G8PxzHcRzHcbw/HMdxHMdxvD8cx3Ecx3G8PxzHcRzHcbw/HMdxHMdxvD8cx3Ecx3G8PxzHcRzHcbw/HMdxHMdxvD8cx3Ecx3G8PxzHcRzHcbw/HMdxHMdxvD8cx3Ecx3G8PxzHcRzHcbw/HMdxHMdxvD8cx3Ecx3G8PxzHcRzHcbw/HMdxHMdxvD8cx3Ecx3G8PxzHcRzHcbw/HMdxHMdxvD8cx3Ecx3G8PxzHcRzHcbw/HMdxHMdxvD8cx3Ecx3G8PxzHcRzHcbw/HMdxHMdxvD8cx3Ecx3G8PxzHcRzHcbw/HMdxHMdxvD8cx3Ecx3G8PxzHcRzHcbw/HMdxHMdxvD8cx3Ecx3G8PxzHcRzHcbw/HMdxHMdxvD8cx3Ecx3G8PxzHcRzHcbw/HMdxHMdxvD8cx3Ecx3G8PxzHcRzHcbw/HMdxHMdxvD8cx3Ecx3G8PxzHcRzHcbw/HMdxHMdxvD8cx3Ecx3G8PxzHcRzHcbw/HMdxHMdxvD8cx3Ecx3G8PxzHcRzHcbw/HMdxHMdxvD8cx3Ecx3G8PxzHcRzHcbw/HMdxHMdxvD8cx3Ecx3G8PxzHcRzHcbw/HMdxHMdxvD8cx3Ecx3G8PxzHcRzHcbw/HMdxHMdxvD8cx3Ecx3G8PxzHcRzHcbw/HMdxHMdxvD8cx3Ecx3G8PxzHcRzHcbw/HMdxHMdxvD8cx3Ecx3G8PxzHcRzHcbw/HMdxHMdxvD8cx3Ecx3G8PxzHcRzHcbw/HMdxHMdxvD/btm3btm27PyivobyG8ro/KK+hvIbyuj8or6G8hvK6PyivobyG8ro/KK+hvIbyuj8or6G8hvK6PyivobyG8ro/KK+hvIbyuj8or6G8hvK6PyivobyG8ro/KK+hvIbyuj8or6G8hvK6PyivobyG8ro/KK+hvIbyuj8or6G8hvK6PyivobyG8ro/KK+hvIbyuj8or6G8hvK6PyivobyG8ro/KK+hvIbyuj8or6G8hvK6PyivobyG8ro/KK+hvIbyuj8or6G8hvK6PyivobyG8ro/KK+hvIbyuj8or6G8hvK6PyivobyG8ro/KK+hvIbyuj8or6G8hvK6PyivobyG8ro/KK+hvIbyuj8or6G8hvK6PyivobyG8ro/KK+hvIbyuj8or6G8hvK6PyivobyG8ro/KK+hvIbyuj8or6G8hvK6PyivobyG8ro/KK+hvIbyuj8or6G8hvK6PyivobyG8ro/KK+hvIbyuj8or6G8hvK6PyivobyG8ro/KK+hvIbyuj8or6G8hvK6PyivobyG8ro/KK+hvIbyuj8or6G8hvK6PyivobyG8ro/KK+hvIbyuj8or6G8hvK6PyivobyG8ro/KK+hvIbyuj9huacRlnu6P2G5pxGWe7o/mpmZmZmZuT+amZmZmZm5P5qZmZmZmbk/mpmZmZmZuT+amZmZmZm5P5qZmZmZmbk/mpmZmZmZuT+amZmZmZm5P5qZmZmZmbk/mpmZmZmZuT+amZmZmZm5P5qZmZmZmbk/mpmZmZmZuT+amZmZmZm5P5qZmZmZmbk/mpmZmZmZuT+amZmZmZm5P5qZmZmZmbk/mpmZmZmZuT+amZmZmZm5P5qZmZmZmbk/mpmZmZmZuT+amZmZmZm5P5qZmZmZmbk/mpmZmZmZuT+amZmZmZm5P5qZmZmZmbk/mpmZmZmZuT+amZmZmZm5P5qZmZmZmbk/mpmZmZmZuT+amZmZmZm5P5qZmZmZmbk/mpmZmZmZuT+amZmZmZm5P5qZmZmZmbk/mpmZmZmZuT+amZmZmZm5P5qZmZmZmbk/mpmZmZmZuT+amZmZmZm5P5qZmZmZmbk/mpmZmZmZuT+amZmZmZm5P5qZmZmZmbk/mpmZmZmZuT+amZmZmZm5P5qZmZmZmbk/mpmZmZmZuT+amZmZmZm5P5qZmZmZmbk/mpmZmZmZuT+amZmZmZm5P5qZmZmZmbk/mpmZmZmZuT+amZmZmZm5P5qZmZmZmbk/mpmZmZmZuT+amZmZmZm5P5qZmZmZmbk/mpmZmZmZuT+amZmZmZm5P5qZmZmZmbk/mpmZmZmZuT+amZmZmZm5P5qZmZmZmbk/mpmZmZmZuT+amZmZmZm5P5qZmZmZmbk/mpmZmZmZuT+amZmZmZm5P5qZmZmZmbk/mpmZmZmZuT+amZmZmZm5P5qZmZmZmbk/mpmZmZmZuT+amZmZmZm5P5qZmZmZmbk/mpmZmZmZuT+amZmZmZm5P5qZmZmZmbk/mpmZmZmZuT+amZmZmZm5P5qZmZmZmbk/mpmZmZmZuT+amZmZmZm5P5qZmZmZmbk/mpmZmZmZuT+amZmZmZm5P5qZmZmZmbk/mpmZmZmZuT+amZmZmZm5P5qZmZmZmbk/mpmZmZmZuT+amZmZmZm5P5qZmZmZmbk/mpmZmZmZuT+amZmZmZm5P8YYY4wxxrg/GIZhGIZhuD8YhmEYhmG4PxiGYRiGYbg/GIZhGIZhuD8YhmEYhmG4PxiGYRiGYbg/GIZhGIZhuD8YhmEYhmG4PxiGYRiGYbg/GIZhGIZhuD8YhmEYhmG4PxiGYRiGYbg/GIZhGIZhuD8YhmEYhmG4PxiGYRiGYbg/GIZhGIZhuD8YhmEYhmG4PxiGYRiGYbg/GIZhGIZhuD8YhmEYhmG4PxiGYRiGYbg/GIZhGIZhuD9GF1100UW3P0YXXXTRRbc/RhdddNFFtz9GF1100UW3P0YXXXTRRbc/RhdddNFFtz9GF1100UW3P0YXXXTRRbc/RhdddNFFtz9GF1100UW3P0YXXXTRRbc/RhdddNFFtz9GF1100UW3P0YXXXTRRbc/RhdddNFFtz9GF1100UW3P0YXXXTRRbc/RhdddNFFtz9GF1100UW3P0YXXXTRRbc/RhdddNFFtz9GF1100UW3P0YXXXTRRbc/RhdddNFFtz9GF1100UW3P0YXXXTRRbc/RhdddNFFtz9GF1100UW3P0YXXXTRRbc/RhdddNFFtz9GF1100UW3P0YXXXTRRbc/RhdddNFFtz9GF1100UW3P0YXXXTRRbc/RhdddNFFtz9GF1100UW3P0YXXXTRRbc/RhdddNFFtz9GF1100UW3P0YXXXTRRbc/RhdddNFFtz9GF1100UW3P0YXXXTRRbc/RhdddNFFtz9GF1100UW3P0YXXXTRRbc/RhdddNFFtz9GF1100UW3P0YXXXTRRbc/RhdddNFFtz9GF1100UW3P0YXXXTRRbc/RhdddNFFtz9GF1100UW3P0YXXXTRRbc/RhdddNFFtz9GF1100UW3P0YXXXTRRbc/RhdddNFFtz9GF1100UW3P0YXXXTRRbc/RhdddNFFtz9GF1100UW3P0YXXXTRRbc/RhdddNFFtz9GF1100UW3P0YXXXTRRbc/RhdddNFFtz+XlpaWlpa2P2QhC1nIQrY/ZCELWchCtj9kIQtZyEK2P2QhC1nIQrY/ZCELWchCtj9kIQtZyEK2P2QhC1nIQrY/ZCELWchCtj9kIQtZyEK2P2QhC1nIQrY/ZCELWchCtj9kIQtZyEK2P2QhC1nIQrY/ZCELWchCtj9kIQtZyEK2P2QhC1nIQrY/Fl/xFV/xtT9VVVVVVVW1P1VVVVVVVbU/VVVVVVVVtT9VVVVVVVW1P1VVVVVVVbU/VVVVVVVVtT9VVVVVVVW1P1VVVVVVVbU/VVVVVVVVtT9VVVVVVVW1P1VVVVVVVbU/VVVVVVVVtT9VVVVVVVW1P1VVVVVVVbU/VVVVVVVVtT9VVVVVVVW1P1VVVVVVVbU/VVVVVVVVtT9VVVVVVVW1P3sUrkfherQ/exSuR+F6tD97FK5H4Xq0P3sUrkfherQ/exSuR+F6tD97FK5H4Xq0PxQ7sRM7sbM/FDuxEzuxsz8UO7ETO7GzPxQ7sRM7sbM/FDuxEzuxsz8UO7ETO7GzPxQ7sRM7sbM/FDuxEzuxsz8UO7ETO7GzPxQ7sRM7sbM/FDuxEzuxsz8UO7ETO7GzP2gvob2E9rI/aC+hvYT2sj9oL6G9hPayP2gvob2E9rI/kiRJkiRJsj+SJEmSJEmyP5IkSZIkSbI/kiRJkiRJsj+SJEmSJEmyP5IkSZIkSbI/kiRJkiRJsj+WexphuaexP5Z7GmG5p7E/ERERERERsT8RERERERGxPx4eHh4eHq4/Hh4eHh4erj8cx3Ecx3GsPxzHcRzHcaw/AAAAAAAAAAAAAAAAAAAAAAAAAAAAAAAAAAAAAAAAAAAAAAAAAAAAAAAAAAAAAAAAAAAAAAAAAAAAAAAAAAAAAAAAAAAAAAAAAAAAAAAAAAAAAAAAAAAAAAAAAAAAAAAAAAAAAAAAAAAAAAAAAAAAAAAAAAAAAAAAAAAAAAAAAAAAAAAAAAAAAAAAAAAAAAAAAAAAAAAAAAAAAAAAAAAAAAAAAAAAAAAAAAAAAAAAAAAAAAAAAAAAAAAAAAAAAAAAAAAAAAAAAAAAAAAAAAAAAAAAAAAAAAAAAAAAAAAAAAAAAAAAAAAAAAAAAAAAAAAAAAAAAAAAAAAAAAAAAAAAAA==\",\"dtype\":\"float64\",\"shape\":[2294]},\"x\":[0,1,2,3,4,5,6,7,8,9,10,11,12,13,14,15,16,17,18,19,20,21,22,23,24,25,26,27,28,29,30,31,32,33,34,35,36,37,38,39,40,41,42,43,44,45,46,47,48,49,50,51,52,53,54,55,56,57,58,59,60,61,62,63,64,65,66,67,68,69,70,71,72,73,74,75,76,77,78,79,80,81,82,83,84,85,86,87,88,89,90,91,92,93,94,95,96,97,98,99,100,101,102,103,104,105,106,107,108,109,110,111,112,113,114,115,116,117,118,119,120,121,122,123,124,125,126,127,128,129,130,131,132,133,134,135,136,137,138,139,140,141,142,143,144,145,146,147,148,149,150,151,152,153,154,155,156,157,158,159,160,161,162,163,164,165,166,167,168,169,170,171,172,173,174,175,176,177,178,179,180,181,182,183,184,185,186,187,188,189,190,191,192,193,194,195,196,197,198,199,200,201,202,203,204,205,206,207,208,209,210,211,212,213,214,215,216,217,218,219,220,221,222,223,224,225,226,227,228,229,230,231,232,233,234,235,236,237,238,239,240,241,242,243,244,245,246,247,248,249,250,251,252,253,254,255,256,257,258,259,260,261,262,263,264,265,266,267,268,269,270,271,272,273,274,275,276,277,278,279,280,281,282,283,284,285,286,287,288,289,290,291,292,293,294,295,296,297,298,299,300,301,302,303,304,305,306,307,308,309,310,311,312,313,314,315,316,317,318,319,320,321,322,323,324,325,326,327,328,329,330,331,332,333,334,335,336,337,338,339,340,341,342,343,344,345,346,347,348,349,350,351,352,353,354,355,356,357,358,359,360,361,362,363,364,365,366,367,368,369,370,371,372,373,374,375,376,377,378,379,380,381,382,383,384,385,386,387,388,389,390,391,392,393,394,395,396,397,398,399,400,401,402,403,404,405,406,407,408,409,410,411,412,413,414,415,416,417,418,419,420,421,422,423,424,425,426,427,428,429,430,431,432,433,434,435,436,437,438,439,440,441,442,443,444,445,446,447,448,449,450,451,452,453,454,455,456,457,458,459,460,461,462,463,464,465,466,467,468,469,470,471,472,473,474,475,476,477,478,479,480,481,482,483,484,485,486,487,488,489,490,491,492,493,494,495,496,497,498,499,500,501,502,503,504,505,506,507,508,509,510,511,512,513,514,515,516,517,518,519,520,521,522,523,524,525,526,527,528,529,530,531,532,533,534,535,536,537,538,539,540,541,542,543,544,545,546,547,548,549,550,551,552,553,554,555,556,557,558,559,560,561,562,563,564,565,566,567,568,569,570,571,572,573,574,575,576,577,578,579,580,581,582,583,584,585,586,587,588,589,590,591,592,593,594,595,596,597,598,599,600,601,602,603,604,605,606,607,608,609,610,611,612,613,614,615,616,617,618,619,620,621,622,623,624,625,626,627,628,629,630,631,632,633,634,635,636,637,638,639,640,641,642,643,644,645,646,647,648,649,650,651,652,653,654,655,656,657,658,659,660,661,662,663,664,665,666,667,668,669,670,671,672,673,674,675,676,677,678,679,680,681,682,683,684,685,686,687,688,689,690,691,692,693,694,695,696,697,698,699,700,701,702,703,704,705,706,707,708,709,710,711,712,713,714,715,716,717,718,719,720,721,722,723,724,725,726,727,728,729,730,731,732,733,734,735,736,737,738,739,740,741,742,743,744,745,746,747,748,749,750,751,752,753,754,755,756,757,758,759,760,761,762,763,764,765,766,767,768,769,770,771,772,773,774,775,776,777,778,779,780,781,782,783,784,785,786,787,788,789,790,791,792,793,794,795,796,797,798,799,800,801,802,803,804,805,806,807,808,809,810,811,812,813,814,815,816,817,818,819,820,821,822,823,824,825,826,827,828,829,830,831,832,833,834,835,836,837,838,839,840,841,842,843,844,845,846,847,848,849,850,851,852,853,854,855,856,857,858,859,860,861,862,863,864,865,866,867,868,869,870,871,872,873,874,875,876,877,878,879,880,881,882,883,884,885,886,887,888,889,890,891,892,893,894,895,896,897,898,899,900,901,902,903,904,905,906,907,908,909,910,911,912,913,914,915,916,917,918,919,920,921,922,923,924,925,926,927,928,929,930,931,932,933,934,935,936,937,938,939,940,941,942,943,944,945,946,947,948,949,950,951,952,953,954,955,956,957,958,959,960,961,962,963,964,965,966,967,968,969,970,971,972,973,974,975,976,977,978,979,980,981,982,983,984,985,986,987,988,989,990,991,992,993,994,995,996,997,998,999,1000,1001,1002,1003,1004,1005,1006,1007,1008,1009,1010,1011,1012,1013,1014,1015,1016,1017,1018,1019,1020,1021,1022,1023,1024,1025,1026,1027,1028,1029,1030,1031,1032,1033,1034,1035,1036,1037,1038,1039,1040,1041,1042,1043,1044,1045,1046,1047,1048,1049,1050,1051,1052,1053,1054,1055,1056,1057,1058,1059,1060,1061,1062,1063,1064,1065,1066,1067,1068,1069,1070,1071,1072,1073,1074,1075,1076,1077,1078,1079,1080,1081,1082,1083,1084,1085,1086,1087,1088,1089,1090,1091,1092,1093,1094,1095,1096,1097,1098,1099,1100,1101,1102,1103,1104,1105,1106,1107,1108,1109,1110,1111,1112,1113,1114,1115,1116,1117,1118,1119,1120,1121,1122,1123,1124,1125,1126,1127,1128,1129,1130,1131,1132,1133,1134,1135,1136,1137,1138,1139,1140,1141,1142,1143,1144,1145,1146,1147,1148,1149,1150,1151,1152,1153,1154,1155,1156,1157,1158,1159,1160,1161,1162,1163,1164,1165,1166,1167,1168,1169,1170,1171,1172,1173,1174,1175,1176,1177,1178,1179,1180,1181,1182,1183,1184,1185,1186,1187,1188,1189,1190,1191,1192,1193,1194,1195,1196,1197,1198,1199,1200,1201,1202,1203,1204,1205,1206,1207,1208,1209,1210,1211,1212,1213,1214,1215,1216,1217,1218,1219,1220,1221,1222,1223,1224,1225,1226,1227,1228,1229,1230,1231,1232,1233,1234,1235,1236,1237,1238,1239,1240,1241,1242,1243,1244,1245,1246,1247,1248,1249,1250,1251,1252,1253,1254,1255,1256,1257,1258,1259,1260,1261,1262,1263,1264,1265,1266,1267,1268,1269,1270,1271,1272,1273,1274,1275,1276,1277,1278,1279,1280,1281,1282,1283,1284,1285,1286,1287,1288,1289,1290,1291,1292,1293,1294,1295,1296,1297,1298,1299,1300,1301,1302,1303,1304,1305,1306,1307,1308,1309,1310,1311,1312,1313,1314,1315,1316,1317,1318,1319,1320,1321,1322,1323,1324,1325,1326,1327,1328,1329,1330,1331,1332,1333,1334,1335,1336,1337,1338,1339,1340,1341,1342,1343,1344,1345,1346,1347,1348,1349,1350,1351,1352,1353,1354,1355,1356,1357,1358,1359,1360,1361,1362,1363,1364,1365,1366,1367,1368,1369,1370,1371,1372,1373,1374,1375,1376,1377,1378,1379,1380,1381,1382,1383,1384,1385,1386,1387,1388,1389,1390,1391,1392,1393,1394,1395,1396,1397,1398,1399,1400,1401,1402,1403,1404,1405,1406,1407,1408,1409,1410,1411,1412,1413,1414,1415,1416,1417,1418,1419,1420,1421,1422,1423,1424,1425,1426,1427,1428,1429,1430,1431,1432,1433,1434,1435,1436,1437,1438,1439,1440,1441,1442,1443,1444,1445,1446,1447,1448,1449,1450,1451,1452,1453,1454,1455,1456,1457,1458,1459,1460,1461,1462,1463,1464,1465,1466,1467,1468,1469,1470,1471,1472,1473,1474,1475,1476,1477,1478,1479,1480,1481,1482,1483,1484,1485,1486,1487,1488,1489,1490,1491,1492,1493,1494,1495,1496,1497,1498,1499,1500,1501,1502,1503,1504,1505,1506,1507,1508,1509,1510,1511,1512,1513,1514,1515,1516,1517,1518,1519,1520,1521,1522,1523,1524,1525,1526,1527,1528,1529,1530,1531,1532,1533,1534,1535,1536,1537,1538,1539,1540,1541,1542,1543,1544,1545,1546,1547,1548,1549,1550,1551,1552,1553,1554,1555,1556,1557,1558,1559,1560,1561,1562,1563,1564,1565,1566,1567,1568,1569,1570,1571,1572,1573,1574,1575,1576,1577,1578,1579,1580,1581,1582,1583,1584,1585,1586,1587,1588,1589,1590,1591,1592,1593,1594,1595,1596,1597,1598,1599,1600,1601,1602,1603,1604,1605,1606,1607,1608,1609,1610,1611,1612,1613,1614,1615,1616,1617,1618,1619,1620,1621,1622,1623,1624,1625,1626,1627,1628,1629,1630,1631,1632,1633,1634,1635,1636,1637,1638,1639,1640,1641,1642,1643,1644,1645,1646,1647,1648,1649,1650,1651,1652,1653,1654,1655,1656,1657,1658,1659,1660,1661,1662,1663,1664,1665,1666,1667,1668,1669,1670,1671,1672,1673,1674,1675,1676,1677,1678,1679,1680,1681,1682,1683,1684,1685,1686,1687,1688,1689,1690,1691,1692,1693,1694,1695,1696,1697,1698,1699,1700,1701,1702,1703,1704,1705,1706,1707,1708,1709,1710,1711,1712,1713,1714,1715,1716,1717,1718,1719,1720,1721,1722,1723,1724,1725,1726,1727,1728,1729,1730,1731,1732,1733,1734,1735,1736,1737,1738,1739,1740,1741,1742,1743,1744,1745,1746,1747,1748,1749,1750,1751,1752,1753,1754,1755,1756,1757,1758,1759,1760,1761,1762,1763,1764,1765,1766,1767,1768,1769,1770,1771,1772,1773,1774,1775,1776,1777,1778,1779,1780,1781,1782,1783,1784,1785,1786,1787,1788,1789,1790,1791,1792,1793,1794,1795,1796,1797,1798,1799,1800,1801,1802,1803,1804,1805,1806,1807,1808,1809,1810,1811,1812,1813,1814,1815,1816,1817,1818,1819,1820,1821,1822,1823,1824,1825,1826,1827,1828,1829,1830,1831,1832,1833,1834,1835,1836,1837,1838,1839,1840,1841,1842,1843,1844,1845,1846,1847,1848,1849,1850,1851,1852,1853,1854,1855,1856,1857,1858,1859,1860,1861,1862,1863,1864,1865,1866,1867,1868,1869,1870,1871,1872,1873,1874,1875,1876,1877,1878,1879,1880,1881,1882,1883,1884,1885,1886,1887,1888,1889,1890,1891,1892,1893,1894,1895,1896,1897,1898,1899,1900,1901,1902,1903,1904,1905,1906,1907,1908,1909,1910,1911,1912,1913,1914,1915,1916,1917,1918,1919,1920,1921,1922,1923,1924,1925,1926,1927,1928,1929,1930,1931,1932,1933,1934,1935,1936,1937,1938,1939,1940,1941,1942,1943,1944,1945,1946,1947,1948,1949,1950,1951,1952,1953,1954,1955,1956,1957,1958,1959,1960,1961,1962,1963,1964,1965,1966,1967,1968,1969,1970,1971,1972,1973,1974,1975,1976,1977,1978,1979,1980,1981,1982,1983,1984,1985,1986,1987,1988,1989,1990,1991,1992,1993,1994,1995,1996,1997,1998,1999,2000,2001,2002,2003,2004,2005,2006,2007,2008,2009,2010,2011,2012,2013,2014,2015,2016,2017,2018,2019,2020,2021,2022,2023,2024,2025,2026,2027,2028,2029,2030,2031,2032,2033,2034,2035,2036,2037,2038,2039,2040,2041,2042,2043,2044,2045,2046,2047,2048,2049,2050,2051,2052,2053,2054,2055,2056,2057,2058,2059,2060,2061,2062,2063,2064,2065,2066,2067,2068,2069,2070,2071,2072,2073,2074,2075,2076,2077,2078,2079,2080,2081,2082,2083,2084,2085,2086,2087,2088,2089,2090,2091,2092,2093,2094,2095,2096,2097,2098,2099,2100,2101,2102,2103,2104,2105,2106,2107,2108,2109,2110,2111,2112,2113,2114,2115,2116,2117,2118,2119,2120,2121,2122,2123,2124,2125,2126,2127,2128,2129,2130,2131,2132,2133,2134,2135,2136,2137,2138,2139,2140,2141,2142,2143,2144,2145,2146,2147,2148,2149,2150,2151,2152,2153,2154,2155,2156,2157,2158,2159,2160,2161,2162,2163,2164,2165,2166,2167,2168,2169,2170,2171,2172,2173,2174,2175,2176,2177,2178,2179,2180,2181,2182,2183,2184,2185,2186,2187,2188,2189,2190,2191,2192,2193,2194,2195,2196,2197,2198,2199,2200,2201,2202,2203,2204,2205,2206,2207,2208,2209,2210,2211,2212,2213,2214,2215,2216,2217,2218,2219,2220,2221,2222,2223,2224,2225,2226,2227,2228,2229,2230,2231,2232,2233,2234,2235,2236,2237,2238,2239,2240,2241,2242,2243,2244,2245,2246,2247,2248,2249,2250,2251,2252,2253,2254,2255,2256,2257,2258,2259,2260,2261,2262,2263,2264,2265,2266,2267,2268,2269,2270,2271,2272,2273,2274,2275,2276,2277,2278,2279,2280,2281,2282,2283,2284,2285,2286,2287,2288,2289,2290,2291,2292,2293]},\"selected\":{\"id\":\"f6e10921-80bb-44a5-8d1d-47a9342a0f63\",\"type\":\"Selection\"},\"selection_policy\":{\"id\":\"798ac8ee-18a1-4ae5-828a-1523aee25917\",\"type\":\"UnionRenderers\"}},\"id\":\"d983b4ee-322b-443e-84d0-9b61e8f467bd\",\"type\":\"ColumnDataSource\"},{\"attributes\":{},\"id\":\"6748cbf9-b650-4e9a-ad13-2f36d283e3f4\",\"type\":\"LinearScale\"},{\"attributes\":{\"callback\":null},\"id\":\"42d7913c-a25f-4093-b6a0-eac39ed5760b\",\"type\":\"DataRange1d\"},{\"attributes\":{},\"id\":\"8df359d4-da86-4643-8eef-12253dc3a4bb\",\"type\":\"ResetTool\"},{\"attributes\":{},\"id\":\"6aa830d6-3ec9-4958-880b-4da98be43e31\",\"type\":\"HelpTool\"},{\"attributes\":{\"axis_label\":\"ratio of counts\",\"formatter\":{\"id\":\"6b25d3eb-fbf4-48b1-b10b-c0e3369bfe12\",\"type\":\"BasicTickFormatter\"},\"plot\":{\"id\":\"2f70de5d-099a-4d18-8eb2-31c73058cbe9\",\"subtype\":\"Figure\",\"type\":\"Plot\"},\"ticker\":{\"id\":\"f5ca9e9f-44f4-498c-bb09-9f69422aa120\",\"type\":\"BasicTicker\"}},\"id\":\"454440e3-b501-4933-b597-aa38b6665954\",\"type\":\"LinearAxis\"},{\"attributes\":{\"label\":{\"value\":\"power law fit\"},\"renderers\":[{\"id\":\"ab683aa8-4a62-4c77-a22b-cdbdc41c00d5\",\"type\":\"GlyphRenderer\"}]},\"id\":\"8551ae29-0442-4fee-b8c8-3568aafac62b\",\"type\":\"LegendItem\"},{\"attributes\":{},\"id\":\"e8bc808d-396c-483f-ba01-bf244dace204\",\"type\":\"BasicTicker\"},{\"attributes\":{},\"id\":\"f6e10921-80bb-44a5-8d1d-47a9342a0f63\",\"type\":\"Selection\"},{\"attributes\":{\"axis_label\":\"v/c\",\"formatter\":{\"id\":\"9e95fc56-1dba-4ec6-ae29-7e93d1727039\",\"type\":\"BasicTickFormatter\"},\"plot\":{\"id\":\"2f70de5d-099a-4d18-8eb2-31c73058cbe9\",\"subtype\":\"Figure\",\"type\":\"Plot\"},\"ticker\":{\"id\":\"e8bc808d-396c-483f-ba01-bf244dace204\",\"type\":\"BasicTicker\"}},\"id\":\"621addd9-fcf7-4e70-a100-fa6f7f5e68ba\",\"type\":\"LinearAxis\"},{\"attributes\":{\"plot\":{\"id\":\"2f70de5d-099a-4d18-8eb2-31c73058cbe9\",\"subtype\":\"Figure\",\"type\":\"Plot\"},\"ticker\":{\"id\":\"e8bc808d-396c-483f-ba01-bf244dace204\",\"type\":\"BasicTicker\"}},\"id\":\"42a72ce6-d2a4-4580-bbb4-360cd6ae405a\",\"type\":\"Grid\"},{\"attributes\":{},\"id\":\"6b25d3eb-fbf4-48b1-b10b-c0e3369bfe12\",\"type\":\"BasicTickFormatter\"},{\"attributes\":{\"dimension\":1,\"plot\":{\"id\":\"2f70de5d-099a-4d18-8eb2-31c73058cbe9\",\"subtype\":\"Figure\",\"type\":\"Plot\"},\"ticker\":{\"id\":\"f5ca9e9f-44f4-498c-bb09-9f69422aa120\",\"type\":\"BasicTicker\"}},\"id\":\"f74899e5-2cea-4b73-8fe0-246bd024c2ed\",\"type\":\"Grid\"},{\"attributes\":{},\"id\":\"f5ca9e9f-44f4-498c-bb09-9f69422aa120\",\"type\":\"BasicTicker\"},{\"attributes\":{},\"id\":\"a1a7429e-20c8-4043-8b0b-aa16131752fd\",\"type\":\"WheelZoomTool\"},{\"attributes\":{},\"id\":\"fd80b09a-2719-45d8-9ab7-ba3f9632cee5\",\"type\":\"SaveTool\"},{\"attributes\":{\"fill_color\":{\"value\":\"cyan\"},\"line_color\":{\"value\":\"cyan\"},\"top\":{\"field\":\"top\"},\"width\":{\"value\":0.5},\"x\":{\"field\":\"x\"}},\"id\":\"8030bdf4-8951-4ca7-8da5-63ca173dd09a\",\"type\":\"VBar\"},{\"attributes\":{\"overlay\":{\"id\":\"256ebeee-0370-4932-8293-05ab50358da1\",\"type\":\"BoxAnnotation\"}},\"id\":\"f32484bb-abaa-4438-8489-a0711e88ae9a\",\"type\":\"BoxZoomTool\"},{\"attributes\":{\"bottom_units\":\"screen\",\"fill_alpha\":{\"value\":0.5},\"fill_color\":{\"value\":\"lightgrey\"},\"left_units\":\"screen\",\"level\":\"overlay\",\"line_alpha\":{\"value\":1.0},\"line_color\":{\"value\":\"black\"},\"line_dash\":[4,4],\"line_width\":{\"value\":2},\"plot\":null,\"render_mode\":\"css\",\"right_units\":\"screen\",\"top_units\":\"screen\"},\"id\":\"256ebeee-0370-4932-8293-05ab50358da1\",\"type\":\"BoxAnnotation\"},{\"attributes\":{\"fill_alpha\":{\"value\":0.1},\"fill_color\":{\"value\":\"#1f77b4\"},\"line_alpha\":{\"value\":0.1},\"line_color\":{\"value\":\"#1f77b4\"},\"top\":{\"field\":\"top\"},\"width\":{\"value\":0.5},\"x\":{\"field\":\"x\"}},\"id\":\"24691ace-a320-4d1b-bba7-f37339107782\",\"type\":\"VBar\"},{\"attributes\":{\"items\":[{\"id\":\"4ae5cbc7-dc74-479b-a030-805ec8eea239\",\"type\":\"LegendItem\"},{\"id\":\"8551ae29-0442-4fee-b8c8-3568aafac62b\",\"type\":\"LegendItem\"}],\"plot\":{\"id\":\"2f70de5d-099a-4d18-8eb2-31c73058cbe9\",\"subtype\":\"Figure\",\"type\":\"Plot\"}},\"id\":\"40cea211-bc66-4798-8c4d-73dec686cfcf\",\"type\":\"Legend\"},{\"attributes\":{},\"id\":\"2e8f70da-acdf-4e6e-8918-50fbd887edce\",\"type\":\"PanTool\"},{\"attributes\":{\"label\":{\"value\":\"v/c data\"},\"renderers\":[{\"id\":\"a740e6a4-ed76-45fb-9257-8a85070d291f\",\"type\":\"GlyphRenderer\"}]},\"id\":\"4ae5cbc7-dc74-479b-a030-805ec8eea239\",\"type\":\"LegendItem\"},{\"attributes\":{\"callback\":null,\"data\":{\"x\":[0,1,2,3,4,5,6,7,8,9,10,11,12,13,14,15,16,17,18,19,20,21,22,23,24,25,26,27,28,29,30,31,32,33,34,35,36,37,38,39,40,41,42,43,44,45,46,47,48,49,50,51,52,53,54,55,56,57,58,59,60,61,62,63,64,65,66,67,68,69,70,71,72,73,74,75,76,77,78,79,80,81,82,83,84,85,86,87,88,89,90,91,92,93,94,95,96,97,98,99,100,101,102,103,104,105,106,107,108,109,110,111,112,113,114,115,116,117,118,119,120,121,122,123,124,125,126,127,128,129,130,131,132,133,134,135,136,137,138,139,140,141,142,143,144,145,146,147,148,149,150,151,152,153,154,155,156,157,158,159,160,161,162,163,164,165,166,167,168,169,170,171,172,173,174,175,176,177,178,179,180,181,182,183,184,185,186,187,188,189,190,191,192,193,194,195,196,197,198,199,200,201,202,203,204,205,206,207,208,209,210,211,212,213,214,215,216,217,218,219,220,221,222,223,224,225,226,227,228,229,230,231,232,233,234,235,236,237,238,239,240,241,242,243,244,245,246,247,248,249,250,251,252,253,254,255,256,257,258,259,260,261,262,263,264,265,266,267,268,269,270,271,272,273,274,275,276,277,278,279,280,281,282,283,284,285,286,287,288,289,290,291,292,293,294,295,296,297,298,299,300,301,302,303,304,305,306,307,308,309,310,311,312,313,314,315,316,317,318,319,320,321,322,323,324,325,326,327,328,329,330,331,332,333,334,335,336,337,338,339,340,341,342,343,344,345,346,347,348,349,350,351,352,353,354,355,356,357,358,359,360,361,362,363,364,365,366,367,368,369,370,371,372,373,374,375,376,377,378,379,380,381,382,383,384,385,386,387,388,389,390,391,392,393,394,395,396,397,398,399,400,401,402,403,404,405,406,407,408,409,410,411,412,413,414,415,416,417,418,419,420,421,422,423,424,425,426,427,428,429,430,431,432,433,434,435,436,437,438,439,440,441,442,443,444,445,446,447,448,449,450,451,452,453,454,455,456,457,458,459,460,461,462,463,464,465,466,467,468,469,470,471,472,473,474,475,476,477,478,479,480,481,482,483,484,485,486,487,488,489,490,491,492,493,494,495,496,497,498,499,500,501,502,503,504,505,506,507,508,509,510,511,512,513,514,515,516,517,518,519,520,521,522,523,524,525,526,527,528,529,530,531,532,533,534,535,536,537,538,539,540,541,542,543,544,545,546,547,548,549,550,551,552,553,554,555,556,557,558,559,560,561,562,563,564,565,566,567,568,569,570,571,572,573,574,575,576,577,578,579,580,581,582,583,584,585,586,587,588,589,590,591,592,593,594,595,596,597,598,599,600,601,602,603,604,605,606,607,608,609,610,611,612,613,614,615,616,617,618,619,620,621,622,623,624,625,626,627,628,629,630,631,632,633,634,635,636,637,638,639,640,641,642,643,644,645,646,647,648,649,650,651,652,653,654,655,656,657,658,659,660,661,662,663,664,665,666,667,668,669,670,671,672,673,674,675,676,677,678,679,680,681,682,683,684,685,686,687,688,689,690,691,692,693,694,695,696,697,698,699,700,701,702,703,704,705,706,707,708,709,710,711,712,713,714,715,716,717,718,719,720,721,722,723,724,725,726,727,728,729,730,731,732,733,734,735,736,737,738,739,740,741,742,743,744,745,746,747,748,749,750,751,752,753,754,755,756,757,758,759,760,761,762,763,764,765,766,767,768,769,770,771,772,773,774,775,776,777,778,779,780,781,782,783,784,785,786,787,788,789,790,791,792,793,794,795,796,797,798,799,800,801,802,803,804,805,806,807,808,809,810,811,812,813,814,815,816,817,818,819,820,821,822,823,824,825,826,827,828,829,830,831,832,833,834,835,836,837,838,839,840,841,842,843,844,845,846,847,848,849,850,851,852,853,854,855,856,857,858,859,860,861,862,863,864,865,866,867,868,869,870,871,872,873,874,875,876,877,878,879,880,881,882,883,884,885,886,887,888,889,890,891,892,893,894,895,896,897,898,899,900,901,902,903,904,905,906,907,908,909,910,911,912,913,914,915,916,917,918,919,920,921,922,923,924,925,926,927,928,929,930,931,932,933,934,935,936,937,938,939,940,941,942,943,944,945,946,947,948,949,950,951,952,953,954,955,956,957,958,959,960,961,962,963,964,965,966,967,968,969,970,971,972,973,974,975,976,977,978,979,980,981,982,983,984,985,986,987,988,989,990,991,992,993,994,995,996,997,998,999,1000,1001,1002,1003,1004,1005,1006,1007,1008,1009,1010,1011,1012,1013,1014,1015,1016,1017,1018,1019,1020,1021,1022,1023,1024,1025,1026,1027,1028,1029,1030,1031,1032,1033,1034,1035,1036,1037,1038,1039,1040,1041,1042,1043,1044,1045,1046,1047,1048,1049,1050,1051,1052,1053,1054,1055,1056,1057,1058,1059,1060,1061,1062,1063,1064,1065,1066,1067,1068,1069,1070,1071,1072,1073,1074,1075,1076,1077,1078,1079,1080,1081,1082,1083,1084,1085,1086,1087,1088,1089,1090,1091,1092,1093,1094,1095,1096,1097,1098,1099,1100,1101,1102,1103,1104,1105,1106,1107,1108,1109,1110,1111,1112,1113,1114,1115,1116,1117,1118,1119,1120,1121,1122,1123,1124,1125,1126,1127,1128,1129,1130,1131,1132,1133,1134,1135,1136,1137,1138,1139,1140,1141,1142,1143,1144,1145,1146,1147,1148,1149,1150,1151,1152,1153,1154,1155,1156,1157,1158,1159,1160,1161,1162,1163,1164,1165,1166,1167,1168,1169,1170,1171,1172,1173,1174,1175,1176,1177,1178,1179,1180,1181,1182,1183,1184,1185,1186,1187,1188,1189,1190,1191,1192,1193,1194,1195,1196,1197,1198,1199,1200,1201,1202,1203,1204,1205,1206,1207,1208,1209,1210,1211,1212,1213,1214,1215,1216,1217,1218,1219,1220,1221,1222,1223,1224,1225,1226,1227,1228,1229,1230,1231,1232,1233,1234,1235,1236,1237,1238,1239,1240,1241,1242,1243,1244,1245,1246,1247,1248,1249,1250,1251,1252,1253,1254,1255,1256,1257,1258,1259,1260,1261,1262,1263,1264,1265,1266,1267,1268,1269,1270,1271,1272,1273,1274,1275,1276,1277,1278,1279,1280,1281,1282,1283,1284,1285,1286,1287,1288,1289,1290,1291,1292,1293,1294,1295,1296,1297,1298,1299,1300,1301,1302,1303,1304,1305,1306,1307,1308,1309,1310,1311,1312,1313,1314,1315,1316,1317,1318,1319,1320,1321,1322,1323,1324,1325,1326,1327,1328,1329,1330,1331,1332,1333,1334,1335,1336,1337,1338,1339,1340,1341,1342,1343,1344,1345,1346,1347,1348,1349,1350,1351,1352,1353,1354,1355,1356,1357,1358,1359,1360,1361,1362,1363,1364,1365,1366,1367,1368,1369,1370,1371,1372,1373,1374,1375,1376,1377,1378,1379,1380,1381,1382,1383,1384,1385,1386,1387,1388,1389,1390,1391,1392,1393,1394,1395,1396,1397,1398,1399,1400,1401,1402,1403,1404,1405,1406,1407,1408,1409,1410,1411,1412,1413,1414,1415,1416,1417,1418,1419,1420,1421,1422,1423,1424,1425,1426,1427,1428,1429,1430,1431,1432,1433,1434,1435,1436,1437,1438,1439,1440,1441,1442,1443,1444,1445,1446,1447,1448,1449,1450,1451,1452,1453,1454,1455,1456,1457,1458,1459,1460,1461,1462,1463,1464,1465,1466,1467,1468,1469,1470,1471,1472,1473,1474,1475,1476,1477,1478,1479,1480,1481,1482,1483,1484,1485,1486,1487,1488,1489,1490,1491,1492,1493,1494,1495,1496,1497,1498,1499,1500,1501,1502,1503,1504,1505,1506,1507,1508,1509,1510,1511,1512,1513,1514,1515,1516,1517,1518,1519,1520,1521,1522,1523,1524,1525,1526,1527,1528,1529,1530,1531,1532,1533,1534,1535,1536,1537,1538,1539,1540,1541,1542,1543,1544,1545,1546,1547,1548,1549,1550,1551,1552,1553,1554,1555,1556,1557,1558,1559,1560,1561,1562,1563,1564,1565,1566,1567,1568,1569,1570,1571,1572,1573,1574,1575,1576,1577,1578,1579,1580,1581,1582,1583,1584,1585,1586,1587,1588,1589,1590,1591,1592,1593,1594,1595,1596,1597,1598,1599,1600,1601,1602,1603,1604,1605,1606,1607,1608,1609,1610,1611,1612,1613,1614,1615,1616,1617,1618,1619,1620,1621,1622,1623,1624,1625,1626,1627,1628,1629,1630,1631,1632,1633,1634,1635,1636,1637,1638,1639,1640,1641,1642,1643,1644,1645,1646,1647,1648,1649,1650,1651,1652,1653,1654,1655,1656,1657,1658,1659,1660,1661,1662,1663,1664,1665,1666,1667,1668,1669,1670,1671,1672,1673,1674,1675,1676,1677,1678,1679,1680,1681,1682,1683,1684,1685,1686,1687,1688,1689,1690,1691,1692,1693,1694,1695,1696,1697,1698,1699,1700,1701,1702,1703,1704,1705,1706,1707,1708,1709,1710,1711,1712,1713,1714,1715,1716,1717,1718,1719,1720,1721,1722,1723,1724,1725,1726,1727,1728,1729,1730,1731,1732,1733,1734,1735,1736,1737,1738,1739,1740,1741,1742,1743,1744,1745,1746,1747,1748,1749,1750,1751,1752,1753,1754,1755,1756,1757,1758,1759,1760,1761,1762,1763,1764,1765,1766,1767,1768,1769,1770,1771,1772,1773,1774,1775,1776,1777,1778,1779,1780,1781,1782,1783,1784,1785,1786,1787,1788,1789,1790,1791,1792,1793,1794,1795,1796,1797,1798,1799,1800,1801,1802,1803,1804,1805,1806,1807,1808,1809,1810,1811,1812,1813,1814,1815,1816,1817,1818,1819,1820,1821,1822,1823,1824,1825,1826,1827,1828,1829,1830,1831,1832,1833,1834,1835,1836,1837,1838,1839,1840,1841,1842,1843,1844,1845,1846,1847,1848,1849,1850,1851,1852,1853,1854,1855,1856,1857,1858,1859,1860,1861,1862,1863,1864,1865,1866,1867,1868,1869,1870,1871,1872,1873,1874,1875,1876,1877,1878,1879,1880,1881,1882,1883,1884,1885,1886,1887,1888,1889,1890,1891,1892,1893,1894,1895,1896,1897,1898,1899,1900,1901,1902,1903,1904,1905,1906,1907,1908,1909,1910,1911,1912,1913,1914,1915,1916,1917,1918,1919,1920,1921,1922,1923,1924,1925,1926,1927,1928,1929,1930,1931,1932,1933,1934,1935,1936,1937,1938,1939,1940,1941,1942,1943,1944,1945,1946,1947,1948,1949,1950,1951,1952,1953,1954,1955,1956,1957,1958,1959,1960,1961,1962,1963,1964,1965,1966,1967,1968,1969,1970,1971,1972,1973,1974,1975,1976,1977,1978,1979,1980,1981,1982,1983,1984,1985,1986,1987,1988,1989,1990,1991,1992,1993,1994,1995,1996,1997,1998,1999,2000,2001,2002,2003,2004,2005,2006,2007,2008,2009,2010,2011,2012,2013,2014,2015,2016,2017,2018,2019,2020,2021,2022,2023,2024,2025,2026,2027,2028,2029,2030,2031,2032,2033,2034,2035,2036,2037,2038,2039,2040,2041,2042,2043,2044,2045,2046,2047,2048,2049,2050,2051,2052,2053,2054,2055,2056,2057,2058,2059,2060,2061,2062,2063,2064,2065,2066,2067,2068,2069,2070,2071,2072,2073,2074,2075,2076,2077,2078,2079,2080,2081,2082,2083,2084,2085,2086,2087,2088,2089,2090,2091,2092,2093,2094,2095,2096,2097,2098,2099,2100,2101,2102,2103,2104,2105,2106,2107,2108,2109,2110,2111,2112,2113,2114,2115,2116,2117,2118,2119,2120,2121,2122,2123,2124,2125,2126,2127,2128,2129,2130,2131,2132,2133,2134,2135,2136,2137,2138,2139,2140,2141,2142,2143,2144,2145,2146,2147,2148,2149,2150,2151,2152,2153,2154,2155,2156,2157,2158,2159,2160,2161,2162,2163,2164,2165,2166,2167,2168,2169,2170,2171,2172,2173,2174,2175,2176,2177,2178,2179,2180,2181,2182,2183,2184,2185,2186,2187,2188,2189,2190,2191,2192,2193,2194,2195,2196,2197,2198,2199,2200,2201,2202,2203,2204,2205,2206,2207,2208,2209,2210,2211,2212,2213,2214,2215,2216,2217,2218,2219,2220,2221,2222,2223,2224,2225,2226,2227,2228,2229,2230,2231,2232,2233,2234,2235,2236,2237,2238,2239,2240,2241,2242,2243,2244,2245,2246,2247,2248,2249,2250,2251,2252,2253,2254,2255,2256,2257,2258,2259,2260,2261,2262,2263,2264,2265,2266,2267,2268,2269,2270,2271,2272,2273,2274,2275,2276,2277,2278,2279,2280,2281,2282,2283,2284,2285,2286,2287,2288,2289,2290,2291,2292,2293],\"y\":{\"__ndarray__\":\"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\",\"dtype\":\"float64\",\"shape\":[2294]}},\"selected\":{\"id\":\"628be084-3298-4cac-ba5f-76867e7664a5\",\"type\":\"Selection\"},\"selection_policy\":{\"id\":\"451b6f11-2fa2-41bf-b5e2-9bc7592a85da\",\"type\":\"UnionRenderers\"}},\"id\":\"107babe3-2915-4a1a-aa15-7510cb07a03e\",\"type\":\"ColumnDataSource\"},{\"attributes\":{},\"id\":\"451b6f11-2fa2-41bf-b5e2-9bc7592a85da\",\"type\":\"UnionRenderers\"},{\"attributes\":{},\"id\":\"798ac8ee-18a1-4ae5-828a-1523aee25917\",\"type\":\"UnionRenderers\"},{\"attributes\":{\"data_source\":{\"id\":\"107babe3-2915-4a1a-aa15-7510cb07a03e\",\"type\":\"ColumnDataSource\"},\"glyph\":{\"id\":\"c3978080-4058-4e5a-a7ff-cd1760c37ead\",\"type\":\"Line\"},\"hover_glyph\":null,\"muted_glyph\":null,\"nonselection_glyph\":{\"id\":\"852256ca-410b-4fe6-8ae2-17715d61bf35\",\"type\":\"Line\"},\"selection_glyph\":null,\"view\":{\"id\":\"fe44cb23-4844-45ea-bc8f-559f14ce9650\",\"type\":\"CDSView\"}},\"id\":\"ab683aa8-4a62-4c77-a22b-cdbdc41c00d5\",\"type\":\"GlyphRenderer\"},{\"attributes\":{\"source\":{\"id\":\"107babe3-2915-4a1a-aa15-7510cb07a03e\",\"type\":\"ColumnDataSource\"}},\"id\":\"fe44cb23-4844-45ea-bc8f-559f14ce9650\",\"type\":\"CDSView\"}],\"root_ids\":[\"2f70de5d-099a-4d18-8eb2-31c73058cbe9\"]},\"title\":\"Bokeh Application\",\"version\":\"0.12.16\"}};\n",
       "  var render_items = [{\"docid\":\"f5254cac-a40a-4eea-94be-5753d0f6a34f\",\"elementid\":\"5f672794-4d22-425d-b79d-d22db1129199\",\"modelid\":\"2f70de5d-099a-4d18-8eb2-31c73058cbe9\"}];\n",
       "  root.Bokeh.embed.embed_items_notebook(docs_json, render_items);\n",
       "\n",
       "  }\n",
       "  if (root.Bokeh !== undefined) {\n",
       "    embed_document(root);\n",
       "  } else {\n",
       "    var attempts = 0;\n",
       "    var timer = setInterval(function(root) {\n",
       "      if (root.Bokeh !== undefined) {\n",
       "        embed_document(root);\n",
       "        clearInterval(timer);\n",
       "      }\n",
       "      attempts++;\n",
       "      if (attempts > 100) {\n",
       "        console.log(\"Bokeh: ERROR: Unable to run BokehJS code because BokehJS library is missing\")\n",
       "        clearInterval(timer);\n",
       "      }\n",
       "    }, 10, root)\n",
       "  }\n",
       "})(window);"
      ],
      "application/vnd.bokehjs_exec.v0+json": ""
     },
     "metadata": {
      "application/vnd.bokehjs_exec.v0+json": {
       "id": "2f70de5d-099a-4d18-8eb2-31c73058cbe9"
      }
     },
     "output_type": "display_data"
    }
   ],
   "source": [
    "p=figure(height=400,width=400,title=\"Power law fit to v/c histogram\", x_axis_label=\"v/c\", y_axis_label=\"ratio of counts\")\n",
    "p.vbar(x=index, width=0.5, bottom=0, top=ydat, color='cyan', legend='v/c data')\n",
    "p.line(index, powerlaw(index,par[0],par[1],par[2]),color='black', legend='power law fit')\n",
    "output_notebook()\n",
    "show(p)"
   ]
  },
  {
   "cell_type": "code",
   "execution_count": 15,
   "metadata": {},
   "outputs": [
    {
     "data": {
      "text/plain": [
       "array([-0.1001773 ,  0.16004007,  0.44202822])"
      ]
     },
     "execution_count": 15,
     "metadata": {},
     "output_type": "execute_result"
    }
   ],
   "source": [
    "par"
   ]
  },
  {
   "cell_type": "markdown",
   "metadata": {},
   "source": [
    "Fit third order polynomial to histogram."
   ]
  },
  {
   "cell_type": "code",
   "execution_count": 16,
   "metadata": {
    "collapsed": true
   },
   "outputs": [],
   "source": [
    "xdat=np.arange(len(USAarr))\n",
    "ydat0=np.sort(USAarr[:,0])\n",
    "ydat=ydat0[::-1]\n",
    "par=[1.,1.,1.,1.]\n",
    "p0=par\n",
    "par,pvar=curve_fit(f3,xdat,ydat)\n",
    "\n",
    "\n"
   ]
  },
  {
   "cell_type": "code",
   "execution_count": null,
   "metadata": {},
   "outputs": [],
   "source": [
    "par"
   ]
  },
  {
   "cell_type": "code",
   "execution_count": null,
   "metadata": {},
   "outputs": [],
   "source": [
    "p=figure(height=400,width=400,title=\"Third order polynomial fit to v/c histogram\", x_axis_label=\"v/c\", y_axis_label=\"ratio of counts\")\n",
    "p.vbar(x=index, width=0.5, bottom=0, top=ydat, color='cyan', legend='v/c data')\n",
    "p.line(index, f3(index,par[0],par[1],par[2],par[3]),color='black', legend='Third order polynomial fit')\n",
    "output_notebook()\n",
    "show(p)"
   ]
  },
  {
   "cell_type": "code",
   "execution_count": null,
   "metadata": {},
   "outputs": [],
   "source": [
    "par"
   ]
  },
  {
   "cell_type": "markdown",
   "metadata": {},
   "source": [
    "It looks like it's a blend of third order polynomial and power law. Probably the best fit could be achieved by matching the two in some buffer region by matching the derivatives smoothly at the inflection point. I have not yet tried this. To preliminarily investigate, I used a third order power law."
   ]
  },
  {
   "cell_type": "markdown",
   "metadata": {},
   "source": [
    "# Polynomial transformation and linear regression"
   ]
  },
  {
   "cell_type": "markdown",
   "metadata": {},
   "source": [
    "To produce a map of phrases to places, I performed a polynomial transformation and linear regression in multiple dimensions using the scikit-learn toolkit in python."
   ]
  },
  {
   "cell_type": "code",
   "execution_count": null,
   "metadata": {
    "collapsed": true
   },
   "outputs": [],
   "source": [
    "file = open(\"airports-extended.dat.txt\",\"r\")\n",
    "ratio=[]\n",
    "coords=[]\n",
    "\n",
    "\n",
    "for line in file:\n",
    "    line=re.split(',',line);\n",
    "\n",
    "    if line[3] == \"\\\"United States\\\"\":\n",
    "        thisratioV, thisratioS, thisratioO=VowelToConsRatio(line[1]);\n",
    "        ratio.append([thisratioV,thisratioS,thisratioO])\n",
    "        coords.append([float(line[6]),float(line[7])])\n",
    "\n",
    "\n",
    "ratioarray=np.empty([len(ratio),3])\n",
    "coordsarray=np.empty([len(coords),2])\n",
    "regionarray=np.empty([len(coords)])\n",
    "\n",
    "for i, rat in enumerate(ratio):\n",
    "    ratioarray[i,:]=rat\n",
    "for i,coor in enumerate(coords):\n",
    "    coordsarray[i,:]=coor\n",
    "#    outputcoor=LatLongClassMaker(coor)\n",
    "#    regionarray[i]=outputcoor\n",
    "\n",
    "xtrain,xtest,ytrain,ytest=train_test_split(ratioarray,coordsarray,test_size=0.33,shuffle=True, random_state=random.randint(1,101))"
   ]
  },
  {
   "cell_type": "markdown",
   "metadata": {},
   "source": [
    "These test phrases are phrases I gathered from myself, my sister who lives abroad, my parents, and the chair of my masters exam committee from Louisiana State University who works in Loop Quantum Gravity. I wrote both a fairly broad selection of phrases and a set of songs. My sister used inside jokes. My father used songs. My mother used colloquialisms. My committee chair used key words from the field in the word cloud I harvested."
   ]
  },
  {
   "cell_type": "code",
   "execution_count": null,
   "metadata": {
    "collapsed": true
   },
   "outputs": [],
   "source": [
    "testphrases=[\"Ufda!\", \"I just dont know about that\", \"Howdy, pardner\", \"Where are we?\", \n",
    "             \"I thank whatever gods may be for my unconquerable soul.\", \"I welcome our new robot overlords\",\n",
    "             \"l33t h4k3rs\", \"I know you I walked with you once upon a dream\", \n",
    "             \"These stories dont mean anything if you have no one to tell them to\", \n",
    "             \"Baby you have the sort of hands that rip me apart\",\"Multi-messenger astronomy\", \n",
    "             \"Rainbow flag\", \"I prefer They or He?\", \"numerical relativity\", \"LIGO\", \"scalar field\", \n",
    "             \"Osculating Orbits\", \"Monte-Carlo Simulation\", \"Data Analysis\", \"Data Science\", \"Parallelization\", \n",
    "             \"Paralyzation\", \"Partial disability\", \"Non-epileptic seizures\", \"Wednesday Lunch\", \"Tuesday Lunch\", \n",
    "             \"Thursday Lunch\", \"Guild Wars\", \"Elvenar\", \"Good Apple\"]\n",
    "\n",
    "colleaguephrases=[\"general relativity\", \"black hole\", \"loop quantum gravity\",  \"quantization\", \"space-time\", \n",
    "                  \"Hamiltonian constraint\", \"Ashtekar\", \"LiSA\", \"LIGO\", \"group\", \"white hole\", \"scalar field\",\n",
    "                  \"numerical relativity\", \"cosmology\", \"diffeomorphism\", \"continuum limit\", \"David Berger\", \n",
    "                  \"Reisner-Nordstrom\", \"black hole spacetime\", \"initial data\", \"interpretation of quantum mechanics\"]\n",
    "\n",
    "\n",
    "mysongs=[\"My gift is your song and this one’s for you.\",\n",
    "\"I closed my eyes, drew back the curtain, to see for certain, what I thought I knew.\",\n",
    "\"Mamma if you don’t mind my sayin so you have a bad habit of changing every subject. No I didn’t change the subject.\",\n",
    "\"I did not live until today, how can I live when we are parted? One day more.\",\n",
    "\"Pick a little talk a little pick a little talk a little cheep cheep cheep talk a lot pick a little more…\",\n",
    "\"I’ll be your queen, and you’ll be my castle.\",\n",
    "\"She’s wicked so we’ve got to bring her down. \",\n",
    "\"And all this science I don’t understand. It’s just my job five days a week.\",\n",
    "\"A life time of not knowing where or how or why or when.\",\n",
    "\"Mathematics isolation rhythm feeling power harmony and heavy competition.\",\n",
    "\"I’m through playing by the rules of someone else’s game. Too late for second guesses too late to go back to sleep. It’s time to trust my instincts close my eyes and leap. It’s time to try defying gravity and you can’t pull me down.\",\n",
    "\"Maybe far away, or maybe real nearby… \",\n",
    "\"SO IF YOU CARE TO FIND ME LOOK TO THE WESTERN SKY AS SOMEONE TOLD ME LATELY EVERYONE DESERVES A CHANCE TO FLY and if I’m flying solo at least I’m flying free to those who ground me take a lesson back from me. \",\n",
    "\"I’m sorry for everything I said and for everything I forgot to say too…\"]\n",
    "\n",
    "dadssongs=[\"1. Mars ain't no place to raise a kid. Besides it’s cold as hell\",\n",
    "\"2. she’ll have fun, fun, fun till her daddy takes her T bird away\",\n",
    "\"3. A man hears what he wants to hear, and disregards the rest\",\n",
    "\"4. All revved up and no place to go\",\n",
    "\"5. Why they changed it, I can’t say…people just liked it better that way\",\n",
    "\"6. First you take a step to the left, then you jump to the right\",\n",
    "\"7. Young man!!\",\n",
    "\"8. And while I’m away, I’ll write home every day..and send all my lov’in to you\",\n",
    "\"9. Each night before you go to bed, my baby, whisper a little prayer for me, my baby\",\n",
    "\"10. Master of the house, keeper of the zoo\",\n",
    "\"11. May you be forever young\",\n",
    "\"12. Weave me the sunshine\"]\n",
    "\n",
    "momphrases=[\"I just don’t know about that.\",\n",
    "\"Well that’s different.\",\n",
    "\"Way to go!\",\n",
    "\"That’s awesome!\",\n",
    "\"In a little while…\",\n",
    "\"Go to bed!\",\n",
    "\"It’ll all work out.\"\n",
    "\"Sooner or later\",\n",
    "\"Clean your room!\",\n",
    "\"The one with the most fabric wins.\",\n",
    "\"I’m off to sew!\",\n",
    "\"It’s a great day!\",\n",
    "\"How can I help?\",\n",
    "\"Time to eat!\",\n",
    "\"Read your book.\",\n",
    "\"Are you ready?\",\n",
    "\"I’m sure.\"]\n",
    "\n",
    "sisterphrases=[\"1. Running down the dream\", \"2. How much is a gallon?\", \"3. Dead snake on a lake\", \n",
    "               \"4. Pseudaphed and tumbleweeds\", \"5. East Jesus Nowhere\", \"6. Taxation without representation\", \n",
    "               \"7. Old people, high schoolers and drug dealers\", \"8. it was a trial for... MURDER!\", \n",
    "               \"9. Rock lobster\", \"10. Trapeze hands\", \"11. Hinga Weezy\", \"12. Patty dance pants\"]\n",
    "\n",
    " \n",
    "\n"
   ]
  },
  {
   "cell_type": "code",
   "execution_count": null,
   "metadata": {},
   "outputs": [],
   "source": [
    "\n",
    "xphrases=[]\n",
    "for phrase in testphrases:\n",
    "    print(phrase)\n",
    "    vtc, stc, otc = VowelToConsRatio(phrase)\n",
    "    xphrases.append([vtc,stc,otc])\n",
    "xcolleague=[]\n",
    "for phrase in colleaguephrases:\n",
    "    print(phrase)\n",
    "    vtc, stc, otc = VowelToConsRatio(phrase)\n",
    "    xcolleague.append([vtc,stc,otc])\n",
    "\n"
   ]
  },
  {
   "cell_type": "code",
   "execution_count": null,
   "metadata": {
    "collapsed": true
   },
   "outputs": [],
   "source": [
    "scaler = StandardScaler()\n",
    "xtrain2=scaler.fit_transform(xtrain)\n",
    "xtest2=scaler.fit_transform(xtest)\n",
    "xphrases2=scaler.fit_transform(xphrases)\n",
    "#xcolleague2=scaler.fit_transform(xcolleague)\n"
   ]
  },
  {
   "cell_type": "code",
   "execution_count": null,
   "metadata": {},
   "outputs": [],
   "source": [
    "poly=PolynomialFeatures(3)\n",
    "Poly_test=poly.fit_transform(xtest)\n",
    "Poly_train=poly.fit_transform(xtrain)\n",
    "Poly_phrases=poly.fit_transform(xphrases)\n",
    "#X_kpca_colleague=kpca.fit_transform(xcolleague2)\n",
    "\n",
    "print(Poly_phrases[0])\n",
    "print(Poly_train[0])\n",
    "#print(X_kpca_colleague[0])\n",
    "\n",
    "print(np.shape(Poly_train))\n",
    "print(np.shape(ytrain))\n",
    "\n",
    "\n",
    "\n",
    "\n",
    "\n"
   ]
  },
  {
   "cell_type": "code",
   "execution_count": null,
   "metadata": {
    "collapsed": true
   },
   "outputs": [],
   "source": [
    "from bokeh.plotting import figure\n",
    "from bokeh.io import show, output_notebook"
   ]
  },
  {
   "cell_type": "code",
   "execution_count": null,
   "metadata": {
    "collapsed": true
   },
   "outputs": [],
   "source": [
    "from sklearn.linear_model import Ridge\n",
    "clf=Ridge(alpha=.001)"
   ]
  },
  {
   "cell_type": "code",
   "execution_count": null,
   "metadata": {},
   "outputs": [],
   "source": [
    "clf.fit(Poly_train,ytrain)"
   ]
  },
  {
   "cell_type": "code",
   "execution_count": null,
   "metadata": {
    "collapsed": true
   },
   "outputs": [],
   "source": [
    "latlongpred=clf.predict(Poly_test)"
   ]
  },
  {
   "cell_type": "markdown",
   "metadata": {},
   "source": [
    "This figure shows that the validation set does not entirely reproduce the training set. There is a scale factor mismatch, and Alaska is missing. This is suspicious since both were produced through the same procedure (albeit without refitting the polynomial transformation or the ridge regression the second time). This is most likely due to the tail of the distribution where the polynomial form becomes a power law form. It would be a good idea to account for that by hand. "
   ]
  },
  {
   "cell_type": "code",
   "execution_count": null,
   "metadata": {},
   "outputs": [],
   "source": [
    "p=figure(plot_width=600, plot_height=600, title=\"Training and Verification Data\", x_axis_label=\"Longitude\", y_axis_label=\"Latitude\")\n",
    "p.square(ytrain[:,1], ytrain[:,0], color=\"blue\", legend=\"Coordinates of airport in training set\")\n",
    "p.circle(ytest[:,1],ytest[:,0],color=\"yellow\", legend=\"Coordinates of airports in test set\")\n",
    "p.x(latlongpred[:,1],latlongpred[:,0], color=\"red\", legend=\"Mappings of airport nanes to positions\")\n",
    "output_notebook()\n",
    "show(p)"
   ]
  },
  {
   "cell_type": "markdown",
   "metadata": {},
   "source": [
    "# Splicing a power law and a polynomial"
   ]
  },
  {
   "cell_type": "markdown",
   "metadata": {},
   "source": [
    "Both power law and polynomial forms are phenomenological models rather than theoretically predicted models. Since the mapping had a scale problem related to shrinking, my suspicion is that this can be improved by improving the phenomenological model for the coordinate transformation prior to the Ridge regression. To address this, I perform a least squares fit of a power law spliced to a polynomial. However, curve_fit cannot handle this because it cannot take if statements as input. Thus, I write my own routine."
   ]
  },
  {
   "cell_type": "code",
   "execution_count": null,
   "metadata": {
    "collapsed": true
   },
   "outputs": [],
   "source": [
    "from scipy.optimize import minimize\n",
    "\n",
    "def powerlaw(x,a,b,c,d):\n",
    "    return a*(x-d)**b+c\n",
    "\n",
    "def f5(x,a,b,c,d,g,h):\n",
    "    return a*x**5+b*x**4+c*x**3+d*x**2+g*x+h\n",
    "\n",
    "def f3(x,a,b,c,d):\n",
    "    return a*x**3+b*x**2+c*x+d\n",
    "\n",
    "\n",
    "\n",
    "\n",
    "\n"
   ]
  },
  {
   "cell_type": "markdown",
   "metadata": {},
   "source": [
    "The boundary constraint is not completely trivial in closed form, so it is best solved numerically using minimization. The boundary condition is set by making the derivative smooth. "
   ]
  },
  {
   "cell_type": "code",
   "execution_count": null,
   "metadata": {
    "collapsed": true
   },
   "outputs": [],
   "source": [
    "file = open(\"airports-extended.dat.txt\",\"r\")\n",
    "totalUSAcount=np.zeros(5)\n",
    "totalChinacount=np.zeros(5)\n",
    "totalEnglandcount=np.zeros(5)\n",
    "totalFrancecount=np.zeros(5)\n",
    "totalGermanycount=np.zeros(5)\n",
    "totalMexicocount=np.zeros(5)\n",
    "totalCanadacount=np.zeros(5)\n",
    "\n",
    "\n",
    "\n",
    "#I picked some countries I have familiarity with so I know whether or not the data makes sense when I see it, sort of.\n",
    "\n",
    "#what I want is the histogram of counts within each country to compare distributions between countries by eye. I can then look at a regression within the US by longitude and lattitude (actual distance from Chicago?) if it looks interesting\n",
    "\n",
    "\n",
    "Chinaratio=[]\n",
    "USAratio=[]\n",
    "Englandratio=[]\n",
    "Germanyratio=[]\n",
    "Franceratio=[]\n",
    "Canadaratio=[]\n",
    "Mexicoratio=[]\n",
    "\n",
    "for line in file:\n",
    "    line=re.split(',',line);\n",
    "#    if line[3] == \"\\\"China\\\"\":\n",
    "#        thisChinaratio = VowelToConsRatio(line[1])\n",
    "#        Chinaratio.append(thisChinaratio)\n",
    "    if line[3] == \"\\\"United States\\\"\":\n",
    "        thisUSAratio = VowelToConsRatio(line[1])\n",
    "        USAratio.append(thisUSAratio)\n",
    "    if line[3] == \"\\\"United Kingdom\\\"\":\n",
    "        thisEnglandratio = VowelToConsRatio(line[1])\n",
    "        Englandratio.append(thisEnglandratio)\n",
    "    \n",
    "    if line[3] == \"\\\"France\\\"\":\n",
    "        thisFranceratio = VowelToConsRatio(line[1])\n",
    "        Franceratio.append(thisFranceratio)\n",
    "    \n",
    "    \n",
    "    if line[3] == \"\\\"Germany\\\"\":#\n",
    "        thisGermanyratio = VowelToConsRatio(line[1])\n",
    "        Germanyratio.append(thisGermanyratio)\n",
    "    \n",
    "    if line[3] == \"\\\"Mexico\\\"\" :\n",
    "        thisMexicoratio = VowelToConsRatio(line[1])\n",
    "        Mexicoratio.append(thisMexicoratio)\n",
    "    if line[3] == \"\\\"Canada\\\"\" :\n",
    "        thisCanadaratio = VowelToConsRatio(line[1])\n",
    "        Canadaratio.append(thisCanadaratio)\n",
    "        \n",
    "                \n",
    "Canadaarr=np.asarray(Canadaratio)\n",
    "Canadaarr.sort()\n",
    "USAarr=np.asarray(USAratio)\n",
    "USAarr.sort()\n",
    "UKarr=np.asarray(Englandratio)\n",
    "UKarr.sort()\n",
    "Francearr=np.asarray(Franceratio)\n",
    "Francearr.sort()\n",
    "Germanyarr=np.asarray(Germanyratio)\n",
    "Germanyarr.sort()\n",
    "Mexicoarr=np.asarray(Mexicoratio)\n",
    "Mexicoarr.sort()\n"
   ]
  },
  {
   "cell_type": "code",
   "execution_count": null,
   "metadata": {
    "collapsed": true
   },
   "outputs": [],
   "source": [
    "from scipy.optimize import least_squares\n",
    "xdat=np.arange(len(USAarr))\n",
    "ydat0=np.sort(USAarr[:,0])\n",
    "ydat=ydat0[::-1]\n",
    "pmine=[5.,-3.,0.5,1.,1.,1.,0.5]\n"
   ]
  },
  {
   "cell_type": "code",
   "execution_count": null,
   "metadata": {},
   "outputs": [],
   "source": [
    "len(xdat)/2"
   ]
  },
  {
   "cell_type": "markdown",
   "metadata": {
    "collapsed": true
   },
   "source": [
    "The python command curve_fit doesn't work because of an if statement in the function to be fit. I suggest using a hand written least squares routine and a gradient descent minimization routine. First, I consider whether or not these four counting statistics truly behave as poisson distributed variables with a known uncertainty distirbution equal to the square root of the count so that a maximum likelihood fit could be used instead. For this, I need to use four variables instead of three and find out their functional forms (no ratio). I consider the consonant, verb, space, and other symbol count seperately. "
   ]
  },
  {
   "cell_type": "code",
   "execution_count": null,
   "metadata": {
    "collapsed": true
   },
   "outputs": [],
   "source": [
    "file = open(\"airports-extended.dat.txt\",\"r\")\n",
    "words=[]\n",
    "coords=[]\n",
    "\n",
    "\n",
    "for line in file:\n",
    "    line=re.split(',',line);\n",
    "\n",
    "    if line[3] == \"\\\"United States\\\"\":\n",
    "        thisC, thisV, thisS, thisO=AirportNameLetterFrequency(line[1]);\n",
    "        words.append([thisC,thisV,thisS,thisO])\n",
    "        coords.append([float(line[6]),float(line[7])])\n",
    "\n",
    "\n",
    "wordarray=np.empty([len(words),4])\n",
    "coordsarray=np.empty([len(coords),2])\n",
    "regionarray=np.empty([len(coords)])\n",
    "\n",
    "for i, sym in enumerate(words):\n",
    "    wordarray[i,:]=sym\n",
    "for i,coor in enumerate(coords):\n",
    "    coordsarray[i,:]=coor\n",
    "#    outputcoor=LatLongClassMaker(coor)\n",
    "#    regionarray[i]=outputcoor\n",
    "\n",
    "xtrain,xtest,ytrain,ytest=train_test_split(wordarray,coordsarray,test_size=0.33,shuffle=True, random_state=random.randint(1,101))\n"
   ]
  },
  {
   "cell_type": "code",
   "execution_count": null,
   "metadata": {
    "collapsed": true
   },
   "outputs": [],
   "source": [
    "sortednamedata=np.sort(wordarray, axis=0)\n",
    "ydat=np.fliplr(sortednamedata)\n",
    "xdat=np.arange(len(ydat))\n",
    "par0=[1.,1.,1.,1.]\n",
    "parlist=[]\n",
    "err=np.sqrt(ydat)\n",
    "err[err==0]=1.\n",
    "for i in np.arange(4):\n",
    "    par,pvar=par1,pvar=curve_fit(f3,xdat,ydat[:,i],p0=p0,sigma=err[:,i],absolute_sigma=True)\n",
    "    parlist.append(par)"
   ]
  },
  {
   "cell_type": "code",
   "execution_count": null,
   "metadata": {},
   "outputs": [],
   "source": [
    "print(np.max(ydat[:,0]))\n",
    "print(ydat[0,0])\n",
    "print(ydat[:,0])"
   ]
  },
  {
   "cell_type": "code",
   "execution_count": null,
   "metadata": {},
   "outputs": [],
   "source": [
    "from bokeh.plotting import figure, output_notebook, show, gridplot\n",
    "\n",
    "s1=figure(plot_width=250, plot_height=250, title=\"Fit to airport name data\", x_axis_label=\"Number of Consonants\", y_axis_label=\"Count\")\n",
    "s1.vbar(x=xdat,width=0.5,bottom=0, top=ydat[:,0], color='cyan', legend='Consonant data')\n",
    "s1.line(xdat, f3(xdat,parlist[0][0],parlist[0][1],parlist[0][2],parlist[0][3]),color='black', legend='Third order polynomial fit')\n",
    "\n",
    "\n",
    "s2=figure(plot_width=250, plot_height=250, title=\"Fit to airport name data\", x_axis_label=\"Number of Vowels\", y_axis_label=\"Count\")\n",
    "s2.vbar(x=xdat, width=0.5,bottom=0,top=ydat[:,1], color='yellow', legend='Vowel data')\n",
    "s2.line(xdat, f3(xdat,parlist[1][0],parlist[1][1],parlist[1][2],parlist[1][3]),color='black', legend='Third order polynomial fit')\n",
    "\n",
    "s3=figure(plot_width=250, plot_height=250, title=\"Fit to airport name data\", x_axis_label=\"Number of Spaces\", y_axis_label=\"Count\")\n",
    "s3.vbar(x=xdat,width=0.5,bottom=0,top=ydat[:,2], color='orange', legend='Space data')\n",
    "s3.line(xdat, f3(xdat,parlist[2][0],parlist[2][1],parlist[2][2],parlist[2][3]),color='black', legend='Third order polynomial fit')\n",
    "\n",
    "\n",
    "s4=figure(plot_width=250, plot_height=250, title=\"Fit to airport name data\", x_axis_label=\"Number of Symbols\", y_axis_label=\"Count\")\n",
    "s4.vbar(x=xdat, width=0.5,bottom=0,top=ydat[:,3], color='green', legend='Symbol data')\n",
    "s4.line(xdat, f3(xdat,parlist[3][0],parlist[3][1],parlist[3][2],parlist[3][3]),color='black', legend='Third order polynomial fit')\n",
    "\n",
    "p=gridplot([[s1,s2],[s3,s4]])\n",
    "\n",
    "output_notebook()\n",
    "show(p)"
   ]
  },
  {
   "cell_type": "markdown",
   "metadata": {},
   "source": [
    "Clearly these are not poisson distributions. Back to the previous approach of using ratios to make discrete-ish data continuous. I will splice a polynomial to a power law to handle my scale problem and implement a least squares fit by hand."
   ]
  },
  {
   "cell_type": "code",
   "execution_count": null,
   "metadata": {
    "collapsed": true
   },
   "outputs": [],
   "source": [
    "def polypower(x,params,boundaryx):\n",
    "    [a1,b1,c1,d1,a2,b2,c2,d2]=params\n",
    "    xo=[]\n",
    "    for xi in x:\n",
    "    \n",
    "        if(xi>boundaryx):\n",
    "            xo.append(f3(x,a2,b2,c2,d2))\n",
    "        else:\n",
    "            xo.append(powerlaw(x,a1,b1,c1,d1))\n",
    "    return xo"
   ]
  },
  {
   "cell_type": "code",
   "execution_count": null,
   "metadata": {
    "collapsed": true
   },
   "outputs": [],
   "source": [
    "def polypowerboundaryconstraint(x,a1,b1,c1,d1,a2,b2,c2):\n",
    "    def polypowerlawboundarysolve(x): \n",
    "        return a1*b1*(x-d1)**(b1-1)-(a2*3*x**2+b2*2*x+c2)\n",
    "    return polypowerlawboundarysolve\n",
    "\n",
    "def polypowerboundaryderivconstraint(xboundary,a1,b1,c1,d1,a2,b2):\n",
    "    b2=-1/2.*(a1*b1*(b1-1)*(xboundary-d1)**(b1-2)-(a2*6*xboundary))\n",
    "    return b2\n"
   ]
  },
  {
   "cell_type": "code",
   "execution_count": null,
   "metadata": {
    "collapsed": true
   },
   "outputs": [],
   "source": [
    "#initial conditions\n",
    "\n",
    "def polypowerboundaryderivconstraint(x,d1,a2,b2):\n",
    "    c2=(1./6.*(d1-x)**3-(a2*3*x**2+b2*2*x))\n",
    "    return c2\n",
    "\n",
    "def polypowerboundaryconstraint(x,c1,d1,a2,b2,c2): \n",
    "    #d2=(a1*(x-d1)**(b1)+c1-(a2*x**3+b2*x**2+c2*x))\n",
    "    d2=1./24.*(x-d1)**4+c1-(1./24*x**3+b2*x**2+c2*x)\n",
    "    return d2\n",
    "\n",
    "def polypowerboundary2derivconstraint(xboundary,d1,a2):\n",
    "    #b2=1/2.*(a1*b1*(b1-1)*(xboundary-d1)**(b1-2)-(a2*6*xboundary))\n",
    "    b2=-1/2.*(1/.2*(xboundary-d1)**2-1/4.*xboundary)\n",
    "    return b2\n",
    "def polypowerboundary3derivconstraint(xboundary,d1):\n",
    "    a2=1/6.*(d1-xboundary)\n",
    "    #a2=1/6.*(a1*b1*(b1-1)*(b1-2)*(xboundary-d1)**(b1-3))\n",
    "    #a2=1/6.*(xboundary)\n",
    "    return a2\n",
    "\n",
    "def polypowerboundary4derivconstriant():\n",
    "    a1=1./24\n",
    "    #a1=(b1*(b1-1)*(b1-2)*(b1-3)*(xboundary-d1)**(b1-4))**(-1)\n",
    "    #a1=(24.)**-1\n",
    "    return a1\n",
    "\n",
    "def polypowerboundary5derivconstraint():\n",
    "    #b1*(b1-1)*(b1-2)*(b1-3)*(b-4)=0\n",
    "    return 4.\n",
    "\n"
   ]
  },
  {
   "cell_type": "code",
   "execution_count": null,
   "metadata": {
    "collapsed": true
   },
   "outputs": [],
   "source": [
    "def polypowerderiv(x,a1,b1,c1,d1,a2,b2,c2,d2,boundaryx,ydat):\n",
    "        \n",
    "    #need to minimize square of ydat-polypower\n",
    "    #from Mathematica, to be careful\n",
    "    theta1=np.zeros(len(xdat))\n",
    "    theta1[x>boundaryx]=1\n",
    "    theta2=np.zeros(len(xdat))\n",
    "    theta2[x<=boundaryx]=1\n",
    "    \n",
    "    #Theta is Heavyside step function, making each gradient apply to only one region prior to summing.\n",
    "    gradd2=theta2*2*(d2+c2*x+b2*x**2+a2*x**3-ydat)\n",
    "    gradc2=gradd2*x\n",
    "    gradb2=gradc2*x\n",
    "    grada2=gradb2*x\n",
    "        \n",
    "        \n",
    "    xnonzerolog=x\n",
    "    xnonzerolog[x==0]=2\n",
    "    #again from Mathematica, to be careful\n",
    "    gradc1=theta1*2*(c1+a1*x**b1-ydat)\n",
    "    grada1=gradc1*x**b1\n",
    "    gradb1=grada1*a1*np.log(xnonzerolog)\n",
    "    \n",
    "    #gradboundaryx is a solution to a perturbation in the x direction of the boundary constriant. \n",
    "    #In other words, the derivative of the boundary constraint at x must also be continuous. \n",
    "    #Implement in a separate routine prior to processing this routine when defining boundaryx\n",
    "    \n",
    "    \n",
    "    return [np.sum(grada1),np.sum(gradb1),np.sum(gradc1),np.sum(grada2),np.sum(gradb2),np.sum(gradc2),np.sum(gradd2)]\n",
    "        \n",
    "        "
   ]
  },
  {
   "cell_type": "markdown",
   "metadata": {},
   "source": [
    "Modified 4th and 5th derivative constraints to be explicitly numerical. Since the fifth derivative constraint has to equal zero, we know it goes as the fourth power in order for other derivative constraints to not be degenerate. Thus, the fourth derivative constraint is also simply a nunmber. This gives numbers for a1 and b1."
   ]
  },
  {
   "cell_type": "markdown",
   "metadata": {},
   "source": [
    "Need to fix boundary conditions to use -b"
   ]
  },
  {
   "cell_type": "code",
   "execution_count": 34,
   "metadata": {
    "collapsed": true
   },
   "outputs": [],
   "source": [
    "def polypowerboundaryderivconstraint(x,a2,b2):\n",
    "    #c2=(-b1*a1*(x-d1)**(-b1-1)-(3*a2*x**2+2*b2*x)\n",
    "    c2=(1./6.*(x)**3-(a2*3*x**2+b2*2*x))\n",
    "    return c2\n",
    "\n",
    "def polypowerboundaryconstraint(x,c1,a2,b2,c2): \n",
    "    #d2=(a1*(x-d1)**(-b1)+c1-(a2*x**3+b2*x**2+c2*x))\n",
    "    d2=1./24.*(x)**4+c1-(1./24*x**3+b2*x**2+c2*x)\n",
    "    return d2\n",
    "\n",
    "def polypowerboundary2derivconstraint(xboundary,a2):\n",
    "    #b2=1/2.*(a1*(-b1)*(-b1-1)*(xboundary-d1)**(-b1-2)-(a2*6*xboundary))\n",
    "    b2=-1/2.*(1/.2*(xboundary)**2-1/4.*xboundary)\n",
    "    return b2\n",
    "def polypowerboundary3derivconstraint(xboundary):\n",
    "    a2=1/6.*(xboundary)\n",
    "    a2=1/6.*(a1*(-b1)*(-b1-1)*(-b1-2)*(xboundary)**(-b1-3))\n",
    "    #a2=1/6.*(xboundary)\n",
    "    return a2\n",
    "\n",
    "def polypowerboundary4derivconstriant():\n",
    "    #a1=1./24\n",
    "    #a1=(-b1*(-b1-1)*(-b1-2)*(-b1-3)*(xboundary-d1)**(-b1-4))**(-1)\n",
    "    a1=(24.)**-1\n",
    "    return a1\n",
    "\n",
    "def polypowerboundary5derivconstraint():\n",
    "    #b1*(b1-1)*(b1-2)*(b1-3)*(b-4)=0\n",
    "    return -4. #-4 for -b\n",
    "\n"
   ]
  },
  {
   "cell_type": "code",
   "execution_count": null,
   "metadata": {
    "collapsed": true
   },
   "outputs": [],
   "source": [
    "def powerlaw(x,params):\n",
    "    [a,b,c]=params\n",
    "    return a*(x)**(b)+c"
   ]
  },
  {
   "cell_type": "code",
   "execution_count": null,
   "metadata": {
    "collapsed": true
   },
   "outputs": [],
   "source": [
    "def powerpoly(x,params,boundaryx):\n",
    "    [a1,b1,c1,a2,b2,c2,d2]=params\n",
    "    xo=[]\n",
    "    for xi in x:\n",
    "    \n",
    "        if(xi<boundaryx):\n",
    "            xo.append(f3(x,a2,b2,c2,d2))\n",
    "        else:\n",
    "            xo.append(powerlaw(x,a1,b1,c1))\n",
    "    return xo"
   ]
  },
  {
   "cell_type": "code",
   "execution_count": null,
   "metadata": {
    "collapsed": true
   },
   "outputs": [],
   "source": [
    "seed=[0.15,50]\n",
    "c1, boundaryx=seed\n",
    "b1= polypowerboundary5derivconstraint()\n",
    "a1=polypowerboundary4derivconstriant()\n",
    "a2=polypowerboundary3derivconstraint(boundaryx)\n",
    "b2=polypowerboundary2derivconstraint(boundaryx,a2)\n",
    "c2=polypowerboundaryderivconstraint(boundaryx,a2,b2)\n",
    "d2=polypowerboundaryconstraint(boundaryx,c1,a2,b2,c2)\n",
    "params=[a1,b1,c1,a2,b2,c2,d2]"
   ]
  },
  {
   "cell_type": "code",
   "execution_count": null,
   "metadata": {},
   "outputs": [],
   "source": [
    "print(params)\n",
    "print(len(xdat))"
   ]
  },
  {
   "cell_type": "code",
   "execution_count": null,
   "metadata": {},
   "outputs": [],
   "source": [
    "import matplotlib.pyplot as plt\n",
    "plt.title('Polynomial part of powerpoly function for some parameters')\n",
    "plt.xlabel('x')\n",
    "plt.ylabel('y')\n",
    "plt.plot(xdat,f3(xdat,params[3],params[4],params[5],params[6]))"
   ]
  },
  {
   "cell_type": "code",
   "execution_count": null,
   "metadata": {},
   "outputs": [],
   "source": [
    "params[0:3]"
   ]
  },
  {
   "cell_type": "code",
   "execution_count": null,
   "metadata": {},
   "outputs": [],
   "source": [
    "import matplotlib.pyplot as plt\n",
    "plt.title('Power law part of powerpoly function for some parameters')\n",
    "plt.xlabel('x')\n",
    "plt.ylabel('y')\n",
    "plt.plot(xdat[1:],powerlaw(xdat[1:],params[0:3]))\n",
    "plt.show()"
   ]
  },
  {
   "cell_type": "markdown",
   "metadata": {},
   "source": [
    "Okay, so fifth order boundary condition splicing is a failure because the functional form is simply not desirable. Will have to loosen constraints for this problem to work, and minimize over more variables with fewer boundary conditions. Maybe first order derivative boundary conditions would be good.  "
   ]
  },
  {
   "cell_type": "code",
   "execution_count": null,
   "metadata": {
    "collapsed": true
   },
   "outputs": [],
   "source": [
    "def powerlaw(x,params):\n",
    "    [a,b,c]=params\n",
    "    return a*(x)**(-b)+c"
   ]
  },
  {
   "cell_type": "code",
   "execution_count": null,
   "metadata": {
    "collapsed": true
   },
   "outputs": [],
   "source": [
    "def powerpoly(x,params):\n",
    "    [a1,b1,c1,a2,b2,c2,d2,boundaryx]=params\n",
    "    xo=[]\n",
    "    for xi in x:\n",
    "    \n",
    "        if(xi<boundaryx):\n",
    "            xo.append(f3(x,a2,b2,c2,d2))\n",
    "        else:\n",
    "            xo.append(powerlaw(x,a1,b1,c1))\n",
    "    return xo"
   ]
  },
  {
   "cell_type": "code",
   "execution_count": null,
   "metadata": {
    "collapsed": true
   },
   "outputs": [],
   "source": [
    "def polypowerboundaryderivconstraintanalytic(x,a1,b1,a2,b2):\n",
    "    c2=(-b1*a1*x**(-b1-1)-(3*a2*x**2+2*b2*x))\n",
    "    #c2=(1./6.*(x)**3-(a2*3*x**2+b2*2*x))\n",
    "    return c2\n",
    "\n",
    "def polypowerboundaryconstraintanalytic(x,a1,b1,c1,a2,b2,c2): \n",
    "    d2=(a1*x**(-b1)+c1-(a2*x**3+b2*x**2+c2*x))\n",
    "    #d2=1./24.*(x)**4+c1-(1./24*x**3+b2*x**2+c2*x)\n",
    "    return d2\n"
   ]
  },
  {
   "cell_type": "code",
   "execution_count": 35,
   "metadata": {
    "collapsed": true
   },
   "outputs": [],
   "source": [
    "from bokeh.plotting import figure, output_notebook, show\n",
    "from bokeh.layouts import row\n",
    "\n",
    "def powerpolyparamsgen(xdat, ydat,seed, maxiter, learningrate, tol):\n",
    "    \n",
    "    s1=figure(height=250,width=250,title=\"Intercept evolution\",x_axis_label=\"step\",y_axis_label=\"Parameter value\")\n",
    "    s2=figure(height=250,width=250,title=\"Boundary evolution\",x_axis_label=\"step\",y_axis_label=\"Parameter value\")\n",
    "    output_notebook()\n",
    "    xdat[xdat==0]=.0001\n",
    "    chisq=0 #chisq is the L2 error of the fit relative to the ydata\n",
    "    dof=len(xdat)-len(seed)\n",
    "    [a1,b1,c1,a2,b2,c2,d2,boundaryx]=seed\n",
    "    #singularity at origin\n",
    "    \n",
    "    c2=polypowerboundaryderivconstraintanlaytic(boundaryx,a2,b2) #first order derivative constraint\n",
    "    d2=polypowerboundaryconstraintanlaytic(boundaryx,c1,a2,b2,c2) #continuity constraint\n",
    "    params=np.array([a1, b1, c1,a2,b2,c2,d2])\n",
    "    #these are the only free fit parameters\n",
    "    fitparams=np.array([a1,b1,c1,a2,b2,boundaryx])\n",
    "    addto=[True,True]\n",
    "    fitparamsnext=fitparams\n",
    "    #perform a variation and compare chisquareds with respect to each fit parameter\n",
    "    chisqdelta=np.zeros(len(fitparams))\n",
    "    for step in np.arange(maxiter):\n",
    "        fitparams=fitparamsnext\n",
    "        chisq=np.sum((ydat-polypower(xdat,params,boundaryx))**2)\n",
    "        for i in np.arange(len(fitparams)):\n",
    "            fitparamsdelta=fitparams\n",
    "            fitparamsdelta[i]+=delta[i]\n",
    "            a12,b12,c12,a22,b22,boundaryx2=fitparamsdelta\n",
    "            #satisfy boundary conditions for new positional parameters by varying boundaryx\n",
    "            d22=polypowerboundaryconstraintanalytic(boundaryx2,c12,a22,b22,c2)\n",
    "            #continuity equations repeated here because each step has to be self consistent\n",
    "            c22=polypowerboundaryderivconstraintanalytic(boundaryx,a22,b22) #first order derivative constraint\n",
    "            d22=polypowerboundaryconstraintanalytic(boundaryx,c12,a22,b22,c22) #continuity constraint\n",
    "            paramsdelta=[a12,b12,c12,a22,b22,c22,d22,boundaryx2]\n",
    "            chisqdelta[i]=np.sum((ydat-polypower(xdat,paramsdelta))**2)\n",
    "            if chisqdelta[i]<chisq:\n",
    "                addto[i]=True\n",
    "            else:\n",
    "                addto[i]=False\n",
    "        withintol=False\n",
    "        print(fitparams, chisq)\n",
    "        for i in np.arange(len(fitparams)): #check to determine whether or not _all_ components are within tolerance\n",
    "            if (chisqdelta[i]-chisq)/chisq<tol:\n",
    "                withintol=True\n",
    "            else: \n",
    "                withintol=False\n",
    "        if withintol:\n",
    "            a1,b1,c1,a2,b2,boundaryx=fitparams\n",
    "            c2=polypowerboundaryderivconstraintanalytic(boundaryx,a2,b2) #first order derivative constraint\n",
    "            d2=polypowerboundaryconstraintanlaytic(boundaryx,c1,a2,b2,c2) #continuity constraint\n",
    "            return [a1,b1,c1,a2,b2,c2,d2,boundaryx]\n",
    "        for i in np.arange(len(fitparams)): #independently vary the components of the next step of fitparams\n",
    "            if addto[i]:\n",
    "                fitparamsnext[i]+=learningrate*fitparams[i]\n",
    "            else:\n",
    "                fitparamsnext[i]-=learningrate*fitparams[i]\n",
    "        #use analytic gradients instead to handle boundary conditions\n",
    "        #s1.circle(step,c1,color=\"cyan\",legend=\"Splice intercept\")\n",
    "        #s2.square(step,boundaryx, color=\"black\",legend=\"Splice boundary\")\n",
    "        #show(row(s1,s2))\n",
    "    a1,b1,c1,a2,b2,boundaryx=fitparams\n",
    "    c2=polypowerboundaryderivconstraintanlaytic(boundaryx,a2,b2) #first order derivative constraint\n",
    "    d2=polypowerboundaryconstraintanlaytic(boundaryx,c1,a2,b2,c2) #continuity constraint\n",
    "    print(\"max iter reached\")\n",
    "    return [a1,b1,c1,a2,b2,c2,d2,boundaryx]"
   ]
  },
  {
   "cell_type": "code",
   "execution_count": null,
   "metadata": {},
   "outputs": [],
   "source": [
    "sortednamedata=np.sort(wordarray, axis=0)\n",
    "ydat=sortednamedata[:,0]\n",
    "ydat=ydat[::-1]\n",
    "xdat=np.arange(len(ydat))"
   ]
  },
  {
   "cell_type": "code",
   "execution_count": null,
   "metadata": {},
   "outputs": [],
   "source": [
    "import matplotlib.pyplot as plt\n",
    "plt.title('PDF of Airport Name data')\n",
    "plt.xlabel('Airports')\n",
    "plt.ylabel('Vowel to Consonant Ratio')\n",
    "plt.bar(xdat,ydat,color='b')\n",
    "#plt.legend(loc='upper right', frameon=False)\n",
    "plt.show()"
   ]
  },
  {
   "cell_type": "markdown",
   "metadata": {},
   "source": [
    "Should work for decaying power law spliced to polynomial with derivative and continuity boundary condititions, visually"
   ]
  },
  {
   "cell_type": "code",
   "execution_count": null,
   "metadata": {
    "collapsed": true
   },
   "outputs": [],
   "source": [
    "seed1=[-0.1001773 ,  0.16004007,  0.44202822] #from power law fit earlier\n",
    "seed2=[ 3.94060700e-09, -1.18255123e-05,  1.50804245e-02,  4.63688922e+00] #from polynomial fit earlier"
   ]
  },
  {
   "cell_type": "code",
   "execution_count": null,
   "metadata": {
    "collapsed": true
   },
   "outputs": [],
   "source": [
    "maxiter=100\n",
    "seed=[]\n",
    "seed.extend(seed1)\n",
    "seed.extend(seed2)\n",
    "boundaryxseed=50\n",
    "seed.append(boundaryxseed)\n",
    "learningrate=0.01\n",
    "tol=0.0001"
   ]
  },
  {
   "cell_type": "code",
   "execution_count": null,
   "metadata": {},
   "outputs": [],
   "source": [
    "seed"
   ]
  },
  {
   "cell_type": "code",
   "execution_count": null,
   "metadata": {},
   "outputs": [],
   "source": [
    "params=powerpolyparamsgen(xdat, ydat,seed, maxiter, learningrate, tol)"
   ]
  },
  {
   "cell_type": "markdown",
   "metadata": {},
   "source": [
    "Update boundary constraints and power law to remove vertical offset in power law. This simplifies continuitity boundary constraint and reduces one minimization parameter. As suggested by Robert Scholl."
   ]
  },
  {
   "cell_type": "code",
   "execution_count": 21,
   "metadata": {
    "collapsed": true
   },
   "outputs": [],
   "source": [
    "def powerlawnooffset(x,a,b):\n",
    "    return a*x**b"
   ]
  },
  {
   "cell_type": "code",
   "execution_count": 85,
   "metadata": {
    "collapsed": true
   },
   "outputs": [],
   "source": [
    "def polypowerboundaryderivconstrainteqn(x,a1,b1,a2,b2):\n",
    "    c2=(b1*a1*x**(b1-1)-(3*a2*x**2+2*b2*x))\n",
    "    #c2=(1./6.*(x)**3-(a2*3*x**2+b2*2*x))\n",
    "    return c2\n",
    "\n",
    "def polypowerboundaryconstrainteqn(x,a1,b1,a2,b2,c2): \n",
    "    d2=(a1*x**(b1)-(a2*x**3+b2*x**2+c2*x))\n",
    "    #d2=1./24.*(x)**4+c1-(1./24*x**3+b2*x**2+c2*x)\n",
    "    return d2\n"
   ]
  },
  {
   "cell_type": "code",
   "execution_count": 67,
   "metadata": {
    "collapsed": true
   },
   "outputs": [],
   "source": [
    "def powerpolynooffset(x,params):\n",
    "    [a1,b1,a2,b2,c2,d2,boundaryx]=params\n",
    "    xo=[]\n",
    "    for xi in x:\n",
    "    \n",
    "        if(xi<boundaryx):\n",
    "            xo.append(f3(x,a2,b2,c2,d2))\n",
    "        else:\n",
    "            xo.append(powerlawnooffset(x,a1,b1))\n",
    "    return xo"
   ]
  },
  {
   "cell_type": "code",
   "execution_count": 91,
   "metadata": {
    "collapsed": true
   },
   "outputs": [],
   "source": [
    "from bokeh.plotting import figure, output_notebook, show\n",
    "from bokeh.layouts import row\n",
    "\n",
    "def powerpolyparamsgen(xdat, ydat,seed, maxiter, learningrate, tol):\n",
    "    \n",
    "    s1=figure(height=250,width=250,title=\"Intercept evolution\",x_axis_label=\"step\",y_axis_label=\"Parameter value\")\n",
    "    s2=figure(height=250,width=250,title=\"Boundary evolution\",x_axis_label=\"step\",y_axis_label=\"Parameter value\")\n",
    "    output_notebook()\n",
    "    xdat[xdat==0]=.0001\n",
    "    chisq=0 #chisq is the L2 error of the fit relative to the ydata\n",
    "    dof=len(xdat)-len(seed)\n",
    "    [a1,b1,a2,b2,c2,d2,boundaryx]=seed\n",
    "    #singularity at origin\n",
    "    \n",
    "    c2=polypowerboundaryderivconstrainteqn(boundaryx,a1,b1,a2,b2) #first order derivative constraint\n",
    "    d2=polypowerboundaryconstrainteqn(boundaryx,a1,b1,a2,b2,c2) #continuity constraint\n",
    "    params=np.array([a1, b1,a2,b2,c2,d2,boundaryx])\n",
    "    #these are the only free fit parameters\n",
    "    fitparams=np.array([a1,b1,a2,b2,boundaryx])\n",
    "    fitparamsnext=fitparams\n",
    "    addto=[True,True,True,True,True]\n",
    "    #perform a variation and compare chisquareds with respect to each fit parameter\n",
    "    chisqdelta=np.zeros(len(fitparams))\n",
    "    for step in np.arange(maxiter):\n",
    "        fitparams=fitparamsnext\n",
    "        for i in np.arange(len(fitparams)): #independently vary the components of the next step of fitparams\n",
    "            if addto[i]:\n",
    "                fitparamsnext[i]+=learningrate*fitparams[i]\n",
    "            else:\n",
    "                fitparamsnext[i]-=learningrate*fitparams[i] \n",
    "        chisq=np.sum((ydat-powerpolynooffset(xdat,params))**2)\n",
    "        for i in np.arange(len(fitparams)):\n",
    "            fitparamsdelta=fitparams\n",
    "            fitparamsdelta[i]=fitparamsnext[i]\n",
    "            a12,b12,a22,b22,boundaryx2=fitparamsdelta\n",
    "            #continuity equations repeated here because each step has to be self consistent\n",
    "            c22=polypowerboundaryderivconstrainteqn(boundaryx,a12,b12,a22,b22) #first order derivative constraint\n",
    "            d22=polypowerboundaryconstrainteqn(boundaryx,a12,b12,a22,b22,c22) #continuity constraint\n",
    "            paramsdelta=[a12,b12,a22,b22,c22,d22,boundaryx2]\n",
    "            chisqdelta[i]=np.sum((ydat-powerpolynooffset(xdat,paramsdelta))**2)\n",
    "            if chisqdelta[i]<chisq:\n",
    "                addto[i]=True\n",
    "            else:\n",
    "                addto[i]=False\n",
    "        withintol=False\n",
    "        print(fitparams, chisq)\n",
    "        for i in np.arange(len(fitparams)): #check to determine whether or not _all_ components are within tolerance\n",
    "            if (chisqdelta[i]-chisq)/chisq>tol:\n",
    "                withintol=False\n",
    "            else: \n",
    "                withintol=True\n",
    "        if withintol:\n",
    "            a1,b1,a2,b2,boundaryx=fitparams\n",
    "            c2=polypowerboundaryderivconstrainteqn(boundaryx,a1,b1,a2,b2) #first order derivative constraint\n",
    "            d2=polypowerboundaryconstrainteqn(boundaryx,a1,b1,a2,b2,c2) #continuity constraint\n",
    "            return [a1,b1,a2,b2,c2,d2,boundaryx]\n",
    "        for i in np.arange(len(fitparams)): #independently vary the components of the next step of fitparams\n",
    "            if addto[i]:\n",
    "                fitparamsnext[i]+=learningrate*fitparams[i]\n",
    "            else:\n",
    "                fitparamsnext[i]-=learningrate*fitparams[i]\n",
    "        #use analytic gradients instead to handle boundary conditions\n",
    "        #s1.circle(step,c1,color=\"cyan\",legend=\"Splice intercept\")\n",
    "        #s2.square(step,boundaryx, color=\"black\",legend=\"Splice boundary\")\n",
    "        #show(row(s1,s2))\n",
    "    a1,b1,a2,b2,boundaryx=fitparams\n",
    "    c2=polypowerboundaryderivconstrainteqn(boundaryx,a2,b2) #first order derivative constraint\n",
    "    d2=polypowerboundaryconstrainteqn(boundaryx,a2,b2,c2) #continuity constraint\n",
    "    print(\"max iter reached\")\n",
    "    return [a1,b1,a2,b2,c2,d2,boundaryx]"
   ]
  },
  {
   "cell_type": "code",
   "execution_count": 92,
   "metadata": {},
   "outputs": [],
   "source": [
    "boundaryx=50\n",
    "b1= polypowerboundary5derivconstraint()\n",
    "a1=polypowerboundary4derivconstriant()\n",
    "a2=polypowerboundary3derivconstraint(boundaryx)\n",
    "b2=polypowerboundary2derivconstraint(boundaryx,a2)\n",
    "c2=polypowerboundaryderivconstraint(boundaryx,a2,b2)\n",
    "d2=polypowerboundaryconstraint(boundaryx,0,a2,b2,c2)"
   ]
  },
  {
   "cell_type": "code",
   "execution_count": 93,
   "metadata": {
    "collapsed": true
   },
   "outputs": [],
   "source": [
    "maxiter=100\n",
    "seed=[a1,b1,a2,b2,c2,d2,boundaryx]\n",
    "learningrate=0.01\n",
    "tol=0.0001"
   ]
  },
  {
   "cell_type": "code",
   "execution_count": 95,
   "metadata": {},
   "outputs": [
    {
     "data": {
      "text/html": [
       "\n",
       "    <div class=\"bk-root\">\n",
       "        <a href=\"https://bokeh.pydata.org\" target=\"_blank\" class=\"bk-logo bk-logo-small bk-logo-notebook\"></a>\n",
       "        <span id=\"934c16d0-57ed-4e99-a1b5-828e165df035\">Loading BokehJS ...</span>\n",
       "    </div>"
      ]
     },
     "metadata": {},
     "output_type": "display_data"
    },
    {
     "data": {
      "application/javascript": [
       "\n",
       "(function(root) {\n",
       "  function now() {\n",
       "    return new Date();\n",
       "  }\n",
       "\n",
       "  var force = true;\n",
       "\n",
       "  if (typeof (root._bokeh_onload_callbacks) === \"undefined\" || force === true) {\n",
       "    root._bokeh_onload_callbacks = [];\n",
       "    root._bokeh_is_loading = undefined;\n",
       "  }\n",
       "\n",
       "  var JS_MIME_TYPE = 'application/javascript';\n",
       "  var HTML_MIME_TYPE = 'text/html';\n",
       "  var EXEC_MIME_TYPE = 'application/vnd.bokehjs_exec.v0+json';\n",
       "  var CLASS_NAME = 'output_bokeh rendered_html';\n",
       "\n",
       "  /**\n",
       "   * Render data to the DOM node\n",
       "   */\n",
       "  function render(props, node) {\n",
       "    var script = document.createElement(\"script\");\n",
       "    node.appendChild(script);\n",
       "  }\n",
       "\n",
       "  /**\n",
       "   * Handle when an output is cleared or removed\n",
       "   */\n",
       "  function handleClearOutput(event, handle) {\n",
       "    var cell = handle.cell;\n",
       "\n",
       "    var id = cell.output_area._bokeh_element_id;\n",
       "    var server_id = cell.output_area._bokeh_server_id;\n",
       "    // Clean up Bokeh references\n",
       "    if (id !== undefined) {\n",
       "      Bokeh.index[id].model.document.clear();\n",
       "      delete Bokeh.index[id];\n",
       "    }\n",
       "\n",
       "    if (server_id !== undefined) {\n",
       "      // Clean up Bokeh references\n",
       "      var cmd = \"from bokeh.io.state import curstate; print(curstate().uuid_to_server['\" + server_id + \"'].get_sessions()[0].document.roots[0]._id)\";\n",
       "      cell.notebook.kernel.execute(cmd, {\n",
       "        iopub: {\n",
       "          output: function(msg) {\n",
       "            var element_id = msg.content.text.trim();\n",
       "            Bokeh.index[element_id].model.document.clear();\n",
       "            delete Bokeh.index[element_id];\n",
       "          }\n",
       "        }\n",
       "      });\n",
       "      // Destroy server and session\n",
       "      var cmd = \"import bokeh.io.notebook as ion; ion.destroy_server('\" + server_id + \"')\";\n",
       "      cell.notebook.kernel.execute(cmd);\n",
       "    }\n",
       "  }\n",
       "\n",
       "  /**\n",
       "   * Handle when a new output is added\n",
       "   */\n",
       "  function handleAddOutput(event, handle) {\n",
       "    var output_area = handle.output_area;\n",
       "    var output = handle.output;\n",
       "\n",
       "    // limit handleAddOutput to display_data with EXEC_MIME_TYPE content only\n",
       "    if ((output.output_type != \"display_data\") || (!output.data.hasOwnProperty(EXEC_MIME_TYPE))) {\n",
       "      return\n",
       "    }\n",
       "\n",
       "    var toinsert = output_area.element.find(\".\" + CLASS_NAME.split(' ')[0]);\n",
       "\n",
       "    if (output.metadata[EXEC_MIME_TYPE][\"id\"] !== undefined) {\n",
       "      toinsert[toinsert.length - 1].firstChild.textContent = output.data[JS_MIME_TYPE];\n",
       "      // store reference to embed id on output_area\n",
       "      output_area._bokeh_element_id = output.metadata[EXEC_MIME_TYPE][\"id\"];\n",
       "    }\n",
       "    if (output.metadata[EXEC_MIME_TYPE][\"server_id\"] !== undefined) {\n",
       "      var bk_div = document.createElement(\"div\");\n",
       "      bk_div.innerHTML = output.data[HTML_MIME_TYPE];\n",
       "      var script_attrs = bk_div.children[0].attributes;\n",
       "      for (var i = 0; i < script_attrs.length; i++) {\n",
       "        toinsert[toinsert.length - 1].firstChild.setAttribute(script_attrs[i].name, script_attrs[i].value);\n",
       "      }\n",
       "      // store reference to server id on output_area\n",
       "      output_area._bokeh_server_id = output.metadata[EXEC_MIME_TYPE][\"server_id\"];\n",
       "    }\n",
       "  }\n",
       "\n",
       "  function register_renderer(events, OutputArea) {\n",
       "\n",
       "    function append_mime(data, metadata, element) {\n",
       "      // create a DOM node to render to\n",
       "      var toinsert = this.create_output_subarea(\n",
       "        metadata,\n",
       "        CLASS_NAME,\n",
       "        EXEC_MIME_TYPE\n",
       "      );\n",
       "      this.keyboard_manager.register_events(toinsert);\n",
       "      // Render to node\n",
       "      var props = {data: data, metadata: metadata[EXEC_MIME_TYPE]};\n",
       "      render(props, toinsert[toinsert.length - 1]);\n",
       "      element.append(toinsert);\n",
       "      return toinsert\n",
       "    }\n",
       "\n",
       "    /* Handle when an output is cleared or removed */\n",
       "    events.on('clear_output.CodeCell', handleClearOutput);\n",
       "    events.on('delete.Cell', handleClearOutput);\n",
       "\n",
       "    /* Handle when a new output is added */\n",
       "    events.on('output_added.OutputArea', handleAddOutput);\n",
       "\n",
       "    /**\n",
       "     * Register the mime type and append_mime function with output_area\n",
       "     */\n",
       "    OutputArea.prototype.register_mime_type(EXEC_MIME_TYPE, append_mime, {\n",
       "      /* Is output safe? */\n",
       "      safe: true,\n",
       "      /* Index of renderer in `output_area.display_order` */\n",
       "      index: 0\n",
       "    });\n",
       "  }\n",
       "\n",
       "  // register the mime type if in Jupyter Notebook environment and previously unregistered\n",
       "  if (root.Jupyter !== undefined) {\n",
       "    var events = require('base/js/events');\n",
       "    var OutputArea = require('notebook/js/outputarea').OutputArea;\n",
       "\n",
       "    if (OutputArea.prototype.mime_types().indexOf(EXEC_MIME_TYPE) == -1) {\n",
       "      register_renderer(events, OutputArea);\n",
       "    }\n",
       "  }\n",
       "\n",
       "  \n",
       "  if (typeof (root._bokeh_timeout) === \"undefined\" || force === true) {\n",
       "    root._bokeh_timeout = Date.now() + 5000;\n",
       "    root._bokeh_failed_load = false;\n",
       "  }\n",
       "\n",
       "  var NB_LOAD_WARNING = {'data': {'text/html':\n",
       "     \"<div style='background-color: #fdd'>\\n\"+\n",
       "     \"<p>\\n\"+\n",
       "     \"BokehJS does not appear to have successfully loaded. If loading BokehJS from CDN, this \\n\"+\n",
       "     \"may be due to a slow or bad network connection. Possible fixes:\\n\"+\n",
       "     \"</p>\\n\"+\n",
       "     \"<ul>\\n\"+\n",
       "     \"<li>re-rerun `output_notebook()` to attempt to load from CDN again, or</li>\\n\"+\n",
       "     \"<li>use INLINE resources instead, as so:</li>\\n\"+\n",
       "     \"</ul>\\n\"+\n",
       "     \"<code>\\n\"+\n",
       "     \"from bokeh.resources import INLINE\\n\"+\n",
       "     \"output_notebook(resources=INLINE)\\n\"+\n",
       "     \"</code>\\n\"+\n",
       "     \"</div>\"}};\n",
       "\n",
       "  function display_loaded() {\n",
       "    var el = document.getElementById(\"934c16d0-57ed-4e99-a1b5-828e165df035\");\n",
       "    if (el != null) {\n",
       "      el.textContent = \"BokehJS is loading...\";\n",
       "    }\n",
       "    if (root.Bokeh !== undefined) {\n",
       "      if (el != null) {\n",
       "        el.textContent = \"BokehJS \" + root.Bokeh.version + \" successfully loaded.\";\n",
       "      }\n",
       "    } else if (Date.now() < root._bokeh_timeout) {\n",
       "      setTimeout(display_loaded, 100)\n",
       "    }\n",
       "  }\n",
       "\n",
       "\n",
       "  function run_callbacks() {\n",
       "    try {\n",
       "      root._bokeh_onload_callbacks.forEach(function(callback) { callback() });\n",
       "    }\n",
       "    finally {\n",
       "      delete root._bokeh_onload_callbacks\n",
       "    }\n",
       "    console.info(\"Bokeh: all callbacks have finished\");\n",
       "  }\n",
       "\n",
       "  function load_libs(js_urls, callback) {\n",
       "    root._bokeh_onload_callbacks.push(callback);\n",
       "    if (root._bokeh_is_loading > 0) {\n",
       "      console.log(\"Bokeh: BokehJS is being loaded, scheduling callback at\", now());\n",
       "      return null;\n",
       "    }\n",
       "    if (js_urls == null || js_urls.length === 0) {\n",
       "      run_callbacks();\n",
       "      return null;\n",
       "    }\n",
       "    console.log(\"Bokeh: BokehJS not loaded, scheduling load and callback at\", now());\n",
       "    root._bokeh_is_loading = js_urls.length;\n",
       "    for (var i = 0; i < js_urls.length; i++) {\n",
       "      var url = js_urls[i];\n",
       "      var s = document.createElement('script');\n",
       "      s.src = url;\n",
       "      s.async = false;\n",
       "      s.onreadystatechange = s.onload = function() {\n",
       "        root._bokeh_is_loading--;\n",
       "        if (root._bokeh_is_loading === 0) {\n",
       "          console.log(\"Bokeh: all BokehJS libraries loaded\");\n",
       "          run_callbacks()\n",
       "        }\n",
       "      };\n",
       "      s.onerror = function() {\n",
       "        console.warn(\"failed to load library \" + url);\n",
       "      };\n",
       "      console.log(\"Bokeh: injecting script tag for BokehJS library: \", url);\n",
       "      document.getElementsByTagName(\"head\")[0].appendChild(s);\n",
       "    }\n",
       "  };var element = document.getElementById(\"934c16d0-57ed-4e99-a1b5-828e165df035\");\n",
       "  if (element == null) {\n",
       "    console.log(\"Bokeh: ERROR: autoload.js configured with elementid '934c16d0-57ed-4e99-a1b5-828e165df035' but no matching script tag was found. \")\n",
       "    return false;\n",
       "  }\n",
       "\n",
       "  var js_urls = [\"https://cdn.pydata.org/bokeh/release/bokeh-0.12.16.min.js\", \"https://cdn.pydata.org/bokeh/release/bokeh-widgets-0.12.16.min.js\", \"https://cdn.pydata.org/bokeh/release/bokeh-tables-0.12.16.min.js\", \"https://cdn.pydata.org/bokeh/release/bokeh-gl-0.12.16.min.js\"];\n",
       "\n",
       "  var inline_js = [\n",
       "    function(Bokeh) {\n",
       "      Bokeh.set_log_level(\"info\");\n",
       "    },\n",
       "    \n",
       "    function(Bokeh) {\n",
       "      \n",
       "    },\n",
       "    function(Bokeh) {\n",
       "      console.log(\"Bokeh: injecting CSS: https://cdn.pydata.org/bokeh/release/bokeh-0.12.16.min.css\");\n",
       "      Bokeh.embed.inject_css(\"https://cdn.pydata.org/bokeh/release/bokeh-0.12.16.min.css\");\n",
       "      console.log(\"Bokeh: injecting CSS: https://cdn.pydata.org/bokeh/release/bokeh-widgets-0.12.16.min.css\");\n",
       "      Bokeh.embed.inject_css(\"https://cdn.pydata.org/bokeh/release/bokeh-widgets-0.12.16.min.css\");\n",
       "      console.log(\"Bokeh: injecting CSS: https://cdn.pydata.org/bokeh/release/bokeh-tables-0.12.16.min.css\");\n",
       "      Bokeh.embed.inject_css(\"https://cdn.pydata.org/bokeh/release/bokeh-tables-0.12.16.min.css\");\n",
       "    }\n",
       "  ];\n",
       "\n",
       "  function run_inline_js() {\n",
       "    \n",
       "    if ((root.Bokeh !== undefined) || (force === true)) {\n",
       "      for (var i = 0; i < inline_js.length; i++) {\n",
       "        inline_js[i].call(root, root.Bokeh);\n",
       "      }if (force === true) {\n",
       "        display_loaded();\n",
       "      }} else if (Date.now() < root._bokeh_timeout) {\n",
       "      setTimeout(run_inline_js, 100);\n",
       "    } else if (!root._bokeh_failed_load) {\n",
       "      console.log(\"Bokeh: BokehJS failed to load within specified timeout.\");\n",
       "      root._bokeh_failed_load = true;\n",
       "    } else if (force !== true) {\n",
       "      var cell = $(document.getElementById(\"934c16d0-57ed-4e99-a1b5-828e165df035\")).parents('.cell').data().cell;\n",
       "      cell.output_area.append_execute_result(NB_LOAD_WARNING)\n",
       "    }\n",
       "\n",
       "  }\n",
       "\n",
       "  if (root._bokeh_is_loading === 0) {\n",
       "    console.log(\"Bokeh: BokehJS loaded, going straight to plotting\");\n",
       "    run_inline_js();\n",
       "  } else {\n",
       "    load_libs(js_urls, function() {\n",
       "      console.log(\"Bokeh: BokehJS plotting callback run at\", now());\n",
       "      run_inline_js();\n",
       "    });\n",
       "  }\n",
       "}(window));"
      ],
      "application/vnd.bokehjs_load.v0+json": "\n(function(root) {\n  function now() {\n    return new Date();\n  }\n\n  var force = true;\n\n  if (typeof (root._bokeh_onload_callbacks) === \"undefined\" || force === true) {\n    root._bokeh_onload_callbacks = [];\n    root._bokeh_is_loading = undefined;\n  }\n\n  \n\n  \n  if (typeof (root._bokeh_timeout) === \"undefined\" || force === true) {\n    root._bokeh_timeout = Date.now() + 5000;\n    root._bokeh_failed_load = false;\n  }\n\n  var NB_LOAD_WARNING = {'data': {'text/html':\n     \"<div style='background-color: #fdd'>\\n\"+\n     \"<p>\\n\"+\n     \"BokehJS does not appear to have successfully loaded. If loading BokehJS from CDN, this \\n\"+\n     \"may be due to a slow or bad network connection. Possible fixes:\\n\"+\n     \"</p>\\n\"+\n     \"<ul>\\n\"+\n     \"<li>re-rerun `output_notebook()` to attempt to load from CDN again, or</li>\\n\"+\n     \"<li>use INLINE resources instead, as so:</li>\\n\"+\n     \"</ul>\\n\"+\n     \"<code>\\n\"+\n     \"from bokeh.resources import INLINE\\n\"+\n     \"output_notebook(resources=INLINE)\\n\"+\n     \"</code>\\n\"+\n     \"</div>\"}};\n\n  function display_loaded() {\n    var el = document.getElementById(\"934c16d0-57ed-4e99-a1b5-828e165df035\");\n    if (el != null) {\n      el.textContent = \"BokehJS is loading...\";\n    }\n    if (root.Bokeh !== undefined) {\n      if (el != null) {\n        el.textContent = \"BokehJS \" + root.Bokeh.version + \" successfully loaded.\";\n      }\n    } else if (Date.now() < root._bokeh_timeout) {\n      setTimeout(display_loaded, 100)\n    }\n  }\n\n\n  function run_callbacks() {\n    try {\n      root._bokeh_onload_callbacks.forEach(function(callback) { callback() });\n    }\n    finally {\n      delete root._bokeh_onload_callbacks\n    }\n    console.info(\"Bokeh: all callbacks have finished\");\n  }\n\n  function load_libs(js_urls, callback) {\n    root._bokeh_onload_callbacks.push(callback);\n    if (root._bokeh_is_loading > 0) {\n      console.log(\"Bokeh: BokehJS is being loaded, scheduling callback at\", now());\n      return null;\n    }\n    if (js_urls == null || js_urls.length === 0) {\n      run_callbacks();\n      return null;\n    }\n    console.log(\"Bokeh: BokehJS not loaded, scheduling load and callback at\", now());\n    root._bokeh_is_loading = js_urls.length;\n    for (var i = 0; i < js_urls.length; i++) {\n      var url = js_urls[i];\n      var s = document.createElement('script');\n      s.src = url;\n      s.async = false;\n      s.onreadystatechange = s.onload = function() {\n        root._bokeh_is_loading--;\n        if (root._bokeh_is_loading === 0) {\n          console.log(\"Bokeh: all BokehJS libraries loaded\");\n          run_callbacks()\n        }\n      };\n      s.onerror = function() {\n        console.warn(\"failed to load library \" + url);\n      };\n      console.log(\"Bokeh: injecting script tag for BokehJS library: \", url);\n      document.getElementsByTagName(\"head\")[0].appendChild(s);\n    }\n  };var element = document.getElementById(\"934c16d0-57ed-4e99-a1b5-828e165df035\");\n  if (element == null) {\n    console.log(\"Bokeh: ERROR: autoload.js configured with elementid '934c16d0-57ed-4e99-a1b5-828e165df035' but no matching script tag was found. \")\n    return false;\n  }\n\n  var js_urls = [\"https://cdn.pydata.org/bokeh/release/bokeh-0.12.16.min.js\", \"https://cdn.pydata.org/bokeh/release/bokeh-widgets-0.12.16.min.js\", \"https://cdn.pydata.org/bokeh/release/bokeh-tables-0.12.16.min.js\", \"https://cdn.pydata.org/bokeh/release/bokeh-gl-0.12.16.min.js\"];\n\n  var inline_js = [\n    function(Bokeh) {\n      Bokeh.set_log_level(\"info\");\n    },\n    \n    function(Bokeh) {\n      \n    },\n    function(Bokeh) {\n      console.log(\"Bokeh: injecting CSS: https://cdn.pydata.org/bokeh/release/bokeh-0.12.16.min.css\");\n      Bokeh.embed.inject_css(\"https://cdn.pydata.org/bokeh/release/bokeh-0.12.16.min.css\");\n      console.log(\"Bokeh: injecting CSS: https://cdn.pydata.org/bokeh/release/bokeh-widgets-0.12.16.min.css\");\n      Bokeh.embed.inject_css(\"https://cdn.pydata.org/bokeh/release/bokeh-widgets-0.12.16.min.css\");\n      console.log(\"Bokeh: injecting CSS: https://cdn.pydata.org/bokeh/release/bokeh-tables-0.12.16.min.css\");\n      Bokeh.embed.inject_css(\"https://cdn.pydata.org/bokeh/release/bokeh-tables-0.12.16.min.css\");\n    }\n  ];\n\n  function run_inline_js() {\n    \n    if ((root.Bokeh !== undefined) || (force === true)) {\n      for (var i = 0; i < inline_js.length; i++) {\n        inline_js[i].call(root, root.Bokeh);\n      }if (force === true) {\n        display_loaded();\n      }} else if (Date.now() < root._bokeh_timeout) {\n      setTimeout(run_inline_js, 100);\n    } else if (!root._bokeh_failed_load) {\n      console.log(\"Bokeh: BokehJS failed to load within specified timeout.\");\n      root._bokeh_failed_load = true;\n    } else if (force !== true) {\n      var cell = $(document.getElementById(\"934c16d0-57ed-4e99-a1b5-828e165df035\")).parents('.cell').data().cell;\n      cell.output_area.append_execute_result(NB_LOAD_WARNING)\n    }\n\n  }\n\n  if (root._bokeh_is_loading === 0) {\n    console.log(\"Bokeh: BokehJS loaded, going straight to plotting\");\n    run_inline_js();\n  } else {\n    load_libs(js_urls, function() {\n      console.log(\"Bokeh: BokehJS plotting callback run at\", now());\n      run_inline_js();\n    });\n  }\n}(window));"
     },
     "metadata": {},
     "output_type": "display_data"
    },
    {
     "name": "stdout",
     "output_type": "stream",
     "text": [
      "[ 4.20833333e-02 -4.04000000e+00  8.41666667e+00 -6.30618750e+03\n",
      "  5.05000000e+01] 6.62836911556329e+25\n",
      "[ 4.12458750e-02 -3.95960400e+00  8.24917500e+00 -6.18069437e+03\n",
      "  4.94950500e+01] 6.62836911556329e+25\n"
     ]
    }
   ],
   "source": [
    "params=powerpolyparamsgen(xdat[1:], ydat[1:],seed, maxiter, learningrate, tol)"
   ]
  },
  {
   "cell_type": "code",
   "execution_count": 96,
   "metadata": {},
   "outputs": [
    {
     "data": {
      "text/plain": [
       "[0.041245875,\n",
       " -3.959604,\n",
       " 8.249175,\n",
       " -6180.69436875,\n",
       " 551202.0574189987,\n",
       " -13140776.368305208,\n",
       " 49.49505]"
      ]
     },
     "execution_count": 96,
     "metadata": {},
     "output_type": "execute_result"
    }
   ],
   "source": [
    "params"
   ]
  },
  {
   "cell_type": "code",
   "execution_count": 102,
   "metadata": {},
   "outputs": [
    {
     "data": {
      "image/png": "[encoded data removed]",
      "text/plain": [
       "<Figure size 432x288 with 1 Axes>"
      ]
     },
     "metadata": {},
     "output_type": "display_data"
    }
   ],
   "source": [
    "import matplotlib.pyplot as plt\n",
    "plt.title(\"Powerlaw polynomial fit to US airport data\")\n",
    "plt.xlabel(\"Airport\")\n",
    "plt.ylabel(\"Vowel/Consonant ratio\")\n",
    "plt.bar(xdat[1:],ydat[1:], color='c')\n",
    "plt.plot(xdat[1:],powerpolynooffset(xdat[1:],params), color='k')\n",
    "plt.show()"
   ]
  },
  {
   "cell_type": "markdown",
   "metadata": {},
   "source": [
    "Needless to say, it's a bad fit. I think the power law is the problem. I will go back to investigating other possible directions, such as the random forests Zachary Glassman suggested.'"
   ]
  },
  {
   "cell_type": "code",
   "execution_count": null,
   "metadata": {
    "collapsed": true
   },
   "outputs": [],
   "source": []
  }
 ],
 "metadata": {
  "kernelspec": {
   "display_name": "Python 3",
   "language": "python",
   "name": "python3"
  },
  "language_info": {
   "codemirror_mode": {
    "name": "ipython",
    "version": 3
   },
   "file_extension": ".py",
   "mimetype": "text/x-python",
   "name": "python",
   "nbconvert_exporter": "python",
   "pygments_lexer": "ipython3",
   "version": "3.6.2"
  }
 },
 "nbformat": 4,
 "nbformat_minor": 2
}
