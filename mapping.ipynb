{
 "cells": [
  {
   "cell_type": "code",
   "execution_count": 1,
   "metadata": {
    "collapsed": true
   },
   "outputs": [],
   "source": [
    "#!/usr/bin/python\n",
    "import os, sys\n",
    "\n",
    "from sklearn.preprocessing import StandardScaler\n",
    "import matplotlib.cm as cm\n",
    "import matplotlib.pyplot as plt\n",
    "import numpy as np\n",
    "from io import StringIO\n",
    "import re\n",
    "from sklearn.decomposition import KernelPCA\n",
    "from sklearn.svm import SVR\n",
    "from sklearn.linear_model import LinearRegression\n",
    "from sklearn.preprocessing import StandardScaler\n",
    "from sklearn.model_selection import train_test_split\n",
    "file = open(\"airports-extended.dat.txt\",\"r\")\n",
    "\n"
   ]
  },
  {
   "cell_type": "code",
   "execution_count": 2,
   "metadata": {
    "collapsed": true
   },
   "outputs": [],
   "source": [
    "\n",
    "def powerlaw(x,a,b,c):\n",
    "    return a*x**b+c\n",
    "\n",
    "def f5(x,a,b,c,d,g,h):\n",
    "    return a*x**5+b*x**4+c*x**3+d*x**2+g*x+h\n",
    "\n",
    "def f3(x,a,b,c,d):\n",
    "    return a*x**3+b*x**2+c*x+d\n",
    "\n",
    "\n",
    "def VowelToConsRatio(name):\n",
    "    \n",
    "    words = sum(c.isalpha() for c in name)\n",
    "    spaces = sum(c.isspace() for c in name)\n",
    "    others = len(name) - words - spaces\n",
    "    vowels = sum(map(name.lower().count, \"aeiou\"))\n",
    "    consonents = words - vowels\n",
    "\n",
    "\n",
    "    return float(vowels)/float(consonents), float(spaces)/float(consonents), float(others)/float(consonents)\n",
    "\n",
    "\n",
    "\n",
    "def MergeCount(totalCount, thisCount):\n",
    "    totalCount2=totalCount+thisCount\n",
    "    return totalCount2\n",
    "\n",
    "\n",
    "\n",
    "def LatLongClassMaker(coor):\n",
    "    lat,long=coor\n",
    "    if lat<30:\n",
    "        if long>-90:\n",
    "            return 1 #florida\n",
    "        elif long < -120:\n",
    "            return 2 #hawaii\n",
    "        else:\n",
    "            return 3 #texas\n",
    "    elif lat >50:\n",
    "        return 4 #alaska\n",
    "    elif long> -80 and lat < 40:\n",
    "        return 5 #south east\n",
    "    elif long> -80 and lat >40:\n",
    "        return 6 #new england\n",
    "    elif long< -80:\n",
    "        return int((50-lat)/20.*5)*int((125+long)/45.*9)+7\n",
    "    else:\n",
    "        return 0\n",
    "    #worst mapping ever-- ignores new england and city diversity\n",
    "    return 0\n",
    "ratio=[]\n",
    "coords=[]\n",
    "\n"
   ]
  },
  {
   "cell_type": "code",
   "execution_count": 3,
   "metadata": {
    "collapsed": true
   },
   "outputs": [],
   "source": [
    "\n",
    "for line in file:\n",
    "    line=re.split(',',line);\n",
    "\n",
    "    if line[3] == \"\\\"United States\\\"\":\n",
    "        thisratioV, thisratioS, thisratioO=VowelToConsRatio(line[1]);\n",
    "        ratio.append([thisratioV,thisratioS,thisratioO])\n",
    "        coords.append([float(line[6]),float(line[7])])\n",
    "\n",
    "\n",
    "ratioarray=np.empty([len(ratio),3])\n",
    "coordsarray=np.empty([len(coords),2])\n",
    "regionarray=np.empty([len(coords)])\n",
    "\n",
    "for i, rat in enumerate(ratio):\n",
    "    ratioarray[i,:]=rat\n",
    "for i,coor in enumerate(coords):\n",
    "    coordsarray[i,:]=coor\n",
    "#    outputcoor=LatLongClassMaker(coor)\n",
    "#    regionarray[i]=outputcoor\n",
    "\n",
    "\n"
   ]
  },
  {
   "cell_type": "code",
   "execution_count": 4,
   "metadata": {
    "collapsed": true
   },
   "outputs": [],
   "source": [
    "testphrases=[\"Ufda!\", \"I just dont know about that\", \"Howdy, pardner\", \"Where are we?\", \"I thank whatever gods may be for my unconquerable soul.\", \"I welcome our new robot overlords\", \"l33t h4k3rs\", \"I know you I walked with you once upon a dream\", \"These stories dont mean anything if you have no one to tell them to\", \"Baby you have the sort of hands that rip me apart\",\"Multi-messenger astronomy\", \"Rainbow flag\", \"I prefer They or He?\", \"numerical relativity\", \"LIGO\", \"scalar field\", \"Osculating Orbits\", \"Monte-Carlo Simulation\", \"Data Analysis\", \"Data Science\", \"Parallelization\", \"Paralyzation\", \"Partial disability\", \"Non-epileptic seizures\", \"Wednesday Lunch\", \"Tuesday Lunch\", \"Thursday Lunch\", \"Guild Wars\", \"Elvenar\", \"Good Apple\"]\n",
    "\n",
    "\n",
    "colleaguephrases=[\"general relativity\", \"black hole\", \"loop quantum gravity\",  \"quantization\", \"space-time\", \"Hamiltonian constraint\", \"Ashtekar\", \"LiSA\", \"LIGO\", \"group\", \"white hole\", \"scalar field\", \"numerical relativity\", \"cosmology\", \"diffeomorphism\", \"continuum limit\", \"David Berger\", \"Reisner-Nordstrom\", \"black hole spacetime\", \"initial data\", \"interpretation of quantum mechanics\"]\n",
    "\n"
   ]
  },
  {
   "cell_type": "code",
   "execution_count": 5,
   "metadata": {},
   "outputs": [
    {
     "name": "stdout",
     "output_type": "stream",
     "text": [
      "Ufda!\n",
      "I just dont know about that\n",
      "Howdy, pardner\n",
      "Where are we?\n",
      "I thank whatever gods may be for my unconquerable soul.\n",
      "I welcome our new robot overlords\n",
      "l33t h4k3rs\n",
      "I know you I walked with you once upon a dream\n",
      "These stories dont mean anything if you have no one to tell them to\n",
      "Baby you have the sort of hands that rip me apart\n",
      "Multi-messenger astronomy\n",
      "Rainbow flag\n",
      "I prefer They or He?\n",
      "numerical relativity\n",
      "LIGO\n",
      "scalar field\n",
      "Osculating Orbits\n",
      "Monte-Carlo Simulation\n",
      "Data Analysis\n",
      "Data Science\n",
      "Parallelization\n",
      "Paralyzation\n",
      "Partial disability\n",
      "Non-epileptic seizures\n",
      "Wednesday Lunch\n",
      "Tuesday Lunch\n",
      "Thursday Lunch\n",
      "Guild Wars\n",
      "Elvenar\n",
      "Good Apple\n",
      "general relativity\n",
      "black hole\n",
      "loop quantum gravity\n",
      "quantization\n",
      "space-time\n",
      "Hamiltonian constraint\n",
      "Ashtekar\n",
      "LiSA\n",
      "LIGO\n",
      "group\n",
      "white hole\n",
      "scalar field\n",
      "numerical relativity\n",
      "cosmology\n",
      "diffeomorphism\n",
      "continuum limit\n",
      "David Berger\n",
      "Reisner-Nordstrom\n",
      "black hole spacetime\n",
      "initial data\n",
      "interpretation of quantum mechanics\n",
      "[[1.0, 0.0, 0.5], [0.5714285714285714, 0.35714285714285715, 0.0], [0.3333333333333333, 0.1111111111111111, 0.1111111111111111], [1.0, 0.4, 0.2], [0.6071428571428571, 0.32142857142857145, 0.03571428571428571], [0.75, 0.3125, 0.0], [0.0, 0.16666666666666666, 0.6666666666666666], [0.8947368421052632, 0.5263157894736842, 0.0], [0.6875, 0.40625, 0.0], [0.56, 0.4, 0.0], [0.5333333333333333, 0.06666666666666667, 0.06666666666666667], [0.5714285714285714, 0.14285714285714285, 0.0], [0.6666666666666666, 0.4444444444444444, 0.1111111111111111], [0.7272727272727273, 0.09090909090909091, 0.0], [1.0, 0.0, 0.0], [0.5714285714285714, 0.14285714285714285, 0.0], [0.6, 0.1, 0.0], [0.8181818181818182, 0.09090909090909091, 0.09090909090909091], [0.7142857142857143, 0.14285714285714285, 0.0], [0.8333333333333334, 0.16666666666666666, 0.0], [0.875, 0.0, 0.0], [0.7142857142857143, 0.0, 0.0], [0.7, 0.1, 0.0], [0.8181818181818182, 0.09090909090909091, 0.09090909090909091], [0.4, 0.1, 0.0], [0.5, 0.125, 0.0], [0.3, 0.1, 0.0], [0.5, 0.16666666666666666, 0.0], [0.75, 0.0, 0.0], [0.8, 0.2, 0.0]]\n"
     ]
    }
   ],
   "source": [
    "xphrases=[]\n",
    "for phrase in testphrases:\n",
    "    print(phrase)\n",
    "    vtc, stc, otc = VowelToConsRatio(phrase)\n",
    "    xphrases.append([vtc,stc,otc])\n",
    "xcolleague=[]\n",
    "for phrase in colleaguephrases:\n",
    "    print(phrase)\n",
    "    vtc, stc, otc = VowelToConsRatio(phrase)\n",
    "    xcolleague.append([vtc,stc,otc])\n",
    "\n",
    "print(xphrases)\n",
    "\n",
    "\n"
   ]
  },
  {
   "cell_type": "code",
   "execution_count": 6,
   "metadata": {
    "collapsed": true
   },
   "outputs": [],
   "source": [
    "xtrain,xtest,ytrain,ytest=train_test_split(ratioarray,coordsarray,test_size=0.33,shuffle=False, random_state=False)\n",
    "\n",
    "scaler = StandardScaler()\n",
    "xtrain2=scaler.fit_transform(xtrain)\n",
    "xtest2=scaler.fit_transform(xtest)\n",
    "xphrases2=scaler.fit_transform(xphrases)\n",
    "xcolleague2=scaler.fit_transform(xcolleague)\n",
    "\n",
    "\n",
    "\n"
   ]
  },
  {
   "cell_type": "code",
   "execution_count": 30,
   "metadata": {},
   "outputs": [
    {
     "data": {
      "text/plain": [
       "1536"
      ]
     },
     "execution_count": 30,
     "metadata": {},
     "output_type": "execute_result"
    }
   ],
   "source": [
    "trainshp=np.shape(ytrain)\n",
    "testshp=np.shape(ytest)\n",
    "trainshp[0]"
   ]
  },
  {
   "cell_type": "code",
   "execution_count": 40,
   "metadata": {
    "collapsed": true
   },
   "outputs": [],
   "source": [
    "ytrain_flat = ytrain.flatten()\n",
    "ytest_flat=ytest.flatten()"
   ]
  },
  {
   "cell_type": "code",
   "execution_count": 39,
   "metadata": {},
   "outputs": [
    {
     "data": {
      "text/plain": [
       "(3072,)"
      ]
     },
     "execution_count": 39,
     "metadata": {},
     "output_type": "execute_result"
    }
   ],
   "source": [
    "np.shape(ytrain_flat)"
   ]
  },
  {
   "cell_type": "code",
   "execution_count": 43,
   "metadata": {},
   "outputs": [
    {
     "ename": "SyntaxError",
     "evalue": "invalid syntax (<ipython-input-43-0ff9082bf1e6>, line 5)",
     "output_type": "error",
     "traceback": [
      "\u001b[0;36m  File \u001b[0;32m\"<ipython-input-43-0ff9082bf1e6>\"\u001b[0;36m, line \u001b[0;32m5\u001b[0m\n\u001b[0;31m    latlongpred=clf.predict(xtrain2)\u001b[0m\n\u001b[0m              ^\u001b[0m\n\u001b[0;31mSyntaxError\u001b[0m\u001b[0;31m:\u001b[0m invalid syntax\n"
     ]
    }
   ],
   "source": [
    "\n",
    "\n",
    "clf=SVR(C=3.0, coef0=0.0, degree=3, kernel='poly', max_iter=-1, shrinking=False, tol=0.001, verbose=True)\n",
    "clf.fit(xtrain2, ytrain.reshape(ytrain_flat)\n",
    "latlongpred=clf.predict(xtrain2)\n",
    "latlong=pred.reshape([np.shape(ytrain)])\n",
    "\n",
    "\n",
    "\n",
    "\n"
   ]
  },
  {
   "cell_type": "code",
   "execution_count": 20,
   "metadata": {},
   "outputs": [
    {
     "name": "stdout",
     "output_type": "stream",
     "text": [
      "-0.12734413902254915\n",
      "-0.6996848676167473\n"
     ]
    }
   ],
   "source": [
    "print(clf.score(xtest,ytest_flat)\n"
   ]
  },
  {
   "cell_type": "code",
   "execution_count": null,
   "metadata": {
    "collapsed": true
   },
   "outputs": [],
   "source": []
  },
  {
   "cell_type": "code",
   "execution_count": 10,
   "metadata": {},
   "outputs": [
    {
     "data": {
      "text/plain": [
       "array([39.73828502, 40.32247205, 40.02763475, ..., 40.32405628,\n",
       "       40.3635107 , 40.10553074])"
      ]
     },
     "execution_count": 10,
     "metadata": {},
     "output_type": "execute_result"
    }
   ],
   "source": [
    "predlongitude"
   ]
  },
  {
   "cell_type": "code",
   "execution_count": 21,
   "metadata": {},
   "outputs": [
    {
     "data": {
      "image/png": "[encoded data removed]",
      "text/plain": [
       "<Figure size 432x288 with 1 Axes>"
      ]
     },
     "metadata": {},
     "output_type": "display_data"
    }
   ],
   "source": [
    "plt.figure()\n",
    "plt.title(\"Support Vector Regressor approach, US data\")\n",
    "plt.xlabel(\"Longitude\")\n",
    "plt.ylabel(\"Latitude\")\n",
    "plt.scatter(ytrain[:,1], ytrain[:,0], c='c', label=\"Training data set\")\n",
    "plt.scatter(predlongitude,predlatitude,c='r', label=\"Verification data, as mapped\")\n",
    "#plt.scatter(phraselongpred,phraselatpred,c='b',label=\"My test phrases, I live in Minnesota right now\")\n",
    "#plt.scatter(phraselongcolleague, phraselatcolleague, c='y', label=\"Colleagues test phrases, he lives in Louisiana right now\")\n",
    "#plt.scatter(phraselongpred[0],phraselatpred[1],c='b',label=testphrases[0])\n",
    "#plt.scatter(phraselongpred[1],phraselatpred[1],c='m',label=testphrases[1])\n",
    "#plt.scatter(phraselongpred[2],phraselatpred[1],c='c',label=testphrases[2])\n",
    "#plt.scatter(phraselongpred[3],phraselatpred[1],c='g',label=testphrases[3])\n",
    "#plt.scatter(phraselongpred[4],phraselatpred[1],c='y',label=testphrases[4])\n",
    "#plt.scatter(phraselongpred[5],phraselatpred[1],c='y',label=testphrases[5])\n",
    "#plt.scatter(phraselongpred[6],phraselatpred[1],c='y',label=testphrases[6])\n",
    "#plt.scatter(phraselongpred[7],phraselatpred[1],c='y',label=testphrases[7])\n",
    "#plt.scatter(phraselongpred[8],phraselatpred[1],c='y',label=testphrases[8])\n",
    "#plt.scatter(phraselongpred[9],phraselatpred[1],c='y',label=testphrases[9])\n",
    "#plt.scatter(phraselongpred[10],phraselatpred[1],c='y',label=testphrases[10])\n",
    "#plt.scatter(phraselongpred[11],phraselatpred[1],c='y',label=testphrases[11])\n",
    "plt.legend(loc=\"lower right\")\n",
    "plt.show()\n",
    "\n",
    "\n",
    "\n",
    "\n",
    "\n",
    "\n",
    "\n"
   ]
  },
  {
   "cell_type": "code",
   "execution_count": null,
   "metadata": {
    "collapsed": true
   },
   "outputs": [],
   "source": []
  }
 ],
 "metadata": {
  "kernelspec": {
   "display_name": "Python 3",
   "language": "python",
   "name": "python3"
  },
  "language_info": {
   "codemirror_mode": {
    "name": "ipython",
    "version": 3
   },
   "file_extension": ".py",
   "mimetype": "text/x-python",
   "name": "python",
   "nbconvert_exporter": "python",
   "pygments_lexer": "ipython3",
   "version": "3.6.2"
  }
 },
 "nbformat": 4,
 "nbformat_minor": 2
}
